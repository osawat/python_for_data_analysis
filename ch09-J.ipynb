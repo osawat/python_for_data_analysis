{
 "cells": [
  {
   "cell_type": "markdown",
   "metadata": {},
   "source": [
    "# 9章 データの集約とグループ演算"
   ]
  },
  {
   "cell_type": "code",
   "execution_count": 1,
   "metadata": {
    "ExecuteTime": {
     "end_time": "2017-10-24T08:12:35.001848Z",
     "start_time": "2017-10-24T08:12:34.995843Z"
    },
    "collapsed": true
   },
   "outputs": [],
   "source": [
    "from __future__ import division\n",
    "from numpy.random import randn\n",
    "import numpy as np\n",
    "import os\n",
    "import matplotlib.pyplot as plt\n",
    "np.random.seed(12345)\n",
    "plt.rc('figure', figsize=(10, 6))\n",
    "from pandas import Series, DataFrame\n",
    "import pandas as pd\n",
    "np.set_printoptions(precision=4)"
   ]
  },
  {
   "cell_type": "code",
   "execution_count": 2,
   "metadata": {
    "ExecuteTime": {
     "end_time": "2017-10-24T08:12:35.037943Z",
     "start_time": "2017-10-24T08:12:35.003858Z"
    },
    "collapsed": true
   },
   "outputs": [],
   "source": [
    "#pd.options.display.notebook_repr_html = False"
   ]
  },
  {
   "cell_type": "code",
   "execution_count": 3,
   "metadata": {
    "ExecuteTime": {
     "end_time": "2017-10-24T08:12:35.079085Z",
     "start_time": "2017-10-24T08:12:35.039949Z"
    },
    "collapsed": true
   },
   "outputs": [],
   "source": [
    "%matplotlib inline"
   ]
  },
  {
   "cell_type": "markdown",
   "metadata": {},
   "source": [
    "- この章で学ぶこと\n",
    " - pandas のオブジェクトを 1 つあるいは複数のキー（関数や配列、データフレームの列名の形式で 指定）を用いて分割する方法。\n",
    " -  グループの要約統計量の計算方法。具体的には、個数のカウント、中央値、標準偏差や、ユーザが 定義した関数などの計算方法。\n",
    " -  さまざまな関数のセットをデータフレームのそれぞれの列に適用する方法。\n",
    " -  グループ内の変換やその他のデータ操作（正規化、線形回帰、順位、部分集合の選択）。\n",
    " -  ピボットテーブルとクロス集計の計算。\n",
    " -  分位点分析やその他のデータから生成されたグループに関する分析"
   ]
  },
  {
   "cell_type": "markdown",
   "metadata": {},
   "source": [
    "## 9.1 GroupBy の仕組み"
   ]
  },
  {
   "cell_type": "markdown",
   "metadata": {},
   "source": [
    "- R 言語のさまざまな有名なパッケージを作っているハドレー・ウィッカム氏によって、\n",
    "- グループ演算のプロセスを説明するために作られた言葉が\n",
    "- **分離-適用-結合** (**split-apply-combine**)です。"
   ]
  },
  {
   "cell_type": "markdown",
   "metadata": {},
   "source": [
    "<img width=\"60%\"  src=\"data:image/png;base64,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\">"
   ]
  },
  {
   "cell_type": "markdown",
   "metadata": {},
   "source": [
    "- グルーピングに使用するキーはさまざまな形式を取ることができ、\n",
    "- また、すべて同じ型である必要もありません。\n",
    "\n",
    " -  値のリストや配列（グループされる軸と同じ長さのもの）\n",
    " <br><br>\n",
    " -  データフレームの列名を示す値\n",
    " - ディクショナリ形式あるいはシリーズ形式（グループされる軸の値とグループ名の間の対応が取れている場合）\n",
    " -  軸のインデックスあるいはそれぞれのインデックスのラベルに対して呼び出される関数\n",
    "<br><br> \n",
    "- この手法のうち後者 3 つは、オブジェクトを分離するために使う値の配列を簡単に生成する手段です"
   ]
  },
  {
   "cell_type": "code",
   "execution_count": 4,
   "metadata": {
    "ExecuteTime": {
     "end_time": "2017-10-24T08:12:35.110136Z",
     "start_time": "2017-10-24T08:12:35.081059Z"
    }
   },
   "outputs": [
    {
     "data": {
      "text/html": [
       "<div>\n",
       "<style>\n",
       "    .dataframe thead tr:only-child th {\n",
       "        text-align: right;\n",
       "    }\n",
       "\n",
       "    .dataframe thead th {\n",
       "        text-align: left;\n",
       "    }\n",
       "\n",
       "    .dataframe tbody tr th {\n",
       "        vertical-align: top;\n",
       "    }\n",
       "</style>\n",
       "<table border=\"1\" class=\"dataframe\">\n",
       "  <thead>\n",
       "    <tr style=\"text-align: right;\">\n",
       "      <th></th>\n",
       "      <th>data1</th>\n",
       "      <th>data2</th>\n",
       "      <th>key1</th>\n",
       "      <th>key2</th>\n",
       "    </tr>\n",
       "  </thead>\n",
       "  <tbody>\n",
       "    <tr>\n",
       "      <th>0</th>\n",
       "      <td>-0.204708</td>\n",
       "      <td>1.393406</td>\n",
       "      <td>a</td>\n",
       "      <td>one</td>\n",
       "    </tr>\n",
       "    <tr>\n",
       "      <th>1</th>\n",
       "      <td>0.478943</td>\n",
       "      <td>0.092908</td>\n",
       "      <td>a</td>\n",
       "      <td>two</td>\n",
       "    </tr>\n",
       "    <tr>\n",
       "      <th>2</th>\n",
       "      <td>-0.519439</td>\n",
       "      <td>0.281746</td>\n",
       "      <td>b</td>\n",
       "      <td>one</td>\n",
       "    </tr>\n",
       "    <tr>\n",
       "      <th>3</th>\n",
       "      <td>-0.555730</td>\n",
       "      <td>0.769023</td>\n",
       "      <td>b</td>\n",
       "      <td>two</td>\n",
       "    </tr>\n",
       "    <tr>\n",
       "      <th>4</th>\n",
       "      <td>1.965781</td>\n",
       "      <td>1.246435</td>\n",
       "      <td>a</td>\n",
       "      <td>one</td>\n",
       "    </tr>\n",
       "  </tbody>\n",
       "</table>\n",
       "</div>"
      ],
      "text/plain": [
       "      data1     data2 key1 key2\n",
       "0 -0.204708  1.393406    a  one\n",
       "1  0.478943  0.092908    a  two\n",
       "2 -0.519439  0.281746    b  one\n",
       "3 -0.555730  0.769023    b  two\n",
       "4  1.965781  1.246435    a  one"
      ]
     },
     "execution_count": 4,
     "metadata": {},
     "output_type": "execute_result"
    }
   ],
   "source": [
    "df = DataFrame({'key1' : ['a', 'a', 'b', 'b', 'a'],\n",
    "                'key2' : ['one', 'two', 'one', 'two', 'one'],\n",
    "                'data1' : np.random.randn(5),\n",
    "                'data2' : np.random.randn(5)})\n",
    "df"
   ]
  },
  {
   "cell_type": "markdown",
   "metadata": {},
   "source": [
    "- groupby の引数は 列オブジェクト(Series)\n",
    "- 戻り値は SeriesGroupBy オブジェクト"
   ]
  },
  {
   "cell_type": "code",
   "execution_count": 5,
   "metadata": {
    "ExecuteTime": {
     "end_time": "2017-10-24T08:12:35.147234Z",
     "start_time": "2017-10-24T08:12:35.113145Z"
    }
   },
   "outputs": [
    {
     "data": {
      "text/plain": [
       "<pandas.core.groupby.SeriesGroupBy object at 0x000002519038E780>"
      ]
     },
     "execution_count": 5,
     "metadata": {},
     "output_type": "execute_result"
    }
   ],
   "source": [
    "grouped = df['data1'].groupby(df['key1'])\n",
    "grouped"
   ]
  },
  {
   "cell_type": "code",
   "execution_count": 6,
   "metadata": {
    "ExecuteTime": {
     "end_time": "2017-10-24T08:12:35.183331Z",
     "start_time": "2017-10-24T08:12:35.149240Z"
    }
   },
   "outputs": [
    {
     "name": "stdout",
     "output_type": "stream",
     "text": [
      "<class 'pandas.core.groupby.SeriesGroupBy'>\n",
      "[('a', 0   -0.204708\n",
      "1    0.478943\n",
      "4    1.965781\n",
      "Name: data1, dtype: float64), ('b', 2   -0.519439\n",
      "3   -0.555730\n",
      "Name: data1, dtype: float64)]\n"
     ]
    }
   ],
   "source": [
    "\"\"\"\n",
    "内部的にGroupByに対応する中間データが生成さる(SeriesGroupByオブジェクト)\n",
    "オブジェクトを生成後に、集合関数を指定したほうが効率がイイ!?(再利用できる)\n",
    "以前は、how=集合関数 形式だった (depricated)\n",
    "\"\"\"\n",
    "print( type(grouped) )\n",
    "print( list(grouped) )"
   ]
  },
  {
   "cell_type": "code",
   "execution_count": 7,
   "metadata": {
    "ExecuteTime": {
     "end_time": "2017-10-24T08:12:35.219428Z",
     "start_time": "2017-10-24T08:12:35.185337Z"
    },
    "scrolled": true
   },
   "outputs": [
    {
     "data": {
      "text/plain": [
       "[('a',       data1     data2 key1 key2\n",
       "  0 -0.204708  1.393406    a  one\n",
       "  1  0.478943  0.092908    a  two\n",
       "  4  1.965781  1.246435    a  one), ('b',       data1     data2 key1 key2\n",
       "  2 -0.519439  0.281746    b  one\n",
       "  3 -0.555730  0.769023    b  two)]"
      ]
     },
     "execution_count": 7,
     "metadata": {},
     "output_type": "execute_result"
    }
   ],
   "source": [
    "\"\"\" データ列を指定しないと全ての列が対象となっている\"\"\"\n",
    "\"\"\" select * from hoge group by 的なこと \"\"\"\n",
    "list(df.groupby(\"key1\"))"
   ]
  },
  {
   "cell_type": "code",
   "execution_count": 8,
   "metadata": {
    "ExecuteTime": {
     "end_time": "2017-10-24T08:12:35.250511Z",
     "start_time": "2017-10-24T08:12:35.221433Z"
    }
   },
   "outputs": [
    {
     "data": {
      "text/plain": [
       "key1\n",
       "a    0.746672\n",
       "b   -0.537585\n",
       "Name: data1, dtype: float64"
      ]
     },
     "execution_count": 8,
     "metadata": {},
     "output_type": "execute_result"
    }
   ],
   "source": [
    "\"\"\"groupByオブジェクトに集合演算を行う\"\"\"\n",
    "grouped.mean()"
   ]
  },
  {
   "cell_type": "code",
   "execution_count": 9,
   "metadata": {
    "ExecuteTime": {
     "end_time": "2017-10-24T08:12:35.284602Z",
     "start_time": "2017-10-24T08:12:35.252517Z"
    },
    "scrolled": true
   },
   "outputs": [
    {
     "data": {
      "text/plain": [
       "key1  key2\n",
       "a     one     0.880536\n",
       "      two     0.478943\n",
       "b     one    -0.519439\n",
       "      two    -0.555730\n",
       "Name: data1, dtype: float64"
      ]
     },
     "execution_count": 9,
     "metadata": {},
     "output_type": "execute_result"
    }
   ],
   "source": [
    "means = df['data1'].groupby([df['key1'], df['key2']]).mean()\n",
    "means"
   ]
  },
  {
   "cell_type": "code",
   "execution_count": 10,
   "metadata": {
    "ExecuteTime": {
     "end_time": "2017-10-24T08:12:35.323706Z",
     "start_time": "2017-10-24T08:12:35.285605Z"
    }
   },
   "outputs": [
    {
     "data": {
      "text/html": [
       "<div>\n",
       "<style>\n",
       "    .dataframe thead tr:only-child th {\n",
       "        text-align: right;\n",
       "    }\n",
       "\n",
       "    .dataframe thead th {\n",
       "        text-align: left;\n",
       "    }\n",
       "\n",
       "    .dataframe tbody tr th {\n",
       "        vertical-align: top;\n",
       "    }\n",
       "</style>\n",
       "<table border=\"1\" class=\"dataframe\">\n",
       "  <thead>\n",
       "    <tr style=\"text-align: right;\">\n",
       "      <th>key2</th>\n",
       "      <th>one</th>\n",
       "      <th>two</th>\n",
       "    </tr>\n",
       "    <tr>\n",
       "      <th>key1</th>\n",
       "      <th></th>\n",
       "      <th></th>\n",
       "    </tr>\n",
       "  </thead>\n",
       "  <tbody>\n",
       "    <tr>\n",
       "      <th>a</th>\n",
       "      <td>0.880536</td>\n",
       "      <td>0.478943</td>\n",
       "    </tr>\n",
       "    <tr>\n",
       "      <th>b</th>\n",
       "      <td>-0.519439</td>\n",
       "      <td>-0.555730</td>\n",
       "    </tr>\n",
       "  </tbody>\n",
       "</table>\n",
       "</div>"
      ],
      "text/plain": [
       "key2       one       two\n",
       "key1                    \n",
       "a     0.880536  0.478943\n",
       "b    -0.519439 -0.555730"
      ]
     },
     "execution_count": 10,
     "metadata": {},
     "output_type": "execute_result"
    }
   ],
   "source": [
    "means.unstack()"
   ]
  },
  {
   "cell_type": "markdown",
   "metadata": {},
   "source": [
    "- 配列をグルーピングのキーにすることもデキル (pd.Series)\n",
    "- 外側から配列としてグルーピングのキーを与える (長さは同じでなくてはならない)\n",
    "- ~~何かちょっと、釈然としないが・・~~"
   ]
  },
  {
   "cell_type": "code",
   "execution_count": 11,
   "metadata": {
    "ExecuteTime": {
     "end_time": "2017-10-24T08:12:35.363813Z",
     "start_time": "2017-10-24T08:12:35.325712Z"
    }
   },
   "outputs": [
    {
     "data": {
      "text/plain": [
       "California  2005    0.478943\n",
       "            2006   -0.519439\n",
       "Ohio        2005   -0.380219\n",
       "            2006    1.965781\n",
       "Name: data1, dtype: float64"
      ]
     },
     "execution_count": 11,
     "metadata": {},
     "output_type": "execute_result"
    }
   ],
   "source": [
    "states = np.array(['Ohio', 'California', 'California', 'Ohio', 'Ohio'])\n",
    "years = np.array([2005, 2005, 2006, 2005, 2006])\n",
    "df['data1'].groupby([states, years]).mean()"
   ]
  },
  {
   "cell_type": "code",
   "execution_count": 12,
   "metadata": {
    "ExecuteTime": {
     "end_time": "2017-10-24T08:12:35.399910Z",
     "start_time": "2017-10-24T08:12:35.364816Z"
    }
   },
   "outputs": [
    {
     "data": {
      "text/html": [
       "<div>\n",
       "<style>\n",
       "    .dataframe thead tr:only-child th {\n",
       "        text-align: right;\n",
       "    }\n",
       "\n",
       "    .dataframe thead th {\n",
       "        text-align: left;\n",
       "    }\n",
       "\n",
       "    .dataframe tbody tr th {\n",
       "        vertical-align: top;\n",
       "    }\n",
       "</style>\n",
       "<table border=\"1\" class=\"dataframe\">\n",
       "  <thead>\n",
       "    <tr style=\"text-align: right;\">\n",
       "      <th></th>\n",
       "      <th>data1</th>\n",
       "      <th>data2</th>\n",
       "    </tr>\n",
       "    <tr>\n",
       "      <th>key1</th>\n",
       "      <th></th>\n",
       "      <th></th>\n",
       "    </tr>\n",
       "  </thead>\n",
       "  <tbody>\n",
       "    <tr>\n",
       "      <th>a</th>\n",
       "      <td>0.746672</td>\n",
       "      <td>0.910916</td>\n",
       "    </tr>\n",
       "    <tr>\n",
       "      <th>b</th>\n",
       "      <td>-0.537585</td>\n",
       "      <td>0.525384</td>\n",
       "    </tr>\n",
       "  </tbody>\n",
       "</table>\n",
       "</div>"
      ],
      "text/plain": [
       "         data1     data2\n",
       "key1                    \n",
       "a     0.746672  0.910916\n",
       "b    -0.537585  0.525384"
      ]
     },
     "execution_count": 12,
     "metadata": {},
     "output_type": "execute_result"
    }
   ],
   "source": [
    "df.groupby('key1').mean()"
   ]
  },
  {
   "cell_type": "code",
   "execution_count": 13,
   "metadata": {
    "ExecuteTime": {
     "end_time": "2017-10-24T08:12:35.435004Z",
     "start_time": "2017-10-24T08:12:35.401916Z"
    }
   },
   "outputs": [
    {
     "data": {
      "text/html": [
       "<div>\n",
       "<style>\n",
       "    .dataframe thead tr:only-child th {\n",
       "        text-align: right;\n",
       "    }\n",
       "\n",
       "    .dataframe thead th {\n",
       "        text-align: left;\n",
       "    }\n",
       "\n",
       "    .dataframe tbody tr th {\n",
       "        vertical-align: top;\n",
       "    }\n",
       "</style>\n",
       "<table border=\"1\" class=\"dataframe\">\n",
       "  <thead>\n",
       "    <tr style=\"text-align: right;\">\n",
       "      <th></th>\n",
       "      <th></th>\n",
       "      <th>data1</th>\n",
       "      <th>data2</th>\n",
       "    </tr>\n",
       "    <tr>\n",
       "      <th>key1</th>\n",
       "      <th>key2</th>\n",
       "      <th></th>\n",
       "      <th></th>\n",
       "    </tr>\n",
       "  </thead>\n",
       "  <tbody>\n",
       "    <tr>\n",
       "      <th rowspan=\"2\" valign=\"top\">a</th>\n",
       "      <th>one</th>\n",
       "      <td>0.880536</td>\n",
       "      <td>1.319920</td>\n",
       "    </tr>\n",
       "    <tr>\n",
       "      <th>two</th>\n",
       "      <td>0.478943</td>\n",
       "      <td>0.092908</td>\n",
       "    </tr>\n",
       "    <tr>\n",
       "      <th rowspan=\"2\" valign=\"top\">b</th>\n",
       "      <th>one</th>\n",
       "      <td>-0.519439</td>\n",
       "      <td>0.281746</td>\n",
       "    </tr>\n",
       "    <tr>\n",
       "      <th>two</th>\n",
       "      <td>-0.555730</td>\n",
       "      <td>0.769023</td>\n",
       "    </tr>\n",
       "  </tbody>\n",
       "</table>\n",
       "</div>"
      ],
      "text/plain": [
       "              data1     data2\n",
       "key1 key2                    \n",
       "a    one   0.880536  1.319920\n",
       "     two   0.478943  0.092908\n",
       "b    one  -0.519439  0.281746\n",
       "     two  -0.555730  0.769023"
      ]
     },
     "execution_count": 13,
     "metadata": {},
     "output_type": "execute_result"
    }
   ],
   "source": [
    "df.groupby(['key1', 'key2']).mean()"
   ]
  },
  {
   "cell_type": "code",
   "execution_count": 14,
   "metadata": {
    "ExecuteTime": {
     "end_time": "2017-10-24T08:12:35.472104Z",
     "start_time": "2017-10-24T08:12:35.437009Z"
    }
   },
   "outputs": [
    {
     "data": {
      "text/html": [
       "<div>\n",
       "<style>\n",
       "    .dataframe thead tr:only-child th {\n",
       "        text-align: right;\n",
       "    }\n",
       "\n",
       "    .dataframe thead th {\n",
       "        text-align: left;\n",
       "    }\n",
       "\n",
       "    .dataframe tbody tr th {\n",
       "        vertical-align: top;\n",
       "    }\n",
       "</style>\n",
       "<table border=\"1\" class=\"dataframe\">\n",
       "  <thead>\n",
       "    <tr style=\"text-align: right;\">\n",
       "      <th></th>\n",
       "      <th></th>\n",
       "      <th>data1</th>\n",
       "      <th>data2</th>\n",
       "    </tr>\n",
       "    <tr>\n",
       "      <th>key1</th>\n",
       "      <th>key2</th>\n",
       "      <th></th>\n",
       "      <th></th>\n",
       "    </tr>\n",
       "  </thead>\n",
       "  <tbody>\n",
       "    <tr>\n",
       "      <th rowspan=\"2\" valign=\"top\">a</th>\n",
       "      <th>one</th>\n",
       "      <td>2</td>\n",
       "      <td>2</td>\n",
       "    </tr>\n",
       "    <tr>\n",
       "      <th>two</th>\n",
       "      <td>1</td>\n",
       "      <td>1</td>\n",
       "    </tr>\n",
       "    <tr>\n",
       "      <th rowspan=\"2\" valign=\"top\">b</th>\n",
       "      <th>one</th>\n",
       "      <td>1</td>\n",
       "      <td>1</td>\n",
       "    </tr>\n",
       "    <tr>\n",
       "      <th>two</th>\n",
       "      <td>1</td>\n",
       "      <td>1</td>\n",
       "    </tr>\n",
       "  </tbody>\n",
       "</table>\n",
       "</div>"
      ],
      "text/plain": [
       "           data1  data2\n",
       "key1 key2              \n",
       "a    one       2      2\n",
       "     two       1      1\n",
       "b    one       1      1\n",
       "     two       1      1"
      ]
     },
     "execution_count": 14,
     "metadata": {},
     "output_type": "execute_result"
    }
   ],
   "source": [
    "df.groupby(['key1', 'key2']).count()"
   ]
  },
  {
   "cell_type": "markdown",
   "metadata": {},
   "source": [
    "### 9.1.1 グループをまたいだ繰り返し"
   ]
  },
  {
   "cell_type": "markdown",
   "metadata": {},
   "source": [
    "- df.groupby('key1') => 戻り値は、階層インデックスを持つ DataFrame オブジェクト\n",
    "- key => DataFrame as value"
   ]
  },
  {
   "cell_type": "code",
   "execution_count": 15,
   "metadata": {
    "ExecuteTime": {
     "end_time": "2017-10-24T08:12:35.507197Z",
     "start_time": "2017-10-24T08:12:35.474109Z"
    }
   },
   "outputs": [
    {
     "name": "stdout",
     "output_type": "stream",
     "text": [
      "a\n",
      "      data1     data2 key1 key2\n",
      "0 -0.204708  1.393406    a  one\n",
      "1  0.478943  0.092908    a  two\n",
      "4  1.965781  1.246435    a  one\n",
      "b\n",
      "      data1     data2 key1 key2\n",
      "2 -0.519439  0.281746    b  one\n",
      "3 -0.555730  0.769023    b  two\n"
     ]
    }
   ],
   "source": [
    "for name, group in df.groupby('key1'):\n",
    "    print(name) #  グループの名前 => a, b \n",
    "    print(group) # その内容 "
   ]
  },
  {
   "cell_type": "code",
   "execution_count": 16,
   "metadata": {
    "ExecuteTime": {
     "end_time": "2017-10-24T08:12:35.537278Z",
     "start_time": "2017-10-24T08:12:35.509203Z"
    }
   },
   "outputs": [
    {
     "data": {
      "text/plain": [
       "pandas.core.groupby.DataFrameGroupBy"
      ]
     },
     "execution_count": 16,
     "metadata": {},
     "output_type": "execute_result"
    }
   ],
   "source": [
    "type(df.groupby('key1'))"
   ]
  },
  {
   "cell_type": "code",
   "execution_count": 17,
   "metadata": {
    "ExecuteTime": {
     "end_time": "2017-10-24T08:12:35.578387Z",
     "start_time": "2017-10-24T08:12:35.539283Z"
    }
   },
   "outputs": [
    {
     "data": {
      "text/plain": [
       "[('a',       data1     data2 key1 key2\n",
       "  0 -0.204708  1.393406    a  one\n",
       "  1  0.478943  0.092908    a  two\n",
       "  4  1.965781  1.246435    a  one), ('b',       data1     data2 key1 key2\n",
       "  2 -0.519439  0.281746    b  one\n",
       "  3 -0.555730  0.769023    b  two)]"
      ]
     },
     "execution_count": 17,
     "metadata": {},
     "output_type": "execute_result"
    }
   ],
   "source": [
    "list(df.groupby('key1'))"
   ]
  },
  {
   "cell_type": "markdown",
   "metadata": {},
   "source": [
    "- 複合キーの場合は、keyの部分がタプルで\n",
    "- key(Tuple) => value(DataFrame)"
   ]
  },
  {
   "cell_type": "code",
   "execution_count": 18,
   "metadata": {
    "ExecuteTime": {
     "end_time": "2017-10-24T08:12:35.618494Z",
     "start_time": "2017-10-24T08:12:35.580393Z"
    }
   },
   "outputs": [
    {
     "name": "stdout",
     "output_type": "stream",
     "text": [
      "('a', 'one')\n",
      "      data1     data2 key1 key2\n",
      "0 -0.204708  1.393406    a  one\n",
      "4  1.965781  1.246435    a  one\n",
      "('a', 'two')\n",
      "      data1     data2 key1 key2\n",
      "1  0.478943  0.092908    a  two\n",
      "('b', 'one')\n",
      "      data1     data2 key1 key2\n",
      "2 -0.519439  0.281746    b  one\n",
      "('b', 'two')\n",
      "     data1     data2 key1 key2\n",
      "3 -0.55573  0.769023    b  two\n"
     ]
    }
   ],
   "source": [
    "for (k1, k2), group in df.groupby(['key1', 'key2']):\n",
    "    print((k1, k2))\n",
    "    print(group)"
   ]
  },
  {
   "cell_type": "markdown",
   "metadata": {},
   "source": [
    "- データをディクショナリ形式にするワンライナー\n",
    "- これはいいかも"
   ]
  },
  {
   "cell_type": "code",
   "execution_count": 19,
   "metadata": {
    "ExecuteTime": {
     "end_time": "2017-10-24T08:12:35.653588Z",
     "start_time": "2017-10-24T08:12:35.620500Z"
    },
    "scrolled": true
   },
   "outputs": [
    {
     "data": {
      "text/html": [
       "<div>\n",
       "<style>\n",
       "    .dataframe thead tr:only-child th {\n",
       "        text-align: right;\n",
       "    }\n",
       "\n",
       "    .dataframe thead th {\n",
       "        text-align: left;\n",
       "    }\n",
       "\n",
       "    .dataframe tbody tr th {\n",
       "        vertical-align: top;\n",
       "    }\n",
       "</style>\n",
       "<table border=\"1\" class=\"dataframe\">\n",
       "  <thead>\n",
       "    <tr style=\"text-align: right;\">\n",
       "      <th></th>\n",
       "      <th>data1</th>\n",
       "      <th>data2</th>\n",
       "      <th>key1</th>\n",
       "      <th>key2</th>\n",
       "    </tr>\n",
       "  </thead>\n",
       "  <tbody>\n",
       "    <tr>\n",
       "      <th>2</th>\n",
       "      <td>-0.519439</td>\n",
       "      <td>0.281746</td>\n",
       "      <td>b</td>\n",
       "      <td>one</td>\n",
       "    </tr>\n",
       "    <tr>\n",
       "      <th>3</th>\n",
       "      <td>-0.555730</td>\n",
       "      <td>0.769023</td>\n",
       "      <td>b</td>\n",
       "      <td>two</td>\n",
       "    </tr>\n",
       "  </tbody>\n",
       "</table>\n",
       "</div>"
      ],
      "text/plain": [
       "      data1     data2 key1 key2\n",
       "2 -0.519439  0.281746    b  one\n",
       "3 -0.555730  0.769023    b  two"
      ]
     },
     "execution_count": 19,
     "metadata": {},
     "output_type": "execute_result"
    }
   ],
   "source": [
    "pieces = dict(list(df.groupby('key1')))\n",
    "pieces['b']"
   ]
  },
  {
   "cell_type": "code",
   "execution_count": 20,
   "metadata": {
    "ExecuteTime": {
     "end_time": "2017-10-24T08:12:35.682666Z",
     "start_time": "2017-10-24T08:12:35.655594Z"
    }
   },
   "outputs": [
    {
     "data": {
      "text/plain": [
       "<pandas.core.groupby.DataFrameGroupBy object at 0x00000251903D1198>"
      ]
     },
     "execution_count": 20,
     "metadata": {},
     "output_type": "execute_result"
    }
   ],
   "source": [
    "df.groupby('key1')"
   ]
  },
  {
   "cell_type": "code",
   "execution_count": 21,
   "metadata": {
    "ExecuteTime": {
     "end_time": "2017-10-24T08:12:35.718762Z",
     "start_time": "2017-10-24T08:12:35.683669Z"
    }
   },
   "outputs": [
    {
     "data": {
      "text/plain": [
       "[('a',       data1     data2 key1 key2\n",
       "  0 -0.204708  1.393406    a  one\n",
       "  1  0.478943  0.092908    a  two\n",
       "  4  1.965781  1.246435    a  one), ('b',       data1     data2 key1 key2\n",
       "  2 -0.519439  0.281746    b  one\n",
       "  3 -0.555730  0.769023    b  two)]"
      ]
     },
     "execution_count": 21,
     "metadata": {},
     "output_type": "execute_result"
    }
   ],
   "source": [
    "list(df.groupby('key1'))"
   ]
  },
  {
   "cell_type": "code",
   "execution_count": 22,
   "metadata": {
    "ExecuteTime": {
     "end_time": "2017-10-24T08:12:35.754859Z",
     "start_time": "2017-10-24T08:12:35.720769Z"
    }
   },
   "outputs": [
    {
     "data": {
      "text/html": [
       "<div>\n",
       "<style>\n",
       "    .dataframe thead tr:only-child th {\n",
       "        text-align: right;\n",
       "    }\n",
       "\n",
       "    .dataframe thead th {\n",
       "        text-align: left;\n",
       "    }\n",
       "\n",
       "    .dataframe tbody tr th {\n",
       "        vertical-align: top;\n",
       "    }\n",
       "</style>\n",
       "<table border=\"1\" class=\"dataframe\">\n",
       "  <thead>\n",
       "    <tr style=\"text-align: right;\">\n",
       "      <th></th>\n",
       "      <th>data1</th>\n",
       "      <th>data2</th>\n",
       "      <th>key1</th>\n",
       "      <th>key2</th>\n",
       "    </tr>\n",
       "  </thead>\n",
       "  <tbody>\n",
       "    <tr>\n",
       "      <th>0</th>\n",
       "      <td>-0.204708</td>\n",
       "      <td>1.393406</td>\n",
       "      <td>a</td>\n",
       "      <td>one</td>\n",
       "    </tr>\n",
       "    <tr>\n",
       "      <th>1</th>\n",
       "      <td>0.478943</td>\n",
       "      <td>0.092908</td>\n",
       "      <td>a</td>\n",
       "      <td>two</td>\n",
       "    </tr>\n",
       "    <tr>\n",
       "      <th>4</th>\n",
       "      <td>1.965781</td>\n",
       "      <td>1.246435</td>\n",
       "      <td>a</td>\n",
       "      <td>one</td>\n",
       "    </tr>\n",
       "  </tbody>\n",
       "</table>\n",
       "</div>"
      ],
      "text/plain": [
       "      data1     data2 key1 key2\n",
       "0 -0.204708  1.393406    a  one\n",
       "1  0.478943  0.092908    a  two\n",
       "4  1.965781  1.246435    a  one"
      ]
     },
     "execution_count": 22,
     "metadata": {},
     "output_type": "execute_result"
    }
   ],
   "source": [
    "dict(list(df.groupby('key1')))['a'] # それぞれは、dataframe"
   ]
  },
  {
   "cell_type": "code",
   "execution_count": 23,
   "metadata": {
    "ExecuteTime": {
     "end_time": "2017-10-24T08:12:35.786945Z",
     "start_time": "2017-10-24T08:12:35.755862Z"
    }
   },
   "outputs": [
    {
     "data": {
      "text/plain": [
       "dict_keys(['a', 'b'])"
      ]
     },
     "execution_count": 23,
     "metadata": {},
     "output_type": "execute_result"
    }
   ],
   "source": [
    "pieces.keys()"
   ]
  },
  {
   "cell_type": "code",
   "execution_count": 24,
   "metadata": {
    "ExecuteTime": {
     "end_time": "2017-10-24T08:12:35.816023Z",
     "start_time": "2017-10-24T08:12:35.788950Z"
    }
   },
   "outputs": [
    {
     "data": {
      "text/plain": [
       "data1    float64\n",
       "data2    float64\n",
       "key1      object\n",
       "key2      object\n",
       "dtype: object"
      ]
     },
     "execution_count": 24,
     "metadata": {},
     "output_type": "execute_result"
    }
   ],
   "source": [
    "df.dtypes"
   ]
  },
  {
   "cell_type": "code",
   "execution_count": 25,
   "metadata": {
    "ExecuteTime": {
     "end_time": "2017-10-24T08:12:35.843095Z",
     "start_time": "2017-10-24T08:12:35.817025Z"
    }
   },
   "outputs": [],
   "source": [
    "grouped = df.groupby(df.dtypes, axis=1)"
   ]
  },
  {
   "cell_type": "code",
   "execution_count": 26,
   "metadata": {
    "ExecuteTime": {
     "end_time": "2017-10-24T08:12:35.880194Z",
     "start_time": "2017-10-24T08:12:35.845100Z"
    }
   },
   "outputs": [
    {
     "data": {
      "text/html": [
       "<div>\n",
       "<style>\n",
       "    .dataframe thead tr:only-child th {\n",
       "        text-align: right;\n",
       "    }\n",
       "\n",
       "    .dataframe thead th {\n",
       "        text-align: left;\n",
       "    }\n",
       "\n",
       "    .dataframe tbody tr th {\n",
       "        vertical-align: top;\n",
       "    }\n",
       "</style>\n",
       "<table border=\"1\" class=\"dataframe\">\n",
       "  <thead>\n",
       "    <tr style=\"text-align: right;\">\n",
       "      <th></th>\n",
       "      <th>data1</th>\n",
       "      <th>data2</th>\n",
       "    </tr>\n",
       "  </thead>\n",
       "  <tbody>\n",
       "    <tr>\n",
       "      <th>0</th>\n",
       "      <td>-0.204708</td>\n",
       "      <td>1.393406</td>\n",
       "    </tr>\n",
       "    <tr>\n",
       "      <th>1</th>\n",
       "      <td>0.478943</td>\n",
       "      <td>0.092908</td>\n",
       "    </tr>\n",
       "    <tr>\n",
       "      <th>2</th>\n",
       "      <td>-0.519439</td>\n",
       "      <td>0.281746</td>\n",
       "    </tr>\n",
       "    <tr>\n",
       "      <th>3</th>\n",
       "      <td>-0.555730</td>\n",
       "      <td>0.769023</td>\n",
       "    </tr>\n",
       "    <tr>\n",
       "      <th>4</th>\n",
       "      <td>1.965781</td>\n",
       "      <td>1.246435</td>\n",
       "    </tr>\n",
       "  </tbody>\n",
       "</table>\n",
       "</div>"
      ],
      "text/plain": [
       "      data1     data2\n",
       "0 -0.204708  1.393406\n",
       "1  0.478943  0.092908\n",
       "2 -0.519439  0.281746\n",
       "3 -0.555730  0.769023\n",
       "4  1.965781  1.246435"
      ]
     },
     "execution_count": 26,
     "metadata": {},
     "output_type": "execute_result"
    }
   ],
   "source": [
    "dict(list(grouped))[df.dtypes[0]] #.[dtype(\"float64\")] ではNG\n",
    "dict(list(grouped))[np.array([0]).astype(np.float64).dtype] #.納得にいかない無理矢理感！"
   ]
  },
  {
   "cell_type": "code",
   "execution_count": 27,
   "metadata": {
    "ExecuteTime": {
     "end_time": "2017-10-24T08:12:35.908269Z",
     "start_time": "2017-10-24T08:12:35.882200Z"
    }
   },
   "outputs": [
    {
     "data": {
      "text/plain": [
       "dtype('float64')"
      ]
     },
     "execution_count": 27,
     "metadata": {},
     "output_type": "execute_result"
    }
   ],
   "source": [
    "np.array([0]).astype(np.float64).dtype"
   ]
  },
  {
   "cell_type": "markdown",
   "metadata": {},
   "source": [
    "### 9.1.2 列や列の集合の選択"
   ]
  },
  {
   "cell_type": "code",
   "execution_count": 28,
   "metadata": {
    "ExecuteTime": {
     "end_time": "2017-10-24T08:12:35.939352Z",
     "start_time": "2017-10-24T08:12:35.910274Z"
    }
   },
   "outputs": [
    {
     "data": {
      "text/plain": [
       "<pandas.core.groupby.DataFrameGroupBy object at 0x00000251903EE710>"
      ]
     },
     "execution_count": 28,
     "metadata": {},
     "output_type": "execute_result"
    }
   ],
   "source": [
    "df.groupby('key1')['data1']\n",
    "df.groupby('key1')[['data2']]"
   ]
  },
  {
   "cell_type": "code",
   "execution_count": 29,
   "metadata": {
    "ExecuteTime": {
     "end_time": "2017-10-24T08:12:35.974446Z",
     "start_time": "2017-10-24T08:12:35.940355Z"
    }
   },
   "outputs": [
    {
     "data": {
      "text/plain": [
       "<pandas.core.groupby.DataFrameGroupBy object at 0x00000251903C7B38>"
      ]
     },
     "execution_count": 29,
     "metadata": {},
     "output_type": "execute_result"
    }
   ],
   "source": [
    "\"\"\"上記と同じ (上記は下記のSyntax Sugar)\"\"\"\n",
    "df['data1'].groupby(df['key1'])\n",
    "df[['data2']].groupby(df['key1'])"
   ]
  },
  {
   "cell_type": "code",
   "execution_count": 30,
   "metadata": {
    "ExecuteTime": {
     "end_time": "2017-10-24T08:12:36.006532Z",
     "start_time": "2017-10-24T08:12:35.976452Z"
    }
   },
   "outputs": [
    {
     "data": {
      "text/html": [
       "<div>\n",
       "<style>\n",
       "    .dataframe thead tr:only-child th {\n",
       "        text-align: right;\n",
       "    }\n",
       "\n",
       "    .dataframe thead th {\n",
       "        text-align: left;\n",
       "    }\n",
       "\n",
       "    .dataframe tbody tr th {\n",
       "        vertical-align: top;\n",
       "    }\n",
       "</style>\n",
       "<table border=\"1\" class=\"dataframe\">\n",
       "  <thead>\n",
       "    <tr style=\"text-align: right;\">\n",
       "      <th></th>\n",
       "      <th></th>\n",
       "      <th>data2</th>\n",
       "    </tr>\n",
       "    <tr>\n",
       "      <th>key1</th>\n",
       "      <th>key2</th>\n",
       "      <th></th>\n",
       "    </tr>\n",
       "  </thead>\n",
       "  <tbody>\n",
       "    <tr>\n",
       "      <th rowspan=\"2\" valign=\"top\">a</th>\n",
       "      <th>one</th>\n",
       "      <td>1.319920</td>\n",
       "    </tr>\n",
       "    <tr>\n",
       "      <th>two</th>\n",
       "      <td>0.092908</td>\n",
       "    </tr>\n",
       "    <tr>\n",
       "      <th rowspan=\"2\" valign=\"top\">b</th>\n",
       "      <th>one</th>\n",
       "      <td>0.281746</td>\n",
       "    </tr>\n",
       "    <tr>\n",
       "      <th>two</th>\n",
       "      <td>0.769023</td>\n",
       "    </tr>\n",
       "  </tbody>\n",
       "</table>\n",
       "</div>"
      ],
      "text/plain": [
       "              data2\n",
       "key1 key2          \n",
       "a    one   1.319920\n",
       "     two   0.092908\n",
       "b    one   0.281746\n",
       "     two   0.769023"
      ]
     },
     "execution_count": 30,
     "metadata": {},
     "output_type": "execute_result"
    }
   ],
   "source": [
    "df.groupby(['key1', 'key2'])[['data2']].mean()"
   ]
  },
  {
   "cell_type": "code",
   "execution_count": 31,
   "metadata": {
    "ExecuteTime": {
     "end_time": "2017-10-24T08:12:36.036612Z",
     "start_time": "2017-10-24T08:12:36.007534Z"
    }
   },
   "outputs": [
    {
     "data": {
      "text/plain": [
       "<pandas.core.groupby.SeriesGroupBy object at 0x00000251903C7518>"
      ]
     },
     "execution_count": 31,
     "metadata": {},
     "output_type": "execute_result"
    }
   ],
   "source": [
    "s_grouped = df.groupby(['key1', 'key2'])['data2']\n",
    "s_grouped"
   ]
  },
  {
   "cell_type": "code",
   "execution_count": 32,
   "metadata": {
    "ExecuteTime": {
     "end_time": "2017-10-24T08:12:36.066693Z",
     "start_time": "2017-10-24T08:12:36.038618Z"
    }
   },
   "outputs": [
    {
     "data": {
      "text/plain": [
       "key1  key2\n",
       "a     one     1.319920\n",
       "      two     0.092908\n",
       "b     one     0.281746\n",
       "      two     0.769023\n",
       "Name: data2, dtype: float64"
      ]
     },
     "execution_count": 32,
     "metadata": {},
     "output_type": "execute_result"
    }
   ],
   "source": [
    "s_grouped.mean()"
   ]
  },
  {
   "cell_type": "markdown",
   "metadata": {},
   "source": [
    "### 9.1.3 ディクショナリ形式やシリーズのグルーピング"
   ]
  },
  {
   "cell_type": "code",
   "execution_count": 33,
   "metadata": {
    "ExecuteTime": {
     "end_time": "2017-10-24T08:12:36.098778Z",
     "start_time": "2017-10-24T08:12:36.067695Z"
    }
   },
   "outputs": [
    {
     "data": {
      "text/html": [
       "<div>\n",
       "<style>\n",
       "    .dataframe thead tr:only-child th {\n",
       "        text-align: right;\n",
       "    }\n",
       "\n",
       "    .dataframe thead th {\n",
       "        text-align: left;\n",
       "    }\n",
       "\n",
       "    .dataframe tbody tr th {\n",
       "        vertical-align: top;\n",
       "    }\n",
       "</style>\n",
       "<table border=\"1\" class=\"dataframe\">\n",
       "  <thead>\n",
       "    <tr style=\"text-align: right;\">\n",
       "      <th></th>\n",
       "      <th>a</th>\n",
       "      <th>b</th>\n",
       "      <th>c</th>\n",
       "      <th>d</th>\n",
       "      <th>e</th>\n",
       "    </tr>\n",
       "  </thead>\n",
       "  <tbody>\n",
       "    <tr>\n",
       "      <th>Joe</th>\n",
       "      <td>1.007189</td>\n",
       "      <td>-1.296221</td>\n",
       "      <td>0.274992</td>\n",
       "      <td>0.228913</td>\n",
       "      <td>1.352917</td>\n",
       "    </tr>\n",
       "    <tr>\n",
       "      <th>Steve</th>\n",
       "      <td>0.886429</td>\n",
       "      <td>-2.001637</td>\n",
       "      <td>-0.371843</td>\n",
       "      <td>1.669025</td>\n",
       "      <td>-0.438570</td>\n",
       "    </tr>\n",
       "    <tr>\n",
       "      <th>Wes</th>\n",
       "      <td>-0.539741</td>\n",
       "      <td>NaN</td>\n",
       "      <td>NaN</td>\n",
       "      <td>-1.021228</td>\n",
       "      <td>-0.577087</td>\n",
       "    </tr>\n",
       "    <tr>\n",
       "      <th>Jim</th>\n",
       "      <td>0.124121</td>\n",
       "      <td>0.302614</td>\n",
       "      <td>0.523772</td>\n",
       "      <td>0.000940</td>\n",
       "      <td>1.343810</td>\n",
       "    </tr>\n",
       "    <tr>\n",
       "      <th>Travis</th>\n",
       "      <td>-0.713544</td>\n",
       "      <td>-0.831154</td>\n",
       "      <td>-2.370232</td>\n",
       "      <td>-1.860761</td>\n",
       "      <td>-0.860757</td>\n",
       "    </tr>\n",
       "  </tbody>\n",
       "</table>\n",
       "</div>"
      ],
      "text/plain": [
       "               a         b         c         d         e\n",
       "Joe     1.007189 -1.296221  0.274992  0.228913  1.352917\n",
       "Steve   0.886429 -2.001637 -0.371843  1.669025 -0.438570\n",
       "Wes    -0.539741       NaN       NaN -1.021228 -0.577087\n",
       "Jim     0.124121  0.302614  0.523772  0.000940  1.343810\n",
       "Travis -0.713544 -0.831154 -2.370232 -1.860761 -0.860757"
      ]
     },
     "execution_count": 33,
     "metadata": {},
     "output_type": "execute_result"
    }
   ],
   "source": [
    "people = DataFrame(np.random.randn(5, 5),\n",
    "                   columns=['a', 'b', 'c', 'd', 'e'],\n",
    "                   index=['Joe', 'Steve', 'Wes', 'Jim', 'Travis'])\n",
    "#people.ix[2:3, ['b', 'c']] = np.nan # Add a few NA values # deplicated\n",
    "people.loc[2:3, ['b', 'c']] = np.nan # Add a few NA values\n",
    "people"
   ]
  },
  {
   "cell_type": "code",
   "execution_count": 34,
   "metadata": {
    "ExecuteTime": {
     "end_time": "2017-10-24T08:12:36.129862Z",
     "start_time": "2017-10-24T08:12:36.100786Z"
    },
    "collapsed": true
   },
   "outputs": [],
   "source": [
    "mapping = {'a': 'red', 'b': 'red', 'c': 'blue',\n",
    "           'd': 'blue', 'e': 'red', 'f' : 'orange'}"
   ]
  },
  {
   "cell_type": "code",
   "execution_count": 35,
   "metadata": {
    "ExecuteTime": {
     "end_time": "2017-10-24T08:12:36.163953Z",
     "start_time": "2017-10-24T08:12:36.131867Z"
    }
   },
   "outputs": [
    {
     "data": {
      "text/html": [
       "<div>\n",
       "<style>\n",
       "    .dataframe thead tr:only-child th {\n",
       "        text-align: right;\n",
       "    }\n",
       "\n",
       "    .dataframe thead th {\n",
       "        text-align: left;\n",
       "    }\n",
       "\n",
       "    .dataframe tbody tr th {\n",
       "        vertical-align: top;\n",
       "    }\n",
       "</style>\n",
       "<table border=\"1\" class=\"dataframe\">\n",
       "  <thead>\n",
       "    <tr style=\"text-align: right;\">\n",
       "      <th></th>\n",
       "      <th>blue</th>\n",
       "      <th>red</th>\n",
       "    </tr>\n",
       "  </thead>\n",
       "  <tbody>\n",
       "    <tr>\n",
       "      <th>Joe</th>\n",
       "      <td>0.503905</td>\n",
       "      <td>1.063885</td>\n",
       "    </tr>\n",
       "    <tr>\n",
       "      <th>Steve</th>\n",
       "      <td>1.297183</td>\n",
       "      <td>-1.553778</td>\n",
       "    </tr>\n",
       "    <tr>\n",
       "      <th>Wes</th>\n",
       "      <td>-1.021228</td>\n",
       "      <td>-1.116829</td>\n",
       "    </tr>\n",
       "    <tr>\n",
       "      <th>Jim</th>\n",
       "      <td>0.524712</td>\n",
       "      <td>1.770545</td>\n",
       "    </tr>\n",
       "    <tr>\n",
       "      <th>Travis</th>\n",
       "      <td>-4.230992</td>\n",
       "      <td>-2.405455</td>\n",
       "    </tr>\n",
       "  </tbody>\n",
       "</table>\n",
       "</div>"
      ],
      "text/plain": [
       "            blue       red\n",
       "Joe     0.503905  1.063885\n",
       "Steve   1.297183 -1.553778\n",
       "Wes    -1.021228 -1.116829\n",
       "Jim     0.524712  1.770545\n",
       "Travis -4.230992 -2.405455"
      ]
     },
     "execution_count": 35,
     "metadata": {},
     "output_type": "execute_result"
    }
   ],
   "source": [
    "\"\"\"列方向にgroupby\"\"\"\n",
    "by_column = people.groupby(mapping, axis=1)\n",
    "by_column.sum()"
   ]
  },
  {
   "cell_type": "code",
   "execution_count": 36,
   "metadata": {
    "ExecuteTime": {
     "end_time": "2017-10-24T08:12:36.197041Z",
     "start_time": "2017-10-24T08:12:36.165958Z"
    }
   },
   "outputs": [
    {
     "data": {
      "text/plain": [
       "('blue',                c         d\n",
       " Joe     0.274992  0.228913\n",
       " Steve  -0.371843  1.669025\n",
       " Wes          NaN -1.021228\n",
       " Jim     0.523772  0.000940\n",
       " Travis -2.370232 -1.860761)"
      ]
     },
     "execution_count": 36,
     "metadata": {},
     "output_type": "execute_result"
    }
   ],
   "source": [
    "list( by_column )[0]"
   ]
  },
  {
   "cell_type": "code",
   "execution_count": 37,
   "metadata": {
    "ExecuteTime": {
     "end_time": "2017-10-24T08:12:36.227122Z",
     "start_time": "2017-10-24T08:12:36.199046Z"
    }
   },
   "outputs": [
    {
     "data": {
      "text/plain": [
       "a       red\n",
       "b       red\n",
       "c      blue\n",
       "d      blue\n",
       "e       red\n",
       "f    orange\n",
       "dtype: object"
      ]
     },
     "execution_count": 37,
     "metadata": {},
     "output_type": "execute_result"
    }
   ],
   "source": [
    "map_series = Series(mapping)\n",
    "map_series"
   ]
  },
  {
   "cell_type": "code",
   "execution_count": 38,
   "metadata": {
    "ExecuteTime": {
     "end_time": "2017-10-24T08:12:36.259207Z",
     "start_time": "2017-10-24T08:12:36.228124Z"
    }
   },
   "outputs": [
    {
     "data": {
      "text/html": [
       "<div>\n",
       "<style>\n",
       "    .dataframe thead tr:only-child th {\n",
       "        text-align: right;\n",
       "    }\n",
       "\n",
       "    .dataframe thead th {\n",
       "        text-align: left;\n",
       "    }\n",
       "\n",
       "    .dataframe tbody tr th {\n",
       "        vertical-align: top;\n",
       "    }\n",
       "</style>\n",
       "<table border=\"1\" class=\"dataframe\">\n",
       "  <thead>\n",
       "    <tr style=\"text-align: right;\">\n",
       "      <th></th>\n",
       "      <th>blue</th>\n",
       "      <th>red</th>\n",
       "    </tr>\n",
       "  </thead>\n",
       "  <tbody>\n",
       "    <tr>\n",
       "      <th>Joe</th>\n",
       "      <td>2</td>\n",
       "      <td>3</td>\n",
       "    </tr>\n",
       "    <tr>\n",
       "      <th>Steve</th>\n",
       "      <td>2</td>\n",
       "      <td>3</td>\n",
       "    </tr>\n",
       "    <tr>\n",
       "      <th>Wes</th>\n",
       "      <td>1</td>\n",
       "      <td>2</td>\n",
       "    </tr>\n",
       "    <tr>\n",
       "      <th>Jim</th>\n",
       "      <td>2</td>\n",
       "      <td>3</td>\n",
       "    </tr>\n",
       "    <tr>\n",
       "      <th>Travis</th>\n",
       "      <td>2</td>\n",
       "      <td>3</td>\n",
       "    </tr>\n",
       "  </tbody>\n",
       "</table>\n",
       "</div>"
      ],
      "text/plain": [
       "        blue  red\n",
       "Joe        2    3\n",
       "Steve      2    3\n",
       "Wes        1    2\n",
       "Jim        2    3\n",
       "Travis     2    3"
      ]
     },
     "execution_count": 38,
     "metadata": {},
     "output_type": "execute_result"
    }
   ],
   "source": [
    "people.groupby(map_series, axis=1).count()"
   ]
  },
  {
   "cell_type": "markdown",
   "metadata": {},
   "source": [
    "### 9.1.4 関数を用いたグルーピング"
   ]
  },
  {
   "cell_type": "code",
   "execution_count": 39,
   "metadata": {
    "ExecuteTime": {
     "end_time": "2017-10-24T08:12:36.295304Z",
     "start_time": "2017-10-24T08:12:36.261214Z"
    }
   },
   "outputs": [
    {
     "data": {
      "text/html": [
       "<div>\n",
       "<style>\n",
       "    .dataframe thead tr:only-child th {\n",
       "        text-align: right;\n",
       "    }\n",
       "\n",
       "    .dataframe thead th {\n",
       "        text-align: left;\n",
       "    }\n",
       "\n",
       "    .dataframe tbody tr th {\n",
       "        vertical-align: top;\n",
       "    }\n",
       "</style>\n",
       "<table border=\"1\" class=\"dataframe\">\n",
       "  <thead>\n",
       "    <tr style=\"text-align: right;\">\n",
       "      <th></th>\n",
       "      <th>a</th>\n",
       "      <th>b</th>\n",
       "      <th>c</th>\n",
       "      <th>d</th>\n",
       "      <th>e</th>\n",
       "    </tr>\n",
       "  </thead>\n",
       "  <tbody>\n",
       "    <tr>\n",
       "      <th>3</th>\n",
       "      <td>0.591569</td>\n",
       "      <td>-0.993608</td>\n",
       "      <td>0.798764</td>\n",
       "      <td>-0.791374</td>\n",
       "      <td>2.119639</td>\n",
       "    </tr>\n",
       "    <tr>\n",
       "      <th>5</th>\n",
       "      <td>0.886429</td>\n",
       "      <td>-2.001637</td>\n",
       "      <td>-0.371843</td>\n",
       "      <td>1.669025</td>\n",
       "      <td>-0.438570</td>\n",
       "    </tr>\n",
       "    <tr>\n",
       "      <th>6</th>\n",
       "      <td>-0.713544</td>\n",
       "      <td>-0.831154</td>\n",
       "      <td>-2.370232</td>\n",
       "      <td>-1.860761</td>\n",
       "      <td>-0.860757</td>\n",
       "    </tr>\n",
       "  </tbody>\n",
       "</table>\n",
       "</div>"
      ],
      "text/plain": [
       "          a         b         c         d         e\n",
       "3  0.591569 -0.993608  0.798764 -0.791374  2.119639\n",
       "5  0.886429 -2.001637 -0.371843  1.669025 -0.438570\n",
       "6 -0.713544 -0.831154 -2.370232 -1.860761 -0.860757"
      ]
     },
     "execution_count": 39,
     "metadata": {},
     "output_type": "execute_result"
    }
   ],
   "source": [
    "people.groupby(len).sum()"
   ]
  },
  {
   "cell_type": "code",
   "execution_count": 40,
   "metadata": {
    "ExecuteTime": {
     "end_time": "2017-10-24T08:12:36.326387Z",
     "start_time": "2017-10-24T08:12:36.296306Z"
    }
   },
   "outputs": [
    {
     "data": {
      "text/html": [
       "<div>\n",
       "<style>\n",
       "    .dataframe thead tr:only-child th {\n",
       "        text-align: right;\n",
       "    }\n",
       "\n",
       "    .dataframe thead th {\n",
       "        text-align: left;\n",
       "    }\n",
       "\n",
       "    .dataframe tbody tr th {\n",
       "        vertical-align: top;\n",
       "    }\n",
       "</style>\n",
       "<table border=\"1\" class=\"dataframe\">\n",
       "  <thead>\n",
       "    <tr style=\"text-align: right;\">\n",
       "      <th></th>\n",
       "      <th></th>\n",
       "      <th>a</th>\n",
       "      <th>b</th>\n",
       "      <th>c</th>\n",
       "      <th>d</th>\n",
       "      <th>e</th>\n",
       "    </tr>\n",
       "  </thead>\n",
       "  <tbody>\n",
       "    <tr>\n",
       "      <th rowspan=\"2\" valign=\"top\">3</th>\n",
       "      <th>one</th>\n",
       "      <td>-0.539741</td>\n",
       "      <td>-1.296221</td>\n",
       "      <td>0.274992</td>\n",
       "      <td>-1.021228</td>\n",
       "      <td>-0.577087</td>\n",
       "    </tr>\n",
       "    <tr>\n",
       "      <th>two</th>\n",
       "      <td>0.124121</td>\n",
       "      <td>0.302614</td>\n",
       "      <td>0.523772</td>\n",
       "      <td>0.000940</td>\n",
       "      <td>1.343810</td>\n",
       "    </tr>\n",
       "    <tr>\n",
       "      <th>5</th>\n",
       "      <th>one</th>\n",
       "      <td>0.886429</td>\n",
       "      <td>-2.001637</td>\n",
       "      <td>-0.371843</td>\n",
       "      <td>1.669025</td>\n",
       "      <td>-0.438570</td>\n",
       "    </tr>\n",
       "    <tr>\n",
       "      <th>6</th>\n",
       "      <th>two</th>\n",
       "      <td>-0.713544</td>\n",
       "      <td>-0.831154</td>\n",
       "      <td>-2.370232</td>\n",
       "      <td>-1.860761</td>\n",
       "      <td>-0.860757</td>\n",
       "    </tr>\n",
       "  </tbody>\n",
       "</table>\n",
       "</div>"
      ],
      "text/plain": [
       "              a         b         c         d         e\n",
       "3 one -0.539741 -1.296221  0.274992 -1.021228 -0.577087\n",
       "  two  0.124121  0.302614  0.523772  0.000940  1.343810\n",
       "5 one  0.886429 -2.001637 -0.371843  1.669025 -0.438570\n",
       "6 two -0.713544 -0.831154 -2.370232 -1.860761 -0.860757"
      ]
     },
     "execution_count": 40,
     "metadata": {},
     "output_type": "execute_result"
    }
   ],
   "source": [
    "key_list = ['one', 'one', 'one', 'two', 'two']\n",
    "people.groupby([len, key_list]).min()"
   ]
  },
  {
   "cell_type": "markdown",
   "metadata": {},
   "source": [
    "### 9.1.5 インデックスレベルのグルーピング"
   ]
  },
  {
   "cell_type": "code",
   "execution_count": 41,
   "metadata": {
    "ExecuteTime": {
     "end_time": "2017-10-24T08:12:36.364488Z",
     "start_time": "2017-10-24T08:12:36.328392Z"
    }
   },
   "outputs": [
    {
     "data": {
      "text/html": [
       "<div>\n",
       "<style>\n",
       "    .dataframe thead tr:only-child th {\n",
       "        text-align: right;\n",
       "    }\n",
       "\n",
       "    .dataframe thead th {\n",
       "        text-align: left;\n",
       "    }\n",
       "\n",
       "    .dataframe tbody tr th {\n",
       "        vertical-align: top;\n",
       "    }\n",
       "</style>\n",
       "<table border=\"1\" class=\"dataframe\">\n",
       "  <thead>\n",
       "    <tr>\n",
       "      <th>cty</th>\n",
       "      <th colspan=\"3\" halign=\"left\">US</th>\n",
       "      <th colspan=\"2\" halign=\"left\">JP</th>\n",
       "    </tr>\n",
       "    <tr>\n",
       "      <th>tenor</th>\n",
       "      <th>1</th>\n",
       "      <th>3</th>\n",
       "      <th>5</th>\n",
       "      <th>1</th>\n",
       "      <th>3</th>\n",
       "    </tr>\n",
       "  </thead>\n",
       "  <tbody>\n",
       "    <tr>\n",
       "      <th>0</th>\n",
       "      <td>0.560145</td>\n",
       "      <td>-1.265934</td>\n",
       "      <td>0.119827</td>\n",
       "      <td>-1.063512</td>\n",
       "      <td>0.332883</td>\n",
       "    </tr>\n",
       "    <tr>\n",
       "      <th>1</th>\n",
       "      <td>-2.359419</td>\n",
       "      <td>-0.199543</td>\n",
       "      <td>-1.541996</td>\n",
       "      <td>-0.970736</td>\n",
       "      <td>-1.307030</td>\n",
       "    </tr>\n",
       "    <tr>\n",
       "      <th>2</th>\n",
       "      <td>0.286350</td>\n",
       "      <td>0.377984</td>\n",
       "      <td>-0.753887</td>\n",
       "      <td>0.331286</td>\n",
       "      <td>1.349742</td>\n",
       "    </tr>\n",
       "    <tr>\n",
       "      <th>3</th>\n",
       "      <td>0.069877</td>\n",
       "      <td>0.246674</td>\n",
       "      <td>-0.011862</td>\n",
       "      <td>1.004812</td>\n",
       "      <td>1.327195</td>\n",
       "    </tr>\n",
       "  </tbody>\n",
       "</table>\n",
       "</div>"
      ],
      "text/plain": [
       "cty          US                            JP          \n",
       "tenor         1         3         5         1         3\n",
       "0      0.560145 -1.265934  0.119827 -1.063512  0.332883\n",
       "1     -2.359419 -0.199543 -1.541996 -0.970736 -1.307030\n",
       "2      0.286350  0.377984 -0.753887  0.331286  1.349742\n",
       "3      0.069877  0.246674 -0.011862  1.004812  1.327195"
      ]
     },
     "execution_count": 41,
     "metadata": {},
     "output_type": "execute_result"
    }
   ],
   "source": [
    "columns = pd.MultiIndex.from_arrays([['US', 'US', 'US', 'JP', 'JP'],\n",
    "                                    [1, 3, 5, 1, 3]], names=['cty', 'tenor'])\n",
    "hier_df = DataFrame(np.random.randn(4, 5), columns=columns)\n",
    "hier_df"
   ]
  },
  {
   "cell_type": "code",
   "execution_count": 42,
   "metadata": {
    "ExecuteTime": {
     "end_time": "2017-10-24T08:12:36.396575Z",
     "start_time": "2017-10-24T08:12:36.365491Z"
    }
   },
   "outputs": [
    {
     "data": {
      "text/html": [
       "<div>\n",
       "<style>\n",
       "    .dataframe thead tr:only-child th {\n",
       "        text-align: right;\n",
       "    }\n",
       "\n",
       "    .dataframe thead th {\n",
       "        text-align: left;\n",
       "    }\n",
       "\n",
       "    .dataframe tbody tr th {\n",
       "        vertical-align: top;\n",
       "    }\n",
       "</style>\n",
       "<table border=\"1\" class=\"dataframe\">\n",
       "  <thead>\n",
       "    <tr style=\"text-align: right;\">\n",
       "      <th>cty</th>\n",
       "      <th>JP</th>\n",
       "      <th>US</th>\n",
       "    </tr>\n",
       "  </thead>\n",
       "  <tbody>\n",
       "    <tr>\n",
       "      <th>0</th>\n",
       "      <td>2</td>\n",
       "      <td>3</td>\n",
       "    </tr>\n",
       "    <tr>\n",
       "      <th>1</th>\n",
       "      <td>2</td>\n",
       "      <td>3</td>\n",
       "    </tr>\n",
       "    <tr>\n",
       "      <th>2</th>\n",
       "      <td>2</td>\n",
       "      <td>3</td>\n",
       "    </tr>\n",
       "    <tr>\n",
       "      <th>3</th>\n",
       "      <td>2</td>\n",
       "      <td>3</td>\n",
       "    </tr>\n",
       "  </tbody>\n",
       "</table>\n",
       "</div>"
      ],
      "text/plain": [
       "cty  JP  US\n",
       "0     2   3\n",
       "1     2   3\n",
       "2     2   3\n",
       "3     2   3"
      ]
     },
     "execution_count": 42,
     "metadata": {},
     "output_type": "execute_result"
    }
   ],
   "source": [
    "hier_df.groupby(level='cty', axis=1).count()"
   ]
  },
  {
   "cell_type": "markdown",
   "metadata": {},
   "source": [
    "## 9.2 データの集約\n",
    "- 集約というと、一般的には、何らかのデータ変形を行って配列からスカラー値を生成するようなことを指します\n",
    "- 集約後に集合演算を行います"
   ]
  },
  {
   "cell_type": "code",
   "execution_count": 43,
   "metadata": {
    "ExecuteTime": {
     "end_time": "2017-10-24T08:12:36.431669Z",
     "start_time": "2017-10-24T08:12:36.398582Z"
    }
   },
   "outputs": [
    {
     "data": {
      "text/html": [
       "<div>\n",
       "<style>\n",
       "    .dataframe thead tr:only-child th {\n",
       "        text-align: right;\n",
       "    }\n",
       "\n",
       "    .dataframe thead th {\n",
       "        text-align: left;\n",
       "    }\n",
       "\n",
       "    .dataframe tbody tr th {\n",
       "        vertical-align: top;\n",
       "    }\n",
       "</style>\n",
       "<table border=\"1\" class=\"dataframe\">\n",
       "  <thead>\n",
       "    <tr style=\"text-align: right;\">\n",
       "      <th></th>\n",
       "      <th>data1</th>\n",
       "      <th>data2</th>\n",
       "      <th>key1</th>\n",
       "      <th>key2</th>\n",
       "    </tr>\n",
       "  </thead>\n",
       "  <tbody>\n",
       "    <tr>\n",
       "      <th>0</th>\n",
       "      <td>-0.204708</td>\n",
       "      <td>1.393406</td>\n",
       "      <td>a</td>\n",
       "      <td>one</td>\n",
       "    </tr>\n",
       "    <tr>\n",
       "      <th>1</th>\n",
       "      <td>0.478943</td>\n",
       "      <td>0.092908</td>\n",
       "      <td>a</td>\n",
       "      <td>two</td>\n",
       "    </tr>\n",
       "    <tr>\n",
       "      <th>2</th>\n",
       "      <td>-0.519439</td>\n",
       "      <td>0.281746</td>\n",
       "      <td>b</td>\n",
       "      <td>one</td>\n",
       "    </tr>\n",
       "    <tr>\n",
       "      <th>3</th>\n",
       "      <td>-0.555730</td>\n",
       "      <td>0.769023</td>\n",
       "      <td>b</td>\n",
       "      <td>two</td>\n",
       "    </tr>\n",
       "    <tr>\n",
       "      <th>4</th>\n",
       "      <td>1.965781</td>\n",
       "      <td>1.246435</td>\n",
       "      <td>a</td>\n",
       "      <td>one</td>\n",
       "    </tr>\n",
       "  </tbody>\n",
       "</table>\n",
       "</div>"
      ],
      "text/plain": [
       "      data1     data2 key1 key2\n",
       "0 -0.204708  1.393406    a  one\n",
       "1  0.478943  0.092908    a  two\n",
       "2 -0.519439  0.281746    b  one\n",
       "3 -0.555730  0.769023    b  two\n",
       "4  1.965781  1.246435    a  one"
      ]
     },
     "execution_count": 43,
     "metadata": {},
     "output_type": "execute_result"
    }
   ],
   "source": [
    "df"
   ]
  },
  {
   "cell_type": "code",
   "execution_count": 44,
   "metadata": {
    "ExecuteTime": {
     "end_time": "2017-10-24T08:12:36.467764Z",
     "start_time": "2017-10-24T08:12:36.433674Z"
    }
   },
   "outputs": [
    {
     "data": {
      "text/plain": [
       "key1\n",
       "a    1.668413\n",
       "b   -0.523068\n",
       "Name: data1, dtype: float64"
      ]
     },
     "execution_count": 44,
     "metadata": {},
     "output_type": "execute_result"
    }
   ],
   "source": [
    "\"\"\"分位点\"\"\"\n",
    "grouped = df.groupby('key1')\n",
    "grouped['data1'].quantile(0.9)\n",
    "#grouped['data1'].quantile([0.1,0.9])"
   ]
  },
  {
   "cell_type": "code",
   "execution_count": 45,
   "metadata": {
    "ExecuteTime": {
     "end_time": "2017-10-24T08:12:36.682338Z",
     "start_time": "2017-10-24T08:12:36.468768Z"
    }
   },
   "outputs": [
    {
     "data": {
      "text/plain": [
       "key1\n",
       "a    Axes(0.125,0.125;0.775x0.755)\n",
       "b    Axes(0.125,0.125;0.775x0.755)\n",
       "Name: data1, dtype: object"
      ]
     },
     "execution_count": 45,
     "metadata": {},
     "output_type": "execute_result"
    },
    {
     "data": {
      "image/png": "[encoded data removed]",
      "text/plain": [
       "<matplotlib.figure.Figure at 0x25190410940>"
      ]
     },
     "metadata": {},
     "output_type": "display_data"
    }
   ],
   "source": [
    "#grouped[\"data1\"].plot(legend=True)\n",
    "grouped[\"data1\"].plot(kind=\"line\",marker=\"o\", legend=True)"
   ]
  },
  {
   "cell_type": "code",
   "execution_count": 46,
   "metadata": {
    "ExecuteTime": {
     "end_time": "2017-10-24T08:12:36.699384Z",
     "start_time": "2017-10-24T08:12:36.683341Z"
    }
   },
   "outputs": [
    {
     "data": {
      "text/html": [
       "<div>\n",
       "<style>\n",
       "    .dataframe thead tr:only-child th {\n",
       "        text-align: right;\n",
       "    }\n",
       "\n",
       "    .dataframe thead th {\n",
       "        text-align: left;\n",
       "    }\n",
       "\n",
       "    .dataframe tbody tr th {\n",
       "        vertical-align: top;\n",
       "    }\n",
       "</style>\n",
       "<table border=\"1\" class=\"dataframe\">\n",
       "  <thead>\n",
       "    <tr style=\"text-align: right;\">\n",
       "      <th></th>\n",
       "      <th>data1</th>\n",
       "      <th>data2</th>\n",
       "    </tr>\n",
       "    <tr>\n",
       "      <th>key1</th>\n",
       "      <th></th>\n",
       "      <th></th>\n",
       "    </tr>\n",
       "  </thead>\n",
       "  <tbody>\n",
       "    <tr>\n",
       "      <th>a</th>\n",
       "      <td>2.170488</td>\n",
       "      <td>1.300498</td>\n",
       "    </tr>\n",
       "    <tr>\n",
       "      <th>b</th>\n",
       "      <td>0.036292</td>\n",
       "      <td>0.487276</td>\n",
       "    </tr>\n",
       "  </tbody>\n",
       "</table>\n",
       "</div>"
      ],
      "text/plain": [
       "         data1     data2\n",
       "key1                    \n",
       "a     2.170488  1.300498\n",
       "b     0.036292  0.487276"
      ]
     },
     "execution_count": 46,
     "metadata": {},
     "output_type": "execute_result"
    }
   ],
   "source": [
    "\"\"\"カスタム集合関数\"\"\"\n",
    "def peak_to_peak(arr):\n",
    "    return arr.max() - arr.min()\n",
    "grouped.agg(peak_to_peak)"
   ]
  },
  {
   "cell_type": "code",
   "execution_count": 47,
   "metadata": {
    "ExecuteTime": {
     "end_time": "2017-10-24T08:12:36.783611Z",
     "start_time": "2017-10-24T08:12:36.701390Z"
    }
   },
   "outputs": [
    {
     "data": {
      "text/html": [
       "<div>\n",
       "<style>\n",
       "    .dataframe thead tr:only-child th {\n",
       "        text-align: right;\n",
       "    }\n",
       "\n",
       "    .dataframe thead th {\n",
       "        text-align: left;\n",
       "    }\n",
       "\n",
       "    .dataframe tbody tr th {\n",
       "        vertical-align: top;\n",
       "    }\n",
       "</style>\n",
       "<table border=\"1\" class=\"dataframe\">\n",
       "  <thead>\n",
       "    <tr>\n",
       "      <th></th>\n",
       "      <th colspan=\"8\" halign=\"left\">data1</th>\n",
       "      <th colspan=\"8\" halign=\"left\">data2</th>\n",
       "    </tr>\n",
       "    <tr>\n",
       "      <th></th>\n",
       "      <th>count</th>\n",
       "      <th>mean</th>\n",
       "      <th>std</th>\n",
       "      <th>min</th>\n",
       "      <th>25%</th>\n",
       "      <th>50%</th>\n",
       "      <th>75%</th>\n",
       "      <th>max</th>\n",
       "      <th>count</th>\n",
       "      <th>mean</th>\n",
       "      <th>std</th>\n",
       "      <th>min</th>\n",
       "      <th>25%</th>\n",
       "      <th>50%</th>\n",
       "      <th>75%</th>\n",
       "      <th>max</th>\n",
       "    </tr>\n",
       "    <tr>\n",
       "      <th>key1</th>\n",
       "      <th></th>\n",
       "      <th></th>\n",
       "      <th></th>\n",
       "      <th></th>\n",
       "      <th></th>\n",
       "      <th></th>\n",
       "      <th></th>\n",
       "      <th></th>\n",
       "      <th></th>\n",
       "      <th></th>\n",
       "      <th></th>\n",
       "      <th></th>\n",
       "      <th></th>\n",
       "      <th></th>\n",
       "      <th></th>\n",
       "      <th></th>\n",
       "    </tr>\n",
       "  </thead>\n",
       "  <tbody>\n",
       "    <tr>\n",
       "      <th>a</th>\n",
       "      <td>3.0</td>\n",
       "      <td>0.746672</td>\n",
       "      <td>1.109736</td>\n",
       "      <td>-0.204708</td>\n",
       "      <td>0.137118</td>\n",
       "      <td>0.478943</td>\n",
       "      <td>1.222362</td>\n",
       "      <td>1.965781</td>\n",
       "      <td>3.0</td>\n",
       "      <td>0.910916</td>\n",
       "      <td>0.712217</td>\n",
       "      <td>0.092908</td>\n",
       "      <td>0.669671</td>\n",
       "      <td>1.246435</td>\n",
       "      <td>1.319920</td>\n",
       "      <td>1.393406</td>\n",
       "    </tr>\n",
       "    <tr>\n",
       "      <th>b</th>\n",
       "      <td>2.0</td>\n",
       "      <td>-0.537585</td>\n",
       "      <td>0.025662</td>\n",
       "      <td>-0.555730</td>\n",
       "      <td>-0.546657</td>\n",
       "      <td>-0.537585</td>\n",
       "      <td>-0.528512</td>\n",
       "      <td>-0.519439</td>\n",
       "      <td>2.0</td>\n",
       "      <td>0.525384</td>\n",
       "      <td>0.344556</td>\n",
       "      <td>0.281746</td>\n",
       "      <td>0.403565</td>\n",
       "      <td>0.525384</td>\n",
       "      <td>0.647203</td>\n",
       "      <td>0.769023</td>\n",
       "    </tr>\n",
       "  </tbody>\n",
       "</table>\n",
       "</div>"
      ],
      "text/plain": [
       "     data1                                                              \\\n",
       "     count      mean       std       min       25%       50%       75%   \n",
       "key1                                                                     \n",
       "a      3.0  0.746672  1.109736 -0.204708  0.137118  0.478943  1.222362   \n",
       "b      2.0 -0.537585  0.025662 -0.555730 -0.546657 -0.537585 -0.528512   \n",
       "\n",
       "               data2                                                    \\\n",
       "           max count      mean       std       min       25%       50%   \n",
       "key1                                                                     \n",
       "a     1.965781   3.0  0.910916  0.712217  0.092908  0.669671  1.246435   \n",
       "b    -0.519439   2.0  0.525384  0.344556  0.281746  0.403565  0.525384   \n",
       "\n",
       "                          \n",
       "           75%       max  \n",
       "key1                      \n",
       "a     1.319920  1.393406  \n",
       "b     0.647203  0.769023  "
      ]
     },
     "execution_count": 47,
     "metadata": {},
     "output_type": "execute_result"
    }
   ],
   "source": [
    "grouped.describe()"
   ]
  },
  {
   "cell_type": "code",
   "execution_count": 48,
   "metadata": {
    "ExecuteTime": {
     "end_time": "2017-10-24T08:12:36.816700Z",
     "start_time": "2017-10-24T08:12:36.785615Z"
    }
   },
   "outputs": [
    {
     "data": {
      "text/html": [
       "<div>\n",
       "<style>\n",
       "    .dataframe thead tr:only-child th {\n",
       "        text-align: right;\n",
       "    }\n",
       "\n",
       "    .dataframe thead th {\n",
       "        text-align: left;\n",
       "    }\n",
       "\n",
       "    .dataframe tbody tr th {\n",
       "        vertical-align: top;\n",
       "    }\n",
       "</style>\n",
       "<table border=\"1\" class=\"dataframe\">\n",
       "  <thead>\n",
       "    <tr style=\"text-align: right;\">\n",
       "      <th></th>\n",
       "      <th>total_bill</th>\n",
       "      <th>tip</th>\n",
       "      <th>sex</th>\n",
       "      <th>smoker</th>\n",
       "      <th>day</th>\n",
       "      <th>time</th>\n",
       "      <th>size</th>\n",
       "      <th>tip_pct</th>\n",
       "    </tr>\n",
       "  </thead>\n",
       "  <tbody>\n",
       "    <tr>\n",
       "      <th>0</th>\n",
       "      <td>16.99</td>\n",
       "      <td>1.01</td>\n",
       "      <td>Female</td>\n",
       "      <td>No</td>\n",
       "      <td>Sun</td>\n",
       "      <td>Dinner</td>\n",
       "      <td>2</td>\n",
       "      <td>0.059447</td>\n",
       "    </tr>\n",
       "    <tr>\n",
       "      <th>1</th>\n",
       "      <td>10.34</td>\n",
       "      <td>1.66</td>\n",
       "      <td>Male</td>\n",
       "      <td>No</td>\n",
       "      <td>Sun</td>\n",
       "      <td>Dinner</td>\n",
       "      <td>3</td>\n",
       "      <td>0.160542</td>\n",
       "    </tr>\n",
       "    <tr>\n",
       "      <th>2</th>\n",
       "      <td>21.01</td>\n",
       "      <td>3.50</td>\n",
       "      <td>Male</td>\n",
       "      <td>No</td>\n",
       "      <td>Sun</td>\n",
       "      <td>Dinner</td>\n",
       "      <td>3</td>\n",
       "      <td>0.166587</td>\n",
       "    </tr>\n",
       "    <tr>\n",
       "      <th>3</th>\n",
       "      <td>23.68</td>\n",
       "      <td>3.31</td>\n",
       "      <td>Male</td>\n",
       "      <td>No</td>\n",
       "      <td>Sun</td>\n",
       "      <td>Dinner</td>\n",
       "      <td>2</td>\n",
       "      <td>0.139780</td>\n",
       "    </tr>\n",
       "    <tr>\n",
       "      <th>4</th>\n",
       "      <td>24.59</td>\n",
       "      <td>3.61</td>\n",
       "      <td>Female</td>\n",
       "      <td>No</td>\n",
       "      <td>Sun</td>\n",
       "      <td>Dinner</td>\n",
       "      <td>4</td>\n",
       "      <td>0.146808</td>\n",
       "    </tr>\n",
       "    <tr>\n",
       "      <th>5</th>\n",
       "      <td>25.29</td>\n",
       "      <td>4.71</td>\n",
       "      <td>Male</td>\n",
       "      <td>No</td>\n",
       "      <td>Sun</td>\n",
       "      <td>Dinner</td>\n",
       "      <td>4</td>\n",
       "      <td>0.186240</td>\n",
       "    </tr>\n",
       "  </tbody>\n",
       "</table>\n",
       "</div>"
      ],
      "text/plain": [
       "   total_bill   tip     sex smoker  day    time  size   tip_pct\n",
       "0       16.99  1.01  Female     No  Sun  Dinner     2  0.059447\n",
       "1       10.34  1.66    Male     No  Sun  Dinner     3  0.160542\n",
       "2       21.01  3.50    Male     No  Sun  Dinner     3  0.166587\n",
       "3       23.68  3.31    Male     No  Sun  Dinner     2  0.139780\n",
       "4       24.59  3.61  Female     No  Sun  Dinner     4  0.146808\n",
       "5       25.29  4.71    Male     No  Sun  Dinner     4  0.186240"
      ]
     },
     "execution_count": 48,
     "metadata": {},
     "output_type": "execute_result"
    }
   ],
   "source": [
    "tips = pd.read_csv('ch08/tips.csv')\n",
    "# Add tip percentage of total bill\n",
    "tips['tip_pct'] = tips['tip'] / tips['total_bill']\n",
    "tips[:6]"
   ]
  },
  {
   "cell_type": "markdown",
   "metadata": {},
   "source": [
    "### 2.2.1 列に複数の関数を適用する"
   ]
  },
  {
   "cell_type": "code",
   "execution_count": 49,
   "metadata": {
    "ExecuteTime": {
     "end_time": "2017-10-24T08:12:36.847781Z",
     "start_time": "2017-10-24T08:12:36.818703Z"
    },
    "collapsed": true
   },
   "outputs": [],
   "source": [
    "grouped = tips.groupby(['sex', 'smoker'])"
   ]
  },
  {
   "cell_type": "code",
   "execution_count": 50,
   "metadata": {
    "ExecuteTime": {
     "end_time": "2017-10-24T08:12:36.880871Z",
     "start_time": "2017-10-24T08:12:36.849786Z"
    }
   },
   "outputs": [
    {
     "data": {
      "text/plain": [
       "sex     smoker\n",
       "Female  No        0.156921\n",
       "        Yes       0.182150\n",
       "Male    No        0.160669\n",
       "        Yes       0.152771\n",
       "Name: tip_pct, dtype: float64"
      ]
     },
     "execution_count": 50,
     "metadata": {},
     "output_type": "execute_result"
    }
   ],
   "source": [
    "grouped_pct = grouped['tip_pct']\n",
    "grouped_pct.agg('mean')"
   ]
  },
  {
   "cell_type": "code",
   "execution_count": 51,
   "metadata": {
    "ExecuteTime": {
     "end_time": "2017-10-24T08:12:36.916967Z",
     "start_time": "2017-10-24T08:12:36.881871Z"
    }
   },
   "outputs": [
    {
     "data": {
      "text/html": [
       "<div>\n",
       "<style>\n",
       "    .dataframe thead tr:only-child th {\n",
       "        text-align: right;\n",
       "    }\n",
       "\n",
       "    .dataframe thead th {\n",
       "        text-align: left;\n",
       "    }\n",
       "\n",
       "    .dataframe tbody tr th {\n",
       "        vertical-align: top;\n",
       "    }\n",
       "</style>\n",
       "<table border=\"1\" class=\"dataframe\">\n",
       "  <thead>\n",
       "    <tr style=\"text-align: right;\">\n",
       "      <th></th>\n",
       "      <th></th>\n",
       "      <th>mean</th>\n",
       "      <th>std</th>\n",
       "      <th>peak_to_peak</th>\n",
       "    </tr>\n",
       "    <tr>\n",
       "      <th>sex</th>\n",
       "      <th>smoker</th>\n",
       "      <th></th>\n",
       "      <th></th>\n",
       "      <th></th>\n",
       "    </tr>\n",
       "  </thead>\n",
       "  <tbody>\n",
       "    <tr>\n",
       "      <th rowspan=\"2\" valign=\"top\">Female</th>\n",
       "      <th>No</th>\n",
       "      <td>0.156921</td>\n",
       "      <td>0.036421</td>\n",
       "      <td>0.195876</td>\n",
       "    </tr>\n",
       "    <tr>\n",
       "      <th>Yes</th>\n",
       "      <td>0.182150</td>\n",
       "      <td>0.071595</td>\n",
       "      <td>0.360233</td>\n",
       "    </tr>\n",
       "    <tr>\n",
       "      <th rowspan=\"2\" valign=\"top\">Male</th>\n",
       "      <th>No</th>\n",
       "      <td>0.160669</td>\n",
       "      <td>0.041849</td>\n",
       "      <td>0.220186</td>\n",
       "    </tr>\n",
       "    <tr>\n",
       "      <th>Yes</th>\n",
       "      <td>0.152771</td>\n",
       "      <td>0.090588</td>\n",
       "      <td>0.674707</td>\n",
       "    </tr>\n",
       "  </tbody>\n",
       "</table>\n",
       "</div>"
      ],
      "text/plain": [
       "                   mean       std  peak_to_peak\n",
       "sex    smoker                                  \n",
       "Female No      0.156921  0.036421      0.195876\n",
       "       Yes     0.182150  0.071595      0.360233\n",
       "Male   No      0.160669  0.041849      0.220186\n",
       "       Yes     0.152771  0.090588      0.674707"
      ]
     },
     "execution_count": 51,
     "metadata": {},
     "output_type": "execute_result"
    }
   ],
   "source": [
    "\"\"\"複数の集合関数を使う\"\"\"\n",
    "grouped_pct.agg(['mean', 'std', peak_to_peak])"
   ]
  },
  {
   "cell_type": "code",
   "execution_count": 52,
   "metadata": {
    "ExecuteTime": {
     "end_time": "2017-10-24T08:12:36.948049Z",
     "start_time": "2017-10-24T08:12:36.917968Z"
    }
   },
   "outputs": [
    {
     "data": {
      "text/html": [
       "<div>\n",
       "<style>\n",
       "    .dataframe thead tr:only-child th {\n",
       "        text-align: right;\n",
       "    }\n",
       "\n",
       "    .dataframe thead th {\n",
       "        text-align: left;\n",
       "    }\n",
       "\n",
       "    .dataframe tbody tr th {\n",
       "        vertical-align: top;\n",
       "    }\n",
       "</style>\n",
       "<table border=\"1\" class=\"dataframe\">\n",
       "  <thead>\n",
       "    <tr style=\"text-align: right;\">\n",
       "      <th></th>\n",
       "      <th></th>\n",
       "      <th>foo</th>\n",
       "      <th>bar</th>\n",
       "    </tr>\n",
       "    <tr>\n",
       "      <th>sex</th>\n",
       "      <th>smoker</th>\n",
       "      <th></th>\n",
       "      <th></th>\n",
       "    </tr>\n",
       "  </thead>\n",
       "  <tbody>\n",
       "    <tr>\n",
       "      <th rowspan=\"2\" valign=\"top\">Female</th>\n",
       "      <th>No</th>\n",
       "      <td>0.156921</td>\n",
       "      <td>0.036421</td>\n",
       "    </tr>\n",
       "    <tr>\n",
       "      <th>Yes</th>\n",
       "      <td>0.182150</td>\n",
       "      <td>0.071595</td>\n",
       "    </tr>\n",
       "    <tr>\n",
       "      <th rowspan=\"2\" valign=\"top\">Male</th>\n",
       "      <th>No</th>\n",
       "      <td>0.160669</td>\n",
       "      <td>0.041849</td>\n",
       "    </tr>\n",
       "    <tr>\n",
       "      <th>Yes</th>\n",
       "      <td>0.152771</td>\n",
       "      <td>0.090588</td>\n",
       "    </tr>\n",
       "  </tbody>\n",
       "</table>\n",
       "</div>"
      ],
      "text/plain": [
       "                    foo       bar\n",
       "sex    smoker                    \n",
       "Female No      0.156921  0.036421\n",
       "       Yes     0.182150  0.071595\n",
       "Male   No      0.160669  0.041849\n",
       "       Yes     0.152771  0.090588"
      ]
     },
     "execution_count": 52,
     "metadata": {},
     "output_type": "execute_result"
    }
   ],
   "source": [
    "\"\"\"集合関数の項目エイリアス {'エイリアス': '集合演算'}\"\"\"\n",
    "grouped_pct.agg([('foo', 'mean'), ('bar', np.std)])"
   ]
  },
  {
   "cell_type": "code",
   "execution_count": 53,
   "metadata": {
    "ExecuteTime": {
     "end_time": "2017-10-24T08:12:36.996178Z",
     "start_time": "2017-10-24T08:12:36.950054Z"
    }
   },
   "outputs": [
    {
     "data": {
      "text/html": [
       "<div>\n",
       "<style>\n",
       "    .dataframe thead tr:only-child th {\n",
       "        text-align: right;\n",
       "    }\n",
       "\n",
       "    .dataframe thead th {\n",
       "        text-align: left;\n",
       "    }\n",
       "\n",
       "    .dataframe tbody tr th {\n",
       "        vertical-align: top;\n",
       "    }\n",
       "</style>\n",
       "<table border=\"1\" class=\"dataframe\">\n",
       "  <thead>\n",
       "    <tr>\n",
       "      <th></th>\n",
       "      <th></th>\n",
       "      <th colspan=\"3\" halign=\"left\">tip_pct</th>\n",
       "      <th colspan=\"3\" halign=\"left\">total_bill</th>\n",
       "    </tr>\n",
       "    <tr>\n",
       "      <th></th>\n",
       "      <th></th>\n",
       "      <th>count</th>\n",
       "      <th>mean</th>\n",
       "      <th>max</th>\n",
       "      <th>count</th>\n",
       "      <th>mean</th>\n",
       "      <th>max</th>\n",
       "    </tr>\n",
       "    <tr>\n",
       "      <th>sex</th>\n",
       "      <th>smoker</th>\n",
       "      <th></th>\n",
       "      <th></th>\n",
       "      <th></th>\n",
       "      <th></th>\n",
       "      <th></th>\n",
       "      <th></th>\n",
       "    </tr>\n",
       "  </thead>\n",
       "  <tbody>\n",
       "    <tr>\n",
       "      <th rowspan=\"2\" valign=\"top\">Female</th>\n",
       "      <th>No</th>\n",
       "      <td>54</td>\n",
       "      <td>0.156921</td>\n",
       "      <td>0.252672</td>\n",
       "      <td>54</td>\n",
       "      <td>18.105185</td>\n",
       "      <td>35.83</td>\n",
       "    </tr>\n",
       "    <tr>\n",
       "      <th>Yes</th>\n",
       "      <td>33</td>\n",
       "      <td>0.182150</td>\n",
       "      <td>0.416667</td>\n",
       "      <td>33</td>\n",
       "      <td>17.977879</td>\n",
       "      <td>44.30</td>\n",
       "    </tr>\n",
       "    <tr>\n",
       "      <th rowspan=\"2\" valign=\"top\">Male</th>\n",
       "      <th>No</th>\n",
       "      <td>97</td>\n",
       "      <td>0.160669</td>\n",
       "      <td>0.291990</td>\n",
       "      <td>97</td>\n",
       "      <td>19.791237</td>\n",
       "      <td>48.33</td>\n",
       "    </tr>\n",
       "    <tr>\n",
       "      <th>Yes</th>\n",
       "      <td>60</td>\n",
       "      <td>0.152771</td>\n",
       "      <td>0.710345</td>\n",
       "      <td>60</td>\n",
       "      <td>22.284500</td>\n",
       "      <td>50.81</td>\n",
       "    </tr>\n",
       "  </tbody>\n",
       "</table>\n",
       "</div>"
      ],
      "text/plain": [
       "              tip_pct                     total_bill                  \n",
       "                count      mean       max      count       mean    max\n",
       "sex    smoker                                                         \n",
       "Female No          54  0.156921  0.252672         54  18.105185  35.83\n",
       "       Yes         33  0.182150  0.416667         33  17.977879  44.30\n",
       "Male   No          97  0.160669  0.291990         97  19.791237  48.33\n",
       "       Yes         60  0.152771  0.710345         60  22.284500  50.81"
      ]
     },
     "execution_count": 53,
     "metadata": {},
     "output_type": "execute_result"
    }
   ],
   "source": [
    "functions = ['count', 'mean', 'max']\n",
    "result = grouped['tip_pct', 'total_bill'].agg(functions)\n",
    "result"
   ]
  },
  {
   "cell_type": "code",
   "execution_count": 54,
   "metadata": {
    "ExecuteTime": {
     "end_time": "2017-10-24T08:12:37.034279Z",
     "start_time": "2017-10-24T08:12:36.998183Z"
    }
   },
   "outputs": [
    {
     "data": {
      "text/html": [
       "<div>\n",
       "<style>\n",
       "    .dataframe thead tr:only-child th {\n",
       "        text-align: right;\n",
       "    }\n",
       "\n",
       "    .dataframe thead th {\n",
       "        text-align: left;\n",
       "    }\n",
       "\n",
       "    .dataframe tbody tr th {\n",
       "        vertical-align: top;\n",
       "    }\n",
       "</style>\n",
       "<table border=\"1\" class=\"dataframe\">\n",
       "  <thead>\n",
       "    <tr style=\"text-align: right;\">\n",
       "      <th></th>\n",
       "      <th></th>\n",
       "      <th>count</th>\n",
       "      <th>mean</th>\n",
       "      <th>max</th>\n",
       "    </tr>\n",
       "    <tr>\n",
       "      <th>sex</th>\n",
       "      <th>smoker</th>\n",
       "      <th></th>\n",
       "      <th></th>\n",
       "      <th></th>\n",
       "    </tr>\n",
       "  </thead>\n",
       "  <tbody>\n",
       "    <tr>\n",
       "      <th rowspan=\"2\" valign=\"top\">Female</th>\n",
       "      <th>No</th>\n",
       "      <td>54</td>\n",
       "      <td>0.156921</td>\n",
       "      <td>0.252672</td>\n",
       "    </tr>\n",
       "    <tr>\n",
       "      <th>Yes</th>\n",
       "      <td>33</td>\n",
       "      <td>0.182150</td>\n",
       "      <td>0.416667</td>\n",
       "    </tr>\n",
       "    <tr>\n",
       "      <th rowspan=\"2\" valign=\"top\">Male</th>\n",
       "      <th>No</th>\n",
       "      <td>97</td>\n",
       "      <td>0.160669</td>\n",
       "      <td>0.291990</td>\n",
       "    </tr>\n",
       "    <tr>\n",
       "      <th>Yes</th>\n",
       "      <td>60</td>\n",
       "      <td>0.152771</td>\n",
       "      <td>0.710345</td>\n",
       "    </tr>\n",
       "  </tbody>\n",
       "</table>\n",
       "</div>"
      ],
      "text/plain": [
       "               count      mean       max\n",
       "sex    smoker                           \n",
       "Female No         54  0.156921  0.252672\n",
       "       Yes        33  0.182150  0.416667\n",
       "Male   No         97  0.160669  0.291990\n",
       "       Yes        60  0.152771  0.710345"
      ]
     },
     "execution_count": 54,
     "metadata": {},
     "output_type": "execute_result"
    }
   ],
   "source": [
    "result['tip_pct']"
   ]
  },
  {
   "cell_type": "code",
   "execution_count": 55,
   "metadata": {
    "ExecuteTime": {
     "end_time": "2017-10-24T08:12:37.076393Z",
     "start_time": "2017-10-24T08:12:37.036284Z"
    }
   },
   "outputs": [
    {
     "data": {
      "text/html": [
       "<div>\n",
       "<style>\n",
       "    .dataframe thead tr:only-child th {\n",
       "        text-align: right;\n",
       "    }\n",
       "\n",
       "    .dataframe thead th {\n",
       "        text-align: left;\n",
       "    }\n",
       "\n",
       "    .dataframe tbody tr th {\n",
       "        vertical-align: top;\n",
       "    }\n",
       "</style>\n",
       "<table border=\"1\" class=\"dataframe\">\n",
       "  <thead>\n",
       "    <tr>\n",
       "      <th></th>\n",
       "      <th></th>\n",
       "      <th colspan=\"2\" halign=\"left\">tip_pct</th>\n",
       "      <th colspan=\"2\" halign=\"left\">total_bill</th>\n",
       "    </tr>\n",
       "    <tr>\n",
       "      <th></th>\n",
       "      <th></th>\n",
       "      <th>Durchschnitt</th>\n",
       "      <th>Abweichung</th>\n",
       "      <th>Durchschnitt</th>\n",
       "      <th>Abweichung</th>\n",
       "    </tr>\n",
       "    <tr>\n",
       "      <th>sex</th>\n",
       "      <th>smoker</th>\n",
       "      <th></th>\n",
       "      <th></th>\n",
       "      <th></th>\n",
       "      <th></th>\n",
       "    </tr>\n",
       "  </thead>\n",
       "  <tbody>\n",
       "    <tr>\n",
       "      <th rowspan=\"2\" valign=\"top\">Female</th>\n",
       "      <th>No</th>\n",
       "      <td>0.156921</td>\n",
       "      <td>0.001327</td>\n",
       "      <td>18.105185</td>\n",
       "      <td>53.092422</td>\n",
       "    </tr>\n",
       "    <tr>\n",
       "      <th>Yes</th>\n",
       "      <td>0.182150</td>\n",
       "      <td>0.005126</td>\n",
       "      <td>17.977879</td>\n",
       "      <td>84.451517</td>\n",
       "    </tr>\n",
       "    <tr>\n",
       "      <th rowspan=\"2\" valign=\"top\">Male</th>\n",
       "      <th>No</th>\n",
       "      <td>0.160669</td>\n",
       "      <td>0.001751</td>\n",
       "      <td>19.791237</td>\n",
       "      <td>76.152961</td>\n",
       "    </tr>\n",
       "    <tr>\n",
       "      <th>Yes</th>\n",
       "      <td>0.152771</td>\n",
       "      <td>0.008206</td>\n",
       "      <td>22.284500</td>\n",
       "      <td>98.244673</td>\n",
       "    </tr>\n",
       "  </tbody>\n",
       "</table>\n",
       "</div>"
      ],
      "text/plain": [
       "                   tip_pct              total_bill           \n",
       "              Durchschnitt Abweichung Durchschnitt Abweichung\n",
       "sex    smoker                                                \n",
       "Female No         0.156921   0.001327    18.105185  53.092422\n",
       "       Yes        0.182150   0.005126    17.977879  84.451517\n",
       "Male   No         0.160669   0.001751    19.791237  76.152961\n",
       "       Yes        0.152771   0.008206    22.284500  98.244673"
      ]
     },
     "execution_count": 55,
     "metadata": {},
     "output_type": "execute_result"
    }
   ],
   "source": [
    "ftuples = [('Durchschnitt', 'mean'), ('Abweichung', np.var)]\n",
    "grouped['tip_pct', 'total_bill'].agg(ftuples)"
   ]
  },
  {
   "cell_type": "code",
   "execution_count": 56,
   "metadata": {
    "ExecuteTime": {
     "end_time": "2017-10-24T08:12:37.114493Z",
     "start_time": "2017-10-24T08:12:37.078397Z"
    }
   },
   "outputs": [
    {
     "data": {
      "text/html": [
       "<div>\n",
       "<style>\n",
       "    .dataframe thead tr:only-child th {\n",
       "        text-align: right;\n",
       "    }\n",
       "\n",
       "    .dataframe thead th {\n",
       "        text-align: left;\n",
       "    }\n",
       "\n",
       "    .dataframe tbody tr th {\n",
       "        vertical-align: top;\n",
       "    }\n",
       "</style>\n",
       "<table border=\"1\" class=\"dataframe\">\n",
       "  <thead>\n",
       "    <tr style=\"text-align: right;\">\n",
       "      <th></th>\n",
       "      <th></th>\n",
       "      <th>tip</th>\n",
       "      <th>size</th>\n",
       "    </tr>\n",
       "    <tr>\n",
       "      <th>sex</th>\n",
       "      <th>smoker</th>\n",
       "      <th></th>\n",
       "      <th></th>\n",
       "    </tr>\n",
       "  </thead>\n",
       "  <tbody>\n",
       "    <tr>\n",
       "      <th rowspan=\"2\" valign=\"top\">Female</th>\n",
       "      <th>No</th>\n",
       "      <td>5.2</td>\n",
       "      <td>140</td>\n",
       "    </tr>\n",
       "    <tr>\n",
       "      <th>Yes</th>\n",
       "      <td>6.5</td>\n",
       "      <td>74</td>\n",
       "    </tr>\n",
       "    <tr>\n",
       "      <th rowspan=\"2\" valign=\"top\">Male</th>\n",
       "      <th>No</th>\n",
       "      <td>9.0</td>\n",
       "      <td>263</td>\n",
       "    </tr>\n",
       "    <tr>\n",
       "      <th>Yes</th>\n",
       "      <td>10.0</td>\n",
       "      <td>150</td>\n",
       "    </tr>\n",
       "  </tbody>\n",
       "</table>\n",
       "</div>"
      ],
      "text/plain": [
       "                tip  size\n",
       "sex    smoker            \n",
       "Female No       5.2   140\n",
       "       Yes      6.5    74\n",
       "Male   No       9.0   263\n",
       "       Yes     10.0   150"
      ]
     },
     "execution_count": 56,
     "metadata": {},
     "output_type": "execute_result"
    }
   ],
   "source": [
    "grouped.agg({'tip' : np.max, 'size' : 'sum'})"
   ]
  },
  {
   "cell_type": "code",
   "execution_count": 57,
   "metadata": {
    "ExecuteTime": {
     "end_time": "2017-10-24T08:12:37.154601Z",
     "start_time": "2017-10-24T08:12:37.115496Z"
    }
   },
   "outputs": [
    {
     "data": {
      "text/html": [
       "<div>\n",
       "<style>\n",
       "    .dataframe thead tr:only-child th {\n",
       "        text-align: right;\n",
       "    }\n",
       "\n",
       "    .dataframe thead th {\n",
       "        text-align: left;\n",
       "    }\n",
       "\n",
       "    .dataframe tbody tr th {\n",
       "        vertical-align: top;\n",
       "    }\n",
       "</style>\n",
       "<table border=\"1\" class=\"dataframe\">\n",
       "  <thead>\n",
       "    <tr>\n",
       "      <th></th>\n",
       "      <th></th>\n",
       "      <th colspan=\"4\" halign=\"left\">tip_pct</th>\n",
       "      <th>size</th>\n",
       "    </tr>\n",
       "    <tr>\n",
       "      <th></th>\n",
       "      <th></th>\n",
       "      <th>min</th>\n",
       "      <th>max</th>\n",
       "      <th>mean</th>\n",
       "      <th>std</th>\n",
       "      <th>sum</th>\n",
       "    </tr>\n",
       "    <tr>\n",
       "      <th>sex</th>\n",
       "      <th>smoker</th>\n",
       "      <th></th>\n",
       "      <th></th>\n",
       "      <th></th>\n",
       "      <th></th>\n",
       "      <th></th>\n",
       "    </tr>\n",
       "  </thead>\n",
       "  <tbody>\n",
       "    <tr>\n",
       "      <th rowspan=\"2\" valign=\"top\">Female</th>\n",
       "      <th>No</th>\n",
       "      <td>0.056797</td>\n",
       "      <td>0.252672</td>\n",
       "      <td>0.156921</td>\n",
       "      <td>0.036421</td>\n",
       "      <td>140</td>\n",
       "    </tr>\n",
       "    <tr>\n",
       "      <th>Yes</th>\n",
       "      <td>0.056433</td>\n",
       "      <td>0.416667</td>\n",
       "      <td>0.182150</td>\n",
       "      <td>0.071595</td>\n",
       "      <td>74</td>\n",
       "    </tr>\n",
       "    <tr>\n",
       "      <th rowspan=\"2\" valign=\"top\">Male</th>\n",
       "      <th>No</th>\n",
       "      <td>0.071804</td>\n",
       "      <td>0.291990</td>\n",
       "      <td>0.160669</td>\n",
       "      <td>0.041849</td>\n",
       "      <td>263</td>\n",
       "    </tr>\n",
       "    <tr>\n",
       "      <th>Yes</th>\n",
       "      <td>0.035638</td>\n",
       "      <td>0.710345</td>\n",
       "      <td>0.152771</td>\n",
       "      <td>0.090588</td>\n",
       "      <td>150</td>\n",
       "    </tr>\n",
       "  </tbody>\n",
       "</table>\n",
       "</div>"
      ],
      "text/plain": [
       "                tip_pct                               size\n",
       "                    min       max      mean       std  sum\n",
       "sex    smoker                                             \n",
       "Female No      0.056797  0.252672  0.156921  0.036421  140\n",
       "       Yes     0.056433  0.416667  0.182150  0.071595   74\n",
       "Male   No      0.071804  0.291990  0.160669  0.041849  263\n",
       "       Yes     0.035638  0.710345  0.152771  0.090588  150"
      ]
     },
     "execution_count": 57,
     "metadata": {},
     "output_type": "execute_result"
    }
   ],
   "source": [
    "grouped.agg({'tip_pct' : ['min', 'max', 'mean', 'std'],\n",
    "             'size' : 'sum'})"
   ]
  },
  {
   "cell_type": "markdown",
   "metadata": {},
   "source": [
    "### 9.2.2 集約されたデータを「インデックスされていない形式」で戻す"
   ]
  },
  {
   "cell_type": "markdown",
   "metadata": {},
   "source": [
    "- インデックスの無効化 => ```as_index=False```"
   ]
  },
  {
   "cell_type": "code",
   "execution_count": 58,
   "metadata": {
    "ExecuteTime": {
     "end_time": "2017-10-24T08:12:37.191700Z",
     "start_time": "2017-10-24T08:12:37.155604Z"
    }
   },
   "outputs": [
    {
     "data": {
      "text/html": [
       "<div>\n",
       "<style>\n",
       "    .dataframe thead tr:only-child th {\n",
       "        text-align: right;\n",
       "    }\n",
       "\n",
       "    .dataframe thead th {\n",
       "        text-align: left;\n",
       "    }\n",
       "\n",
       "    .dataframe tbody tr th {\n",
       "        vertical-align: top;\n",
       "    }\n",
       "</style>\n",
       "<table border=\"1\" class=\"dataframe\">\n",
       "  <thead>\n",
       "    <tr style=\"text-align: right;\">\n",
       "      <th></th>\n",
       "      <th>sex</th>\n",
       "      <th>smoker</th>\n",
       "      <th>total_bill</th>\n",
       "      <th>tip</th>\n",
       "      <th>size</th>\n",
       "      <th>tip_pct</th>\n",
       "    </tr>\n",
       "  </thead>\n",
       "  <tbody>\n",
       "    <tr>\n",
       "      <th>0</th>\n",
       "      <td>Female</td>\n",
       "      <td>No</td>\n",
       "      <td>18.105185</td>\n",
       "      <td>2.773519</td>\n",
       "      <td>2.592593</td>\n",
       "      <td>0.156921</td>\n",
       "    </tr>\n",
       "    <tr>\n",
       "      <th>1</th>\n",
       "      <td>Female</td>\n",
       "      <td>Yes</td>\n",
       "      <td>17.977879</td>\n",
       "      <td>2.931515</td>\n",
       "      <td>2.242424</td>\n",
       "      <td>0.182150</td>\n",
       "    </tr>\n",
       "    <tr>\n",
       "      <th>2</th>\n",
       "      <td>Male</td>\n",
       "      <td>No</td>\n",
       "      <td>19.791237</td>\n",
       "      <td>3.113402</td>\n",
       "      <td>2.711340</td>\n",
       "      <td>0.160669</td>\n",
       "    </tr>\n",
       "    <tr>\n",
       "      <th>3</th>\n",
       "      <td>Male</td>\n",
       "      <td>Yes</td>\n",
       "      <td>22.284500</td>\n",
       "      <td>3.051167</td>\n",
       "      <td>2.500000</td>\n",
       "      <td>0.152771</td>\n",
       "    </tr>\n",
       "  </tbody>\n",
       "</table>\n",
       "</div>"
      ],
      "text/plain": [
       "      sex smoker  total_bill       tip      size   tip_pct\n",
       "0  Female     No   18.105185  2.773519  2.592593  0.156921\n",
       "1  Female    Yes   17.977879  2.931515  2.242424  0.182150\n",
       "2    Male     No   19.791237  3.113402  2.711340  0.160669\n",
       "3    Male    Yes   22.284500  3.051167  2.500000  0.152771"
      ]
     },
     "execution_count": 58,
     "metadata": {},
     "output_type": "execute_result"
    }
   ],
   "source": [
    "tips.groupby(['sex', 'smoker'], as_index=False).mean()"
   ]
  },
  {
   "cell_type": "markdown",
   "metadata": {},
   "source": [
    "## 9.3 グループ指向の演算と変形\n",
    "- transform\n",
    "- apply"
   ]
  },
  {
   "cell_type": "code",
   "execution_count": 59,
   "metadata": {
    "ExecuteTime": {
     "end_time": "2017-10-24T08:12:37.222783Z",
     "start_time": "2017-10-24T08:12:37.193705Z"
    }
   },
   "outputs": [
    {
     "data": {
      "text/html": [
       "<div>\n",
       "<style>\n",
       "    .dataframe thead tr:only-child th {\n",
       "        text-align: right;\n",
       "    }\n",
       "\n",
       "    .dataframe thead th {\n",
       "        text-align: left;\n",
       "    }\n",
       "\n",
       "    .dataframe tbody tr th {\n",
       "        vertical-align: top;\n",
       "    }\n",
       "</style>\n",
       "<table border=\"1\" class=\"dataframe\">\n",
       "  <thead>\n",
       "    <tr style=\"text-align: right;\">\n",
       "      <th></th>\n",
       "      <th>data1</th>\n",
       "      <th>data2</th>\n",
       "      <th>key1</th>\n",
       "      <th>key2</th>\n",
       "    </tr>\n",
       "  </thead>\n",
       "  <tbody>\n",
       "    <tr>\n",
       "      <th>0</th>\n",
       "      <td>-0.204708</td>\n",
       "      <td>1.393406</td>\n",
       "      <td>a</td>\n",
       "      <td>one</td>\n",
       "    </tr>\n",
       "    <tr>\n",
       "      <th>1</th>\n",
       "      <td>0.478943</td>\n",
       "      <td>0.092908</td>\n",
       "      <td>a</td>\n",
       "      <td>two</td>\n",
       "    </tr>\n",
       "    <tr>\n",
       "      <th>2</th>\n",
       "      <td>-0.519439</td>\n",
       "      <td>0.281746</td>\n",
       "      <td>b</td>\n",
       "      <td>one</td>\n",
       "    </tr>\n",
       "    <tr>\n",
       "      <th>3</th>\n",
       "      <td>-0.555730</td>\n",
       "      <td>0.769023</td>\n",
       "      <td>b</td>\n",
       "      <td>two</td>\n",
       "    </tr>\n",
       "    <tr>\n",
       "      <th>4</th>\n",
       "      <td>1.965781</td>\n",
       "      <td>1.246435</td>\n",
       "      <td>a</td>\n",
       "      <td>one</td>\n",
       "    </tr>\n",
       "  </tbody>\n",
       "</table>\n",
       "</div>"
      ],
      "text/plain": [
       "      data1     data2 key1 key2\n",
       "0 -0.204708  1.393406    a  one\n",
       "1  0.478943  0.092908    a  two\n",
       "2 -0.519439  0.281746    b  one\n",
       "3 -0.555730  0.769023    b  two\n",
       "4  1.965781  1.246435    a  one"
      ]
     },
     "execution_count": 59,
     "metadata": {},
     "output_type": "execute_result"
    }
   ],
   "source": [
    "df"
   ]
  },
  {
   "cell_type": "code",
   "execution_count": 60,
   "metadata": {
    "ExecuteTime": {
     "end_time": "2017-10-24T08:12:37.257878Z",
     "start_time": "2017-10-24T08:12:37.224789Z"
    }
   },
   "outputs": [
    {
     "data": {
      "text/html": [
       "<div>\n",
       "<style>\n",
       "    .dataframe thead tr:only-child th {\n",
       "        text-align: right;\n",
       "    }\n",
       "\n",
       "    .dataframe thead th {\n",
       "        text-align: left;\n",
       "    }\n",
       "\n",
       "    .dataframe tbody tr th {\n",
       "        vertical-align: top;\n",
       "    }\n",
       "</style>\n",
       "<table border=\"1\" class=\"dataframe\">\n",
       "  <thead>\n",
       "    <tr style=\"text-align: right;\">\n",
       "      <th></th>\n",
       "      <th>mean_data1</th>\n",
       "      <th>mean_data2</th>\n",
       "    </tr>\n",
       "    <tr>\n",
       "      <th>key1</th>\n",
       "      <th></th>\n",
       "      <th></th>\n",
       "    </tr>\n",
       "  </thead>\n",
       "  <tbody>\n",
       "    <tr>\n",
       "      <th>a</th>\n",
       "      <td>0.746672</td>\n",
       "      <td>0.910916</td>\n",
       "    </tr>\n",
       "    <tr>\n",
       "      <th>b</th>\n",
       "      <td>-0.537585</td>\n",
       "      <td>0.525384</td>\n",
       "    </tr>\n",
       "  </tbody>\n",
       "</table>\n",
       "</div>"
      ],
      "text/plain": [
       "      mean_data1  mean_data2\n",
       "key1                        \n",
       "a       0.746672    0.910916\n",
       "b      -0.537585    0.525384"
      ]
     },
     "execution_count": 60,
     "metadata": {},
     "output_type": "execute_result"
    }
   ],
   "source": [
    "\"\"\"集合演算の結果の接頭辞\"\"\"\n",
    "k1_means = df.groupby('key1').mean().add_prefix('mean_')\n",
    "k1_means"
   ]
  },
  {
   "cell_type": "code",
   "execution_count": 61,
   "metadata": {
    "ExecuteTime": {
     "end_time": "2017-10-24T08:12:37.293974Z",
     "start_time": "2017-10-24T08:12:37.259882Z"
    }
   },
   "outputs": [
    {
     "data": {
      "text/html": [
       "<div>\n",
       "<style>\n",
       "    .dataframe thead tr:only-child th {\n",
       "        text-align: right;\n",
       "    }\n",
       "\n",
       "    .dataframe thead th {\n",
       "        text-align: left;\n",
       "    }\n",
       "\n",
       "    .dataframe tbody tr th {\n",
       "        vertical-align: top;\n",
       "    }\n",
       "</style>\n",
       "<table border=\"1\" class=\"dataframe\">\n",
       "  <thead>\n",
       "    <tr style=\"text-align: right;\">\n",
       "      <th></th>\n",
       "      <th>data1</th>\n",
       "      <th>data2</th>\n",
       "      <th>key1</th>\n",
       "      <th>key2</th>\n",
       "      <th>mean_data1</th>\n",
       "      <th>mean_data2</th>\n",
       "    </tr>\n",
       "  </thead>\n",
       "  <tbody>\n",
       "    <tr>\n",
       "      <th>0</th>\n",
       "      <td>-0.204708</td>\n",
       "      <td>1.393406</td>\n",
       "      <td>a</td>\n",
       "      <td>one</td>\n",
       "      <td>0.746672</td>\n",
       "      <td>0.910916</td>\n",
       "    </tr>\n",
       "    <tr>\n",
       "      <th>1</th>\n",
       "      <td>0.478943</td>\n",
       "      <td>0.092908</td>\n",
       "      <td>a</td>\n",
       "      <td>two</td>\n",
       "      <td>0.746672</td>\n",
       "      <td>0.910916</td>\n",
       "    </tr>\n",
       "    <tr>\n",
       "      <th>4</th>\n",
       "      <td>1.965781</td>\n",
       "      <td>1.246435</td>\n",
       "      <td>a</td>\n",
       "      <td>one</td>\n",
       "      <td>0.746672</td>\n",
       "      <td>0.910916</td>\n",
       "    </tr>\n",
       "    <tr>\n",
       "      <th>2</th>\n",
       "      <td>-0.519439</td>\n",
       "      <td>0.281746</td>\n",
       "      <td>b</td>\n",
       "      <td>one</td>\n",
       "      <td>-0.537585</td>\n",
       "      <td>0.525384</td>\n",
       "    </tr>\n",
       "    <tr>\n",
       "      <th>3</th>\n",
       "      <td>-0.555730</td>\n",
       "      <td>0.769023</td>\n",
       "      <td>b</td>\n",
       "      <td>two</td>\n",
       "      <td>-0.537585</td>\n",
       "      <td>0.525384</td>\n",
       "    </tr>\n",
       "  </tbody>\n",
       "</table>\n",
       "</div>"
      ],
      "text/plain": [
       "      data1     data2 key1 key2  mean_data1  mean_data2\n",
       "0 -0.204708  1.393406    a  one    0.746672    0.910916\n",
       "1  0.478943  0.092908    a  two    0.746672    0.910916\n",
       "4  1.965781  1.246435    a  one    0.746672    0.910916\n",
       "2 -0.519439  0.281746    b  one   -0.537585    0.525384\n",
       "3 -0.555730  0.769023    b  two   -0.537585    0.525384"
      ]
     },
     "execution_count": 61,
     "metadata": {},
     "output_type": "execute_result"
    }
   ],
   "source": [
    "pd.merge(df, k1_means, left_on='key1', right_index=True)"
   ]
  },
  {
   "cell_type": "code",
   "execution_count": 62,
   "metadata": {
    "ExecuteTime": {
     "end_time": "2017-10-24T08:12:37.329067Z",
     "start_time": "2017-10-24T08:12:37.295979Z"
    }
   },
   "outputs": [
    {
     "data": {
      "text/html": [
       "<div>\n",
       "<style>\n",
       "    .dataframe thead tr:only-child th {\n",
       "        text-align: right;\n",
       "    }\n",
       "\n",
       "    .dataframe thead th {\n",
       "        text-align: left;\n",
       "    }\n",
       "\n",
       "    .dataframe tbody tr th {\n",
       "        vertical-align: top;\n",
       "    }\n",
       "</style>\n",
       "<table border=\"1\" class=\"dataframe\">\n",
       "  <thead>\n",
       "    <tr style=\"text-align: right;\">\n",
       "      <th></th>\n",
       "      <th>a</th>\n",
       "      <th>b</th>\n",
       "      <th>c</th>\n",
       "      <th>d</th>\n",
       "      <th>e</th>\n",
       "    </tr>\n",
       "  </thead>\n",
       "  <tbody>\n",
       "    <tr>\n",
       "      <th>one</th>\n",
       "      <td>-0.082032</td>\n",
       "      <td>-1.063687</td>\n",
       "      <td>-1.047620</td>\n",
       "      <td>-0.884358</td>\n",
       "      <td>-0.028309</td>\n",
       "    </tr>\n",
       "    <tr>\n",
       "      <th>two</th>\n",
       "      <td>0.505275</td>\n",
       "      <td>-0.849512</td>\n",
       "      <td>0.075965</td>\n",
       "      <td>0.834983</td>\n",
       "      <td>0.452620</td>\n",
       "    </tr>\n",
       "  </tbody>\n",
       "</table>\n",
       "</div>"
      ],
      "text/plain": [
       "            a         b         c         d         e\n",
       "one -0.082032 -1.063687 -1.047620 -0.884358 -0.028309\n",
       "two  0.505275 -0.849512  0.075965  0.834983  0.452620"
      ]
     },
     "execution_count": 62,
     "metadata": {},
     "output_type": "execute_result"
    }
   ],
   "source": [
    "key = ['one', 'two', 'one', 'two', 'one']\n",
    "people.groupby(key).mean()"
   ]
  },
  {
   "cell_type": "code",
   "execution_count": 63,
   "metadata": {
    "ExecuteTime": {
     "end_time": "2017-10-24T08:12:37.369178Z",
     "start_time": "2017-10-24T08:12:37.330069Z"
    }
   },
   "outputs": [
    {
     "data": {
      "text/html": [
       "<div>\n",
       "<style>\n",
       "    .dataframe thead tr:only-child th {\n",
       "        text-align: right;\n",
       "    }\n",
       "\n",
       "    .dataframe thead th {\n",
       "        text-align: left;\n",
       "    }\n",
       "\n",
       "    .dataframe tbody tr th {\n",
       "        vertical-align: top;\n",
       "    }\n",
       "</style>\n",
       "<table border=\"1\" class=\"dataframe\">\n",
       "  <thead>\n",
       "    <tr style=\"text-align: right;\">\n",
       "      <th></th>\n",
       "      <th>a</th>\n",
       "      <th>b</th>\n",
       "      <th>c</th>\n",
       "      <th>d</th>\n",
       "      <th>e</th>\n",
       "    </tr>\n",
       "  </thead>\n",
       "  <tbody>\n",
       "    <tr>\n",
       "      <th>Joe</th>\n",
       "      <td>-0.082032</td>\n",
       "      <td>-1.063687</td>\n",
       "      <td>-1.047620</td>\n",
       "      <td>-0.884358</td>\n",
       "      <td>-0.028309</td>\n",
       "    </tr>\n",
       "    <tr>\n",
       "      <th>Steve</th>\n",
       "      <td>0.505275</td>\n",
       "      <td>-0.849512</td>\n",
       "      <td>0.075965</td>\n",
       "      <td>0.834983</td>\n",
       "      <td>0.452620</td>\n",
       "    </tr>\n",
       "    <tr>\n",
       "      <th>Wes</th>\n",
       "      <td>-0.082032</td>\n",
       "      <td>-1.063687</td>\n",
       "      <td>-1.047620</td>\n",
       "      <td>-0.884358</td>\n",
       "      <td>-0.028309</td>\n",
       "    </tr>\n",
       "    <tr>\n",
       "      <th>Jim</th>\n",
       "      <td>0.505275</td>\n",
       "      <td>-0.849512</td>\n",
       "      <td>0.075965</td>\n",
       "      <td>0.834983</td>\n",
       "      <td>0.452620</td>\n",
       "    </tr>\n",
       "    <tr>\n",
       "      <th>Travis</th>\n",
       "      <td>-0.082032</td>\n",
       "      <td>-1.063687</td>\n",
       "      <td>-1.047620</td>\n",
       "      <td>-0.884358</td>\n",
       "      <td>-0.028309</td>\n",
       "    </tr>\n",
       "  </tbody>\n",
       "</table>\n",
       "</div>"
      ],
      "text/plain": [
       "               a         b         c         d         e\n",
       "Joe    -0.082032 -1.063687 -1.047620 -0.884358 -0.028309\n",
       "Steve   0.505275 -0.849512  0.075965  0.834983  0.452620\n",
       "Wes    -0.082032 -1.063687 -1.047620 -0.884358 -0.028309\n",
       "Jim     0.505275 -0.849512  0.075965  0.834983  0.452620\n",
       "Travis -0.082032 -1.063687 -1.047620 -0.884358 -0.028309"
      ]
     },
     "execution_count": 63,
     "metadata": {},
     "output_type": "execute_result"
    }
   ],
   "source": [
    "people.groupby(key).transform(np.mean)"
   ]
  },
  {
   "cell_type": "code",
   "execution_count": 64,
   "metadata": {
    "ExecuteTime": {
     "end_time": "2017-10-24T08:12:37.424322Z",
     "start_time": "2017-10-24T08:12:37.371180Z"
    }
   },
   "outputs": [
    {
     "data": {
      "text/html": [
       "<div>\n",
       "<style>\n",
       "    .dataframe thead tr:only-child th {\n",
       "        text-align: right;\n",
       "    }\n",
       "\n",
       "    .dataframe thead th {\n",
       "        text-align: left;\n",
       "    }\n",
       "\n",
       "    .dataframe tbody tr th {\n",
       "        vertical-align: top;\n",
       "    }\n",
       "</style>\n",
       "<table border=\"1\" class=\"dataframe\">\n",
       "  <thead>\n",
       "    <tr style=\"text-align: right;\">\n",
       "      <th></th>\n",
       "      <th>a</th>\n",
       "      <th>b</th>\n",
       "      <th>c</th>\n",
       "      <th>d</th>\n",
       "      <th>e</th>\n",
       "    </tr>\n",
       "  </thead>\n",
       "  <tbody>\n",
       "    <tr>\n",
       "      <th>Joe</th>\n",
       "      <td>1.089221</td>\n",
       "      <td>-0.232534</td>\n",
       "      <td>1.322612</td>\n",
       "      <td>1.113271</td>\n",
       "      <td>1.381226</td>\n",
       "    </tr>\n",
       "    <tr>\n",
       "      <th>Steve</th>\n",
       "      <td>0.381154</td>\n",
       "      <td>-1.152125</td>\n",
       "      <td>-0.447807</td>\n",
       "      <td>0.834043</td>\n",
       "      <td>-0.891190</td>\n",
       "    </tr>\n",
       "    <tr>\n",
       "      <th>Wes</th>\n",
       "      <td>-0.457709</td>\n",
       "      <td>NaN</td>\n",
       "      <td>NaN</td>\n",
       "      <td>-0.136869</td>\n",
       "      <td>-0.548778</td>\n",
       "    </tr>\n",
       "    <tr>\n",
       "      <th>Jim</th>\n",
       "      <td>-0.381154</td>\n",
       "      <td>1.152125</td>\n",
       "      <td>0.447807</td>\n",
       "      <td>-0.834043</td>\n",
       "      <td>0.891190</td>\n",
       "    </tr>\n",
       "    <tr>\n",
       "      <th>Travis</th>\n",
       "      <td>-0.631512</td>\n",
       "      <td>0.232534</td>\n",
       "      <td>-1.322612</td>\n",
       "      <td>-0.976402</td>\n",
       "      <td>-0.832448</td>\n",
       "    </tr>\n",
       "  </tbody>\n",
       "</table>\n",
       "</div>"
      ],
      "text/plain": [
       "               a         b         c         d         e\n",
       "Joe     1.089221 -0.232534  1.322612  1.113271  1.381226\n",
       "Steve   0.381154 -1.152125 -0.447807  0.834043 -0.891190\n",
       "Wes    -0.457709       NaN       NaN -0.136869 -0.548778\n",
       "Jim    -0.381154  1.152125  0.447807 -0.834043  0.891190\n",
       "Travis -0.631512  0.232534 -1.322612 -0.976402 -0.832448"
      ]
     },
     "execution_count": 64,
     "metadata": {},
     "output_type": "execute_result"
    }
   ],
   "source": [
    "\"\"\"平均値を各値から引く\"\"\"\n",
    "def demean(arr):\n",
    "    return arr - arr.mean()\n",
    "demeaned = people.groupby(key).transform(demean)\n",
    "demeaned"
   ]
  },
  {
   "cell_type": "code",
   "execution_count": 65,
   "metadata": {
    "ExecuteTime": {
     "end_time": "2017-10-24T08:12:37.461421Z",
     "start_time": "2017-10-24T08:12:37.426328Z"
    }
   },
   "outputs": [
    {
     "data": {
      "text/html": [
       "<div>\n",
       "<style>\n",
       "    .dataframe thead tr:only-child th {\n",
       "        text-align: right;\n",
       "    }\n",
       "\n",
       "    .dataframe thead th {\n",
       "        text-align: left;\n",
       "    }\n",
       "\n",
       "    .dataframe tbody tr th {\n",
       "        vertical-align: top;\n",
       "    }\n",
       "</style>\n",
       "<table border=\"1\" class=\"dataframe\">\n",
       "  <thead>\n",
       "    <tr style=\"text-align: right;\">\n",
       "      <th></th>\n",
       "      <th>a</th>\n",
       "      <th>b</th>\n",
       "      <th>c</th>\n",
       "      <th>d</th>\n",
       "      <th>e</th>\n",
       "    </tr>\n",
       "  </thead>\n",
       "  <tbody>\n",
       "    <tr>\n",
       "      <th>one</th>\n",
       "      <td>0.000000e+00</td>\n",
       "      <td>-1.110223e-16</td>\n",
       "      <td>0.0</td>\n",
       "      <td>7.401487e-17</td>\n",
       "      <td>0.0</td>\n",
       "    </tr>\n",
       "    <tr>\n",
       "      <th>two</th>\n",
       "      <td>-2.775558e-17</td>\n",
       "      <td>0.000000e+00</td>\n",
       "      <td>0.0</td>\n",
       "      <td>0.000000e+00</td>\n",
       "      <td>0.0</td>\n",
       "    </tr>\n",
       "  </tbody>\n",
       "</table>\n",
       "</div>"
      ],
      "text/plain": [
       "                a             b    c             d    e\n",
       "one  0.000000e+00 -1.110223e-16  0.0  7.401487e-17  0.0\n",
       "two -2.775558e-17  0.000000e+00  0.0  0.000000e+00  0.0"
      ]
     },
     "execution_count": 65,
     "metadata": {},
     "output_type": "execute_result"
    }
   ],
   "source": [
    "demeaned.groupby(key).mean()"
   ]
  },
  {
   "cell_type": "markdown",
   "metadata": {},
   "source": [
    "### 9.3.1 apply メソッド :  一般的な分離-適用-結合(split-apply-combine)の方法\n",
    "- transform => np.meanのようにスカラー値か、変形後も同じサイズの配列を生成することが必要\n",
    "- apply => 多分、行ごと、列ごとで演算を行える"
   ]
  },
  {
   "cell_type": "code",
   "execution_count": 66,
   "metadata": {
    "ExecuteTime": {
     "end_time": "2017-10-24T08:12:37.498520Z",
     "start_time": "2017-10-24T08:12:37.463428Z"
    }
   },
   "outputs": [
    {
     "data": {
      "text/html": [
       "<div>\n",
       "<style>\n",
       "    .dataframe thead tr:only-child th {\n",
       "        text-align: right;\n",
       "    }\n",
       "\n",
       "    .dataframe thead th {\n",
       "        text-align: left;\n",
       "    }\n",
       "\n",
       "    .dataframe tbody tr th {\n",
       "        vertical-align: top;\n",
       "    }\n",
       "</style>\n",
       "<table border=\"1\" class=\"dataframe\">\n",
       "  <thead>\n",
       "    <tr style=\"text-align: right;\">\n",
       "      <th></th>\n",
       "      <th>total_bill</th>\n",
       "      <th>tip</th>\n",
       "      <th>sex</th>\n",
       "      <th>smoker</th>\n",
       "      <th>day</th>\n",
       "      <th>time</th>\n",
       "      <th>size</th>\n",
       "      <th>tip_pct</th>\n",
       "    </tr>\n",
       "  </thead>\n",
       "  <tbody>\n",
       "    <tr>\n",
       "      <th>0</th>\n",
       "      <td>16.99</td>\n",
       "      <td>1.01</td>\n",
       "      <td>Female</td>\n",
       "      <td>No</td>\n",
       "      <td>Sun</td>\n",
       "      <td>Dinner</td>\n",
       "      <td>2</td>\n",
       "      <td>0.059447</td>\n",
       "    </tr>\n",
       "    <tr>\n",
       "      <th>1</th>\n",
       "      <td>10.34</td>\n",
       "      <td>1.66</td>\n",
       "      <td>Male</td>\n",
       "      <td>No</td>\n",
       "      <td>Sun</td>\n",
       "      <td>Dinner</td>\n",
       "      <td>3</td>\n",
       "      <td>0.160542</td>\n",
       "    </tr>\n",
       "    <tr>\n",
       "      <th>2</th>\n",
       "      <td>21.01</td>\n",
       "      <td>3.50</td>\n",
       "      <td>Male</td>\n",
       "      <td>No</td>\n",
       "      <td>Sun</td>\n",
       "      <td>Dinner</td>\n",
       "      <td>3</td>\n",
       "      <td>0.166587</td>\n",
       "    </tr>\n",
       "  </tbody>\n",
       "</table>\n",
       "</div>"
      ],
      "text/plain": [
       "   total_bill   tip     sex smoker  day    time  size   tip_pct\n",
       "0       16.99  1.01  Female     No  Sun  Dinner     2  0.059447\n",
       "1       10.34  1.66    Male     No  Sun  Dinner     3  0.160542\n",
       "2       21.01  3.50    Male     No  Sun  Dinner     3  0.166587"
      ]
     },
     "execution_count": 66,
     "metadata": {},
     "output_type": "execute_result"
    }
   ],
   "source": [
    "tips.head(3)"
   ]
  },
  {
   "cell_type": "code",
   "execution_count": 67,
   "metadata": {
    "ExecuteTime": {
     "end_time": "2017-10-24T08:12:37.540634Z",
     "start_time": "2017-10-24T08:12:37.500526Z"
    }
   },
   "outputs": [
    {
     "data": {
      "text/html": [
       "<div>\n",
       "<style>\n",
       "    .dataframe thead tr:only-child th {\n",
       "        text-align: right;\n",
       "    }\n",
       "\n",
       "    .dataframe thead th {\n",
       "        text-align: left;\n",
       "    }\n",
       "\n",
       "    .dataframe tbody tr th {\n",
       "        vertical-align: top;\n",
       "    }\n",
       "</style>\n",
       "<table border=\"1\" class=\"dataframe\">\n",
       "  <thead>\n",
       "    <tr style=\"text-align: right;\">\n",
       "      <th></th>\n",
       "      <th>total_bill</th>\n",
       "      <th>tip</th>\n",
       "      <th>sex</th>\n",
       "      <th>smoker</th>\n",
       "      <th>day</th>\n",
       "      <th>time</th>\n",
       "      <th>size</th>\n",
       "      <th>tip_pct</th>\n",
       "    </tr>\n",
       "  </thead>\n",
       "  <tbody>\n",
       "    <tr>\n",
       "      <th>109</th>\n",
       "      <td>14.31</td>\n",
       "      <td>4.00</td>\n",
       "      <td>Female</td>\n",
       "      <td>Yes</td>\n",
       "      <td>Sat</td>\n",
       "      <td>Dinner</td>\n",
       "      <td>2</td>\n",
       "      <td>0.279525</td>\n",
       "    </tr>\n",
       "    <tr>\n",
       "      <th>183</th>\n",
       "      <td>23.17</td>\n",
       "      <td>6.50</td>\n",
       "      <td>Male</td>\n",
       "      <td>Yes</td>\n",
       "      <td>Sun</td>\n",
       "      <td>Dinner</td>\n",
       "      <td>4</td>\n",
       "      <td>0.280535</td>\n",
       "    </tr>\n",
       "    <tr>\n",
       "      <th>232</th>\n",
       "      <td>11.61</td>\n",
       "      <td>3.39</td>\n",
       "      <td>Male</td>\n",
       "      <td>No</td>\n",
       "      <td>Sat</td>\n",
       "      <td>Dinner</td>\n",
       "      <td>2</td>\n",
       "      <td>0.291990</td>\n",
       "    </tr>\n",
       "    <tr>\n",
       "      <th>67</th>\n",
       "      <td>3.07</td>\n",
       "      <td>1.00</td>\n",
       "      <td>Female</td>\n",
       "      <td>Yes</td>\n",
       "      <td>Sat</td>\n",
       "      <td>Dinner</td>\n",
       "      <td>1</td>\n",
       "      <td>0.325733</td>\n",
       "    </tr>\n",
       "    <tr>\n",
       "      <th>178</th>\n",
       "      <td>9.60</td>\n",
       "      <td>4.00</td>\n",
       "      <td>Female</td>\n",
       "      <td>Yes</td>\n",
       "      <td>Sun</td>\n",
       "      <td>Dinner</td>\n",
       "      <td>2</td>\n",
       "      <td>0.416667</td>\n",
       "    </tr>\n",
       "    <tr>\n",
       "      <th>172</th>\n",
       "      <td>7.25</td>\n",
       "      <td>5.15</td>\n",
       "      <td>Male</td>\n",
       "      <td>Yes</td>\n",
       "      <td>Sun</td>\n",
       "      <td>Dinner</td>\n",
       "      <td>2</td>\n",
       "      <td>0.710345</td>\n",
       "    </tr>\n",
       "  </tbody>\n",
       "</table>\n",
       "</div>"
      ],
      "text/plain": [
       "     total_bill   tip     sex smoker  day    time  size   tip_pct\n",
       "109       14.31  4.00  Female    Yes  Sat  Dinner     2  0.279525\n",
       "183       23.17  6.50    Male    Yes  Sun  Dinner     4  0.280535\n",
       "232       11.61  3.39    Male     No  Sat  Dinner     2  0.291990\n",
       "67         3.07  1.00  Female    Yes  Sat  Dinner     1  0.325733\n",
       "178        9.60  4.00  Female    Yes  Sun  Dinner     2  0.416667\n",
       "172        7.25  5.15    Male    Yes  Sun  Dinner     2  0.710345"
      ]
     },
     "execution_count": 67,
     "metadata": {},
     "output_type": "execute_result"
    }
   ],
   "source": [
    "def top(df, n=5, column='tip_pct'):\n",
    "#    return df.sort_index(by=column)[-n:] # deprecated\n",
    "    return df.sort_values(by=column)[-n:]\n",
    "top(tips, n=6)"
   ]
  },
  {
   "cell_type": "code",
   "execution_count": 68,
   "metadata": {
    "ExecuteTime": {
     "end_time": "2017-10-24T08:12:37.592771Z",
     "start_time": "2017-10-24T08:12:37.542638Z"
    }
   },
   "outputs": [
    {
     "data": {
      "text/html": [
       "<div>\n",
       "<style>\n",
       "    .dataframe thead tr:only-child th {\n",
       "        text-align: right;\n",
       "    }\n",
       "\n",
       "    .dataframe thead th {\n",
       "        text-align: left;\n",
       "    }\n",
       "\n",
       "    .dataframe tbody tr th {\n",
       "        vertical-align: top;\n",
       "    }\n",
       "</style>\n",
       "<table border=\"1\" class=\"dataframe\">\n",
       "  <thead>\n",
       "    <tr style=\"text-align: right;\">\n",
       "      <th></th>\n",
       "      <th></th>\n",
       "      <th>total_bill</th>\n",
       "      <th>tip</th>\n",
       "      <th>sex</th>\n",
       "      <th>smoker</th>\n",
       "      <th>day</th>\n",
       "      <th>time</th>\n",
       "      <th>size</th>\n",
       "      <th>tip_pct</th>\n",
       "    </tr>\n",
       "    <tr>\n",
       "      <th>smoker</th>\n",
       "      <th></th>\n",
       "      <th></th>\n",
       "      <th></th>\n",
       "      <th></th>\n",
       "      <th></th>\n",
       "      <th></th>\n",
       "      <th></th>\n",
       "      <th></th>\n",
       "      <th></th>\n",
       "    </tr>\n",
       "  </thead>\n",
       "  <tbody>\n",
       "    <tr>\n",
       "      <th rowspan=\"5\" valign=\"top\">No</th>\n",
       "      <th>88</th>\n",
       "      <td>24.71</td>\n",
       "      <td>5.85</td>\n",
       "      <td>Male</td>\n",
       "      <td>No</td>\n",
       "      <td>Thur</td>\n",
       "      <td>Lunch</td>\n",
       "      <td>2</td>\n",
       "      <td>0.236746</td>\n",
       "    </tr>\n",
       "    <tr>\n",
       "      <th>185</th>\n",
       "      <td>20.69</td>\n",
       "      <td>5.00</td>\n",
       "      <td>Male</td>\n",
       "      <td>No</td>\n",
       "      <td>Sun</td>\n",
       "      <td>Dinner</td>\n",
       "      <td>5</td>\n",
       "      <td>0.241663</td>\n",
       "    </tr>\n",
       "    <tr>\n",
       "      <th>51</th>\n",
       "      <td>10.29</td>\n",
       "      <td>2.60</td>\n",
       "      <td>Female</td>\n",
       "      <td>No</td>\n",
       "      <td>Sun</td>\n",
       "      <td>Dinner</td>\n",
       "      <td>2</td>\n",
       "      <td>0.252672</td>\n",
       "    </tr>\n",
       "    <tr>\n",
       "      <th>149</th>\n",
       "      <td>7.51</td>\n",
       "      <td>2.00</td>\n",
       "      <td>Male</td>\n",
       "      <td>No</td>\n",
       "      <td>Thur</td>\n",
       "      <td>Lunch</td>\n",
       "      <td>2</td>\n",
       "      <td>0.266312</td>\n",
       "    </tr>\n",
       "    <tr>\n",
       "      <th>232</th>\n",
       "      <td>11.61</td>\n",
       "      <td>3.39</td>\n",
       "      <td>Male</td>\n",
       "      <td>No</td>\n",
       "      <td>Sat</td>\n",
       "      <td>Dinner</td>\n",
       "      <td>2</td>\n",
       "      <td>0.291990</td>\n",
       "    </tr>\n",
       "    <tr>\n",
       "      <th rowspan=\"5\" valign=\"top\">Yes</th>\n",
       "      <th>109</th>\n",
       "      <td>14.31</td>\n",
       "      <td>4.00</td>\n",
       "      <td>Female</td>\n",
       "      <td>Yes</td>\n",
       "      <td>Sat</td>\n",
       "      <td>Dinner</td>\n",
       "      <td>2</td>\n",
       "      <td>0.279525</td>\n",
       "    </tr>\n",
       "    <tr>\n",
       "      <th>183</th>\n",
       "      <td>23.17</td>\n",
       "      <td>6.50</td>\n",
       "      <td>Male</td>\n",
       "      <td>Yes</td>\n",
       "      <td>Sun</td>\n",
       "      <td>Dinner</td>\n",
       "      <td>4</td>\n",
       "      <td>0.280535</td>\n",
       "    </tr>\n",
       "    <tr>\n",
       "      <th>67</th>\n",
       "      <td>3.07</td>\n",
       "      <td>1.00</td>\n",
       "      <td>Female</td>\n",
       "      <td>Yes</td>\n",
       "      <td>Sat</td>\n",
       "      <td>Dinner</td>\n",
       "      <td>1</td>\n",
       "      <td>0.325733</td>\n",
       "    </tr>\n",
       "    <tr>\n",
       "      <th>178</th>\n",
       "      <td>9.60</td>\n",
       "      <td>4.00</td>\n",
       "      <td>Female</td>\n",
       "      <td>Yes</td>\n",
       "      <td>Sun</td>\n",
       "      <td>Dinner</td>\n",
       "      <td>2</td>\n",
       "      <td>0.416667</td>\n",
       "    </tr>\n",
       "    <tr>\n",
       "      <th>172</th>\n",
       "      <td>7.25</td>\n",
       "      <td>5.15</td>\n",
       "      <td>Male</td>\n",
       "      <td>Yes</td>\n",
       "      <td>Sun</td>\n",
       "      <td>Dinner</td>\n",
       "      <td>2</td>\n",
       "      <td>0.710345</td>\n",
       "    </tr>\n",
       "  </tbody>\n",
       "</table>\n",
       "</div>"
      ],
      "text/plain": [
       "            total_bill   tip     sex smoker   day    time  size   tip_pct\n",
       "smoker                                                                   \n",
       "No     88        24.71  5.85    Male     No  Thur   Lunch     2  0.236746\n",
       "       185       20.69  5.00    Male     No   Sun  Dinner     5  0.241663\n",
       "       51        10.29  2.60  Female     No   Sun  Dinner     2  0.252672\n",
       "       149        7.51  2.00    Male     No  Thur   Lunch     2  0.266312\n",
       "       232       11.61  3.39    Male     No   Sat  Dinner     2  0.291990\n",
       "Yes    109       14.31  4.00  Female    Yes   Sat  Dinner     2  0.279525\n",
       "       183       23.17  6.50    Male    Yes   Sun  Dinner     4  0.280535\n",
       "       67         3.07  1.00  Female    Yes   Sat  Dinner     1  0.325733\n",
       "       178        9.60  4.00  Female    Yes   Sun  Dinner     2  0.416667\n",
       "       172        7.25  5.15    Male    Yes   Sun  Dinner     2  0.710345"
      ]
     },
     "execution_count": 68,
     "metadata": {},
     "output_type": "execute_result"
    }
   ],
   "source": [
    "tips.groupby('smoker').apply(top)"
   ]
  },
  {
   "cell_type": "code",
   "execution_count": 69,
   "metadata": {
    "ExecuteTime": {
     "end_time": "2017-10-24T08:12:37.649925Z",
     "start_time": "2017-10-24T08:12:37.593776Z"
    }
   },
   "outputs": [
    {
     "data": {
      "text/html": [
       "<div>\n",
       "<style>\n",
       "    .dataframe thead tr:only-child th {\n",
       "        text-align: right;\n",
       "    }\n",
       "\n",
       "    .dataframe thead th {\n",
       "        text-align: left;\n",
       "    }\n",
       "\n",
       "    .dataframe tbody tr th {\n",
       "        vertical-align: top;\n",
       "    }\n",
       "</style>\n",
       "<table border=\"1\" class=\"dataframe\">\n",
       "  <thead>\n",
       "    <tr style=\"text-align: right;\">\n",
       "      <th></th>\n",
       "      <th></th>\n",
       "      <th></th>\n",
       "      <th>total_bill</th>\n",
       "      <th>tip</th>\n",
       "      <th>sex</th>\n",
       "      <th>smoker</th>\n",
       "      <th>day</th>\n",
       "      <th>time</th>\n",
       "      <th>size</th>\n",
       "      <th>tip_pct</th>\n",
       "    </tr>\n",
       "    <tr>\n",
       "      <th>smoker</th>\n",
       "      <th>day</th>\n",
       "      <th></th>\n",
       "      <th></th>\n",
       "      <th></th>\n",
       "      <th></th>\n",
       "      <th></th>\n",
       "      <th></th>\n",
       "      <th></th>\n",
       "      <th></th>\n",
       "      <th></th>\n",
       "    </tr>\n",
       "  </thead>\n",
       "  <tbody>\n",
       "    <tr>\n",
       "      <th rowspan=\"4\" valign=\"top\">No</th>\n",
       "      <th>Fri</th>\n",
       "      <th>94</th>\n",
       "      <td>22.75</td>\n",
       "      <td>3.25</td>\n",
       "      <td>Female</td>\n",
       "      <td>No</td>\n",
       "      <td>Fri</td>\n",
       "      <td>Dinner</td>\n",
       "      <td>2</td>\n",
       "      <td>0.142857</td>\n",
       "    </tr>\n",
       "    <tr>\n",
       "      <th>Sat</th>\n",
       "      <th>212</th>\n",
       "      <td>48.33</td>\n",
       "      <td>9.00</td>\n",
       "      <td>Male</td>\n",
       "      <td>No</td>\n",
       "      <td>Sat</td>\n",
       "      <td>Dinner</td>\n",
       "      <td>4</td>\n",
       "      <td>0.186220</td>\n",
       "    </tr>\n",
       "    <tr>\n",
       "      <th>Sun</th>\n",
       "      <th>156</th>\n",
       "      <td>48.17</td>\n",
       "      <td>5.00</td>\n",
       "      <td>Male</td>\n",
       "      <td>No</td>\n",
       "      <td>Sun</td>\n",
       "      <td>Dinner</td>\n",
       "      <td>6</td>\n",
       "      <td>0.103799</td>\n",
       "    </tr>\n",
       "    <tr>\n",
       "      <th>Thur</th>\n",
       "      <th>142</th>\n",
       "      <td>41.19</td>\n",
       "      <td>5.00</td>\n",
       "      <td>Male</td>\n",
       "      <td>No</td>\n",
       "      <td>Thur</td>\n",
       "      <td>Lunch</td>\n",
       "      <td>5</td>\n",
       "      <td>0.121389</td>\n",
       "    </tr>\n",
       "    <tr>\n",
       "      <th rowspan=\"4\" valign=\"top\">Yes</th>\n",
       "      <th>Fri</th>\n",
       "      <th>95</th>\n",
       "      <td>40.17</td>\n",
       "      <td>4.73</td>\n",
       "      <td>Male</td>\n",
       "      <td>Yes</td>\n",
       "      <td>Fri</td>\n",
       "      <td>Dinner</td>\n",
       "      <td>4</td>\n",
       "      <td>0.117750</td>\n",
       "    </tr>\n",
       "    <tr>\n",
       "      <th>Sat</th>\n",
       "      <th>170</th>\n",
       "      <td>50.81</td>\n",
       "      <td>10.00</td>\n",
       "      <td>Male</td>\n",
       "      <td>Yes</td>\n",
       "      <td>Sat</td>\n",
       "      <td>Dinner</td>\n",
       "      <td>3</td>\n",
       "      <td>0.196812</td>\n",
       "    </tr>\n",
       "    <tr>\n",
       "      <th>Sun</th>\n",
       "      <th>182</th>\n",
       "      <td>45.35</td>\n",
       "      <td>3.50</td>\n",
       "      <td>Male</td>\n",
       "      <td>Yes</td>\n",
       "      <td>Sun</td>\n",
       "      <td>Dinner</td>\n",
       "      <td>3</td>\n",
       "      <td>0.077178</td>\n",
       "    </tr>\n",
       "    <tr>\n",
       "      <th>Thur</th>\n",
       "      <th>197</th>\n",
       "      <td>43.11</td>\n",
       "      <td>5.00</td>\n",
       "      <td>Female</td>\n",
       "      <td>Yes</td>\n",
       "      <td>Thur</td>\n",
       "      <td>Lunch</td>\n",
       "      <td>4</td>\n",
       "      <td>0.115982</td>\n",
       "    </tr>\n",
       "  </tbody>\n",
       "</table>\n",
       "</div>"
      ],
      "text/plain": [
       "                 total_bill    tip     sex smoker   day    time  size  \\\n",
       "smoker day                                                              \n",
       "No     Fri  94        22.75   3.25  Female     No   Fri  Dinner     2   \n",
       "       Sat  212       48.33   9.00    Male     No   Sat  Dinner     4   \n",
       "       Sun  156       48.17   5.00    Male     No   Sun  Dinner     6   \n",
       "       Thur 142       41.19   5.00    Male     No  Thur   Lunch     5   \n",
       "Yes    Fri  95        40.17   4.73    Male    Yes   Fri  Dinner     4   \n",
       "       Sat  170       50.81  10.00    Male    Yes   Sat  Dinner     3   \n",
       "       Sun  182       45.35   3.50    Male    Yes   Sun  Dinner     3   \n",
       "       Thur 197       43.11   5.00  Female    Yes  Thur   Lunch     4   \n",
       "\n",
       "                  tip_pct  \n",
       "smoker day                 \n",
       "No     Fri  94   0.142857  \n",
       "       Sat  212  0.186220  \n",
       "       Sun  156  0.103799  \n",
       "       Thur 142  0.121389  \n",
       "Yes    Fri  95   0.117750  \n",
       "       Sat  170  0.196812  \n",
       "       Sun  182  0.077178  \n",
       "       Thur 197  0.115982  "
      ]
     },
     "execution_count": 69,
     "metadata": {},
     "output_type": "execute_result"
    }
   ],
   "source": [
    "tips.groupby(['smoker', 'day']).apply(top, n=1, column='total_bill')"
   ]
  },
  {
   "cell_type": "code",
   "execution_count": 70,
   "metadata": {
    "ExecuteTime": {
     "end_time": "2017-10-24T08:12:37.695045Z",
     "start_time": "2017-10-24T08:12:37.650927Z"
    }
   },
   "outputs": [
    {
     "data": {
      "text/html": [
       "<div>\n",
       "<style>\n",
       "    .dataframe thead tr:only-child th {\n",
       "        text-align: right;\n",
       "    }\n",
       "\n",
       "    .dataframe thead th {\n",
       "        text-align: left;\n",
       "    }\n",
       "\n",
       "    .dataframe tbody tr th {\n",
       "        vertical-align: top;\n",
       "    }\n",
       "</style>\n",
       "<table border=\"1\" class=\"dataframe\">\n",
       "  <thead>\n",
       "    <tr style=\"text-align: right;\">\n",
       "      <th></th>\n",
       "      <th>count</th>\n",
       "      <th>mean</th>\n",
       "      <th>std</th>\n",
       "      <th>min</th>\n",
       "      <th>25%</th>\n",
       "      <th>50%</th>\n",
       "      <th>75%</th>\n",
       "      <th>max</th>\n",
       "    </tr>\n",
       "    <tr>\n",
       "      <th>smoker</th>\n",
       "      <th></th>\n",
       "      <th></th>\n",
       "      <th></th>\n",
       "      <th></th>\n",
       "      <th></th>\n",
       "      <th></th>\n",
       "      <th></th>\n",
       "      <th></th>\n",
       "    </tr>\n",
       "  </thead>\n",
       "  <tbody>\n",
       "    <tr>\n",
       "      <th>No</th>\n",
       "      <td>151.0</td>\n",
       "      <td>0.159328</td>\n",
       "      <td>0.039910</td>\n",
       "      <td>0.056797</td>\n",
       "      <td>0.136906</td>\n",
       "      <td>0.155625</td>\n",
       "      <td>0.185014</td>\n",
       "      <td>0.291990</td>\n",
       "    </tr>\n",
       "    <tr>\n",
       "      <th>Yes</th>\n",
       "      <td>93.0</td>\n",
       "      <td>0.163196</td>\n",
       "      <td>0.085119</td>\n",
       "      <td>0.035638</td>\n",
       "      <td>0.106771</td>\n",
       "      <td>0.153846</td>\n",
       "      <td>0.195059</td>\n",
       "      <td>0.710345</td>\n",
       "    </tr>\n",
       "  </tbody>\n",
       "</table>\n",
       "</div>"
      ],
      "text/plain": [
       "        count      mean       std       min       25%       50%       75%  \\\n",
       "smoker                                                                      \n",
       "No      151.0  0.159328  0.039910  0.056797  0.136906  0.155625  0.185014   \n",
       "Yes      93.0  0.163196  0.085119  0.035638  0.106771  0.153846  0.195059   \n",
       "\n",
       "             max  \n",
       "smoker            \n",
       "No      0.291990  \n",
       "Yes     0.710345  "
      ]
     },
     "execution_count": 70,
     "metadata": {},
     "output_type": "execute_result"
    }
   ],
   "source": [
    "result = tips.groupby('smoker')['tip_pct'].describe()\n",
    "result"
   ]
  },
  {
   "cell_type": "code",
   "execution_count": 71,
   "metadata": {
    "ExecuteTime": {
     "end_time": "2017-10-24T08:12:37.725125Z",
     "start_time": "2017-10-24T08:12:37.697051Z"
    }
   },
   "outputs": [
    {
     "data": {
      "text/plain": [
       "       smoker\n",
       "count  No        151.000000\n",
       "       Yes        93.000000\n",
       "mean   No          0.159328\n",
       "       Yes         0.163196\n",
       "std    No          0.039910\n",
       "       Yes         0.085119\n",
       "min    No          0.056797\n",
       "       Yes         0.035638\n",
       "25%    No          0.136906\n",
       "       Yes         0.106771\n",
       "50%    No          0.155625\n",
       "       Yes         0.153846\n",
       "75%    No          0.185014\n",
       "       Yes         0.195059\n",
       "max    No          0.291990\n",
       "       Yes         0.710345\n",
       "dtype: float64"
      ]
     },
     "execution_count": 71,
     "metadata": {},
     "output_type": "execute_result"
    }
   ],
   "source": [
    "result.unstack('smoker')"
   ]
  },
  {
   "cell_type": "raw",
   "metadata": {},
   "source": [
    "f = lambda x: x.describe()\n",
    "grouped.apply(f)"
   ]
  },
  {
   "cell_type": "markdown",
   "metadata": {},
   "source": [
    "#### 9.3.1.1 グループキーの抑制\n",
    "- グループキーを無効にして、階層性を無くしている\n",
    "- 右側に階層インデックスが表示されていないだけ"
   ]
  },
  {
   "cell_type": "code",
   "execution_count": 72,
   "metadata": {
    "ExecuteTime": {
     "end_time": "2017-10-24T08:12:37.771249Z",
     "start_time": "2017-10-24T08:12:37.727131Z"
    }
   },
   "outputs": [
    {
     "data": {
      "text/html": [
       "<div>\n",
       "<style>\n",
       "    .dataframe thead tr:only-child th {\n",
       "        text-align: right;\n",
       "    }\n",
       "\n",
       "    .dataframe thead th {\n",
       "        text-align: left;\n",
       "    }\n",
       "\n",
       "    .dataframe tbody tr th {\n",
       "        vertical-align: top;\n",
       "    }\n",
       "</style>\n",
       "<table border=\"1\" class=\"dataframe\">\n",
       "  <thead>\n",
       "    <tr style=\"text-align: right;\">\n",
       "      <th></th>\n",
       "      <th>total_bill</th>\n",
       "      <th>tip</th>\n",
       "      <th>sex</th>\n",
       "      <th>smoker</th>\n",
       "      <th>day</th>\n",
       "      <th>time</th>\n",
       "      <th>size</th>\n",
       "      <th>tip_pct</th>\n",
       "    </tr>\n",
       "  </thead>\n",
       "  <tbody>\n",
       "    <tr>\n",
       "      <th>88</th>\n",
       "      <td>24.71</td>\n",
       "      <td>5.85</td>\n",
       "      <td>Male</td>\n",
       "      <td>No</td>\n",
       "      <td>Thur</td>\n",
       "      <td>Lunch</td>\n",
       "      <td>2</td>\n",
       "      <td>0.236746</td>\n",
       "    </tr>\n",
       "    <tr>\n",
       "      <th>185</th>\n",
       "      <td>20.69</td>\n",
       "      <td>5.00</td>\n",
       "      <td>Male</td>\n",
       "      <td>No</td>\n",
       "      <td>Sun</td>\n",
       "      <td>Dinner</td>\n",
       "      <td>5</td>\n",
       "      <td>0.241663</td>\n",
       "    </tr>\n",
       "    <tr>\n",
       "      <th>51</th>\n",
       "      <td>10.29</td>\n",
       "      <td>2.60</td>\n",
       "      <td>Female</td>\n",
       "      <td>No</td>\n",
       "      <td>Sun</td>\n",
       "      <td>Dinner</td>\n",
       "      <td>2</td>\n",
       "      <td>0.252672</td>\n",
       "    </tr>\n",
       "    <tr>\n",
       "      <th>149</th>\n",
       "      <td>7.51</td>\n",
       "      <td>2.00</td>\n",
       "      <td>Male</td>\n",
       "      <td>No</td>\n",
       "      <td>Thur</td>\n",
       "      <td>Lunch</td>\n",
       "      <td>2</td>\n",
       "      <td>0.266312</td>\n",
       "    </tr>\n",
       "    <tr>\n",
       "      <th>232</th>\n",
       "      <td>11.61</td>\n",
       "      <td>3.39</td>\n",
       "      <td>Male</td>\n",
       "      <td>No</td>\n",
       "      <td>Sat</td>\n",
       "      <td>Dinner</td>\n",
       "      <td>2</td>\n",
       "      <td>0.291990</td>\n",
       "    </tr>\n",
       "    <tr>\n",
       "      <th>109</th>\n",
       "      <td>14.31</td>\n",
       "      <td>4.00</td>\n",
       "      <td>Female</td>\n",
       "      <td>Yes</td>\n",
       "      <td>Sat</td>\n",
       "      <td>Dinner</td>\n",
       "      <td>2</td>\n",
       "      <td>0.279525</td>\n",
       "    </tr>\n",
       "    <tr>\n",
       "      <th>183</th>\n",
       "      <td>23.17</td>\n",
       "      <td>6.50</td>\n",
       "      <td>Male</td>\n",
       "      <td>Yes</td>\n",
       "      <td>Sun</td>\n",
       "      <td>Dinner</td>\n",
       "      <td>4</td>\n",
       "      <td>0.280535</td>\n",
       "    </tr>\n",
       "    <tr>\n",
       "      <th>67</th>\n",
       "      <td>3.07</td>\n",
       "      <td>1.00</td>\n",
       "      <td>Female</td>\n",
       "      <td>Yes</td>\n",
       "      <td>Sat</td>\n",
       "      <td>Dinner</td>\n",
       "      <td>1</td>\n",
       "      <td>0.325733</td>\n",
       "    </tr>\n",
       "    <tr>\n",
       "      <th>178</th>\n",
       "      <td>9.60</td>\n",
       "      <td>4.00</td>\n",
       "      <td>Female</td>\n",
       "      <td>Yes</td>\n",
       "      <td>Sun</td>\n",
       "      <td>Dinner</td>\n",
       "      <td>2</td>\n",
       "      <td>0.416667</td>\n",
       "    </tr>\n",
       "    <tr>\n",
       "      <th>172</th>\n",
       "      <td>7.25</td>\n",
       "      <td>5.15</td>\n",
       "      <td>Male</td>\n",
       "      <td>Yes</td>\n",
       "      <td>Sun</td>\n",
       "      <td>Dinner</td>\n",
       "      <td>2</td>\n",
       "      <td>0.710345</td>\n",
       "    </tr>\n",
       "  </tbody>\n",
       "</table>\n",
       "</div>"
      ],
      "text/plain": [
       "     total_bill   tip     sex smoker   day    time  size   tip_pct\n",
       "88        24.71  5.85    Male     No  Thur   Lunch     2  0.236746\n",
       "185       20.69  5.00    Male     No   Sun  Dinner     5  0.241663\n",
       "51        10.29  2.60  Female     No   Sun  Dinner     2  0.252672\n",
       "149        7.51  2.00    Male     No  Thur   Lunch     2  0.266312\n",
       "232       11.61  3.39    Male     No   Sat  Dinner     2  0.291990\n",
       "109       14.31  4.00  Female    Yes   Sat  Dinner     2  0.279525\n",
       "183       23.17  6.50    Male    Yes   Sun  Dinner     4  0.280535\n",
       "67         3.07  1.00  Female    Yes   Sat  Dinner     1  0.325733\n",
       "178        9.60  4.00  Female    Yes   Sun  Dinner     2  0.416667\n",
       "172        7.25  5.15    Male    Yes   Sun  Dinner     2  0.710345"
      ]
     },
     "execution_count": 72,
     "metadata": {},
     "output_type": "execute_result"
    }
   ],
   "source": [
    "tips.groupby('smoker', group_keys=False).apply(top)"
   ]
  },
  {
   "cell_type": "markdown",
   "metadata": {},
   "source": [
    "### 9.3.2 分位点とビン分析\n",
    "- cut => データの数量で分割\n",
    "- qcut => データの分位点で分割"
   ]
  },
  {
   "cell_type": "code",
   "execution_count": 73,
   "metadata": {
    "ExecuteTime": {
     "end_time": "2017-10-24T08:12:37.804338Z",
     "start_time": "2017-10-24T08:12:37.773255Z"
    }
   },
   "outputs": [
    {
     "data": {
      "text/plain": [
       "[S, S, S, S, S, ..., L, L, L, L, L]\n",
       "Length: 30\n",
       "Categories (3, object): [L < M < S]"
      ]
     },
     "execution_count": 73,
     "metadata": {},
     "output_type": "execute_result"
    }
   ],
   "source": [
    "\"\"\"cut\"\"\"\n",
    "data = pd.cut(range(30), bins=3, labels=[\"S\",\"M\",\"L\"])\n",
    "data"
   ]
  },
  {
   "cell_type": "code",
   "execution_count": 74,
   "metadata": {
    "ExecuteTime": {
     "end_time": "2017-10-24T08:12:37.842441Z",
     "start_time": "2017-10-24T08:12:37.806343Z"
    },
    "scrolled": true
   },
   "outputs": [
    {
     "data": {
      "text/plain": [
       "L    10\n",
       "M    10\n",
       "S    10\n",
       "dtype: int64"
      ]
     },
     "execution_count": 74,
     "metadata": {},
     "output_type": "execute_result"
    }
   ],
   "source": [
    "data.value_counts()"
   ]
  },
  {
   "cell_type": "code",
   "execution_count": 75,
   "metadata": {
    "ExecuteTime": {
     "end_time": "2017-10-24T08:12:37.876534Z",
     "start_time": "2017-10-24T08:12:37.844445Z"
    },
    "scrolled": true
   },
   "outputs": [
    {
     "data": {
      "text/plain": [
       "L     8\n",
       "M    14\n",
       "S     8\n",
       "dtype: int64"
      ]
     },
     "execution_count": 75,
     "metadata": {},
     "output_type": "execute_result"
    }
   ],
   "source": [
    "\"\"\"qcut\"\"\"\n",
    "data = pd.qcut(range(30), q=[0.0, 0.25, 0.75, 1.0], labels=[\"S\",\"M\",\"L\"])\n",
    "data.value_counts()"
   ]
  },
  {
   "cell_type": "code",
   "execution_count": 76,
   "metadata": {
    "ExecuteTime": {
     "end_time": "2017-10-24T08:12:37.909619Z",
     "start_time": "2017-10-24T08:12:37.878536Z"
    }
   },
   "outputs": [
    {
     "data": {
      "text/plain": [
       "0    (-1.186, -0.0674]\n",
       "1     (-2.309, -1.186]\n",
       "2     (-0.0674, 1.051]\n",
       "3     (-0.0674, 1.051]\n",
       "4    (-1.186, -0.0674]\n",
       "5     (-0.0674, 1.051]\n",
       "6     (-0.0674, 1.051]\n",
       "7     (-0.0674, 1.051]\n",
       "8     (-0.0674, 1.051]\n",
       "9     (-0.0674, 1.051]\n",
       "Name: data1, dtype: category\n",
       "Categories (4, interval[float64]): [(-2.309, -1.186] < (-1.186, -0.0674] < (-0.0674, 1.051] < (1.051, 2.169]]"
      ]
     },
     "execution_count": 76,
     "metadata": {},
     "output_type": "execute_result"
    }
   ],
   "source": [
    "frame = DataFrame({'data1': np.random.randn(100),\n",
    "                   'data2': np.random.randn(100)})\n",
    "factor = pd.cut(frame.data1, 4) # 4分割(数量ベース)\n",
    "factor[:10]"
   ]
  },
  {
   "cell_type": "code",
   "execution_count": 77,
   "metadata": {
    "ExecuteTime": {
     "end_time": "2017-10-24T08:12:37.933684Z",
     "start_time": "2017-10-24T08:12:37.911624Z"
    },
    "collapsed": true
   },
   "outputs": [],
   "source": [
    "#pd.cut?"
   ]
  },
  {
   "cell_type": "code",
   "execution_count": 78,
   "metadata": {
    "ExecuteTime": {
     "end_time": "2017-10-24T08:12:37.973791Z",
     "start_time": "2017-10-24T08:12:37.935689Z"
    },
    "scrolled": true
   },
   "outputs": [
    {
     "data": {
      "text/html": [
       "<div>\n",
       "<style>\n",
       "    .dataframe thead tr:only-child th {\n",
       "        text-align: right;\n",
       "    }\n",
       "\n",
       "    .dataframe thead th {\n",
       "        text-align: left;\n",
       "    }\n",
       "\n",
       "    .dataframe tbody tr th {\n",
       "        vertical-align: top;\n",
       "    }\n",
       "</style>\n",
       "<table border=\"1\" class=\"dataframe\">\n",
       "  <thead>\n",
       "    <tr style=\"text-align: right;\">\n",
       "      <th></th>\n",
       "      <th>count</th>\n",
       "      <th>max</th>\n",
       "      <th>mean</th>\n",
       "      <th>min</th>\n",
       "    </tr>\n",
       "    <tr>\n",
       "      <th>data1</th>\n",
       "      <th></th>\n",
       "      <th></th>\n",
       "      <th></th>\n",
       "      <th></th>\n",
       "    </tr>\n",
       "  </thead>\n",
       "  <tbody>\n",
       "    <tr>\n",
       "      <th>(-2.309, -1.186]</th>\n",
       "      <td>11.0</td>\n",
       "      <td>2.224660</td>\n",
       "      <td>0.180889</td>\n",
       "      <td>-1.741494</td>\n",
       "    </tr>\n",
       "    <tr>\n",
       "      <th>(-1.186, -0.0674]</th>\n",
       "      <td>34.0</td>\n",
       "      <td>1.920784</td>\n",
       "      <td>-0.048207</td>\n",
       "      <td>-1.563740</td>\n",
       "    </tr>\n",
       "    <tr>\n",
       "      <th>(-0.0674, 1.051]</th>\n",
       "      <td>46.0</td>\n",
       "      <td>2.068708</td>\n",
       "      <td>-0.012260</td>\n",
       "      <td>-2.420294</td>\n",
       "    </tr>\n",
       "    <tr>\n",
       "      <th>(1.051, 2.169]</th>\n",
       "      <td>9.0</td>\n",
       "      <td>1.270025</td>\n",
       "      <td>-0.532541</td>\n",
       "      <td>-2.644409</td>\n",
       "    </tr>\n",
       "  </tbody>\n",
       "</table>\n",
       "</div>"
      ],
      "text/plain": [
       "                   count       max      mean       min\n",
       "data1                                                 \n",
       "(-2.309, -1.186]    11.0  2.224660  0.180889 -1.741494\n",
       "(-1.186, -0.0674]   34.0  1.920784 -0.048207 -1.563740\n",
       "(-0.0674, 1.051]    46.0  2.068708 -0.012260 -2.420294\n",
       "(1.051, 2.169]       9.0  1.270025 -0.532541 -2.644409"
      ]
     },
     "execution_count": 78,
     "metadata": {},
     "output_type": "execute_result"
    }
   ],
   "source": [
    "def get_stats(group):\n",
    "    return {'min': group.min(), 'max': group.max(),\n",
    "            'count': group.count(), 'mean': group.mean()}\n",
    "\n",
    "grouped = frame.data2.groupby(factor)\n",
    "grouped.apply(get_stats).unstack()\n",
    "\n",
    "#ADAPT the output is not sorted in the book while this is the case now (swap first two lines)"
   ]
  },
  {
   "cell_type": "code",
   "execution_count": 79,
   "metadata": {
    "ExecuteTime": {
     "end_time": "2017-10-24T08:12:38.002868Z",
     "start_time": "2017-10-24T08:12:37.974794Z"
    }
   },
   "outputs": [
    {
     "name": "stdout",
     "output_type": "stream",
     "text": [
      "(-0.0674, 1.051]    , -0.0674   , 1.051      , 1.1183999999999998\n",
      "(-1.186, -0.0674]   , -1.186    , -0.0674    , 1.1186    \n",
      "(-2.309, -1.186]    , -2.309    , -1.186     , 1.1230000000000002\n",
      "(1.051, 2.169]      , 1.051     , 2.169      , 1.118     \n"
     ]
    }
   ],
   "source": [
    "for f in factor.value_counts().keys():\n",
    "    print(\"{0:<20}, {1:<10}, {2:<10} , {3:<10}\".format(str(f), f.left, f.right, f.right-f.left))"
   ]
  },
  {
   "cell_type": "code",
   "execution_count": 80,
   "metadata": {
    "ExecuteTime": {
     "end_time": "2017-10-24T08:12:38.048992Z",
     "start_time": "2017-10-24T08:12:38.003871Z"
    }
   },
   "outputs": [
    {
     "data": {
      "text/html": [
       "<div>\n",
       "<style>\n",
       "    .dataframe thead tr:only-child th {\n",
       "        text-align: right;\n",
       "    }\n",
       "\n",
       "    .dataframe thead th {\n",
       "        text-align: left;\n",
       "    }\n",
       "\n",
       "    .dataframe tbody tr th {\n",
       "        vertical-align: top;\n",
       "    }\n",
       "</style>\n",
       "<table border=\"1\" class=\"dataframe\">\n",
       "  <thead>\n",
       "    <tr style=\"text-align: right;\">\n",
       "      <th></th>\n",
       "      <th>count</th>\n",
       "      <th>max</th>\n",
       "      <th>mean</th>\n",
       "      <th>min</th>\n",
       "    </tr>\n",
       "    <tr>\n",
       "      <th>data1</th>\n",
       "      <th></th>\n",
       "      <th></th>\n",
       "      <th></th>\n",
       "      <th></th>\n",
       "    </tr>\n",
       "  </thead>\n",
       "  <tbody>\n",
       "    <tr>\n",
       "      <th>0</th>\n",
       "      <td>10.0</td>\n",
       "      <td>2.224660</td>\n",
       "      <td>0.124335</td>\n",
       "      <td>-1.741494</td>\n",
       "    </tr>\n",
       "    <tr>\n",
       "      <th>1</th>\n",
       "      <td>10.0</td>\n",
       "      <td>1.440167</td>\n",
       "      <td>-0.317525</td>\n",
       "      <td>-1.563740</td>\n",
       "    </tr>\n",
       "    <tr>\n",
       "      <th>2</th>\n",
       "      <td>10.0</td>\n",
       "      <td>1.920784</td>\n",
       "      <td>-0.070213</td>\n",
       "      <td>-1.413416</td>\n",
       "    </tr>\n",
       "    <tr>\n",
       "      <th>3</th>\n",
       "      <td>10.0</td>\n",
       "      <td>1.457300</td>\n",
       "      <td>0.048634</td>\n",
       "      <td>-1.168634</td>\n",
       "    </tr>\n",
       "    <tr>\n",
       "      <th>4</th>\n",
       "      <td>10.0</td>\n",
       "      <td>1.022872</td>\n",
       "      <td>0.185396</td>\n",
       "      <td>-0.825020</td>\n",
       "    </tr>\n",
       "    <tr>\n",
       "      <th>5</th>\n",
       "      <td>10.0</td>\n",
       "      <td>1.107425</td>\n",
       "      <td>-0.011720</td>\n",
       "      <td>-1.844788</td>\n",
       "    </tr>\n",
       "    <tr>\n",
       "      <th>6</th>\n",
       "      <td>10.0</td>\n",
       "      <td>1.755108</td>\n",
       "      <td>-0.157155</td>\n",
       "      <td>-2.420294</td>\n",
       "    </tr>\n",
       "    <tr>\n",
       "      <th>7</th>\n",
       "      <td>10.0</td>\n",
       "      <td>2.068708</td>\n",
       "      <td>0.311639</td>\n",
       "      <td>-1.824505</td>\n",
       "    </tr>\n",
       "    <tr>\n",
       "      <th>8</th>\n",
       "      <td>10.0</td>\n",
       "      <td>1.436603</td>\n",
       "      <td>-0.255693</td>\n",
       "      <td>-1.213851</td>\n",
       "    </tr>\n",
       "    <tr>\n",
       "      <th>9</th>\n",
       "      <td>10.0</td>\n",
       "      <td>1.270025</td>\n",
       "      <td>-0.358306</td>\n",
       "      <td>-2.644409</td>\n",
       "    </tr>\n",
       "  </tbody>\n",
       "</table>\n",
       "</div>"
      ],
      "text/plain": [
       "       count       max      mean       min\n",
       "data1                                     \n",
       "0       10.0  2.224660  0.124335 -1.741494\n",
       "1       10.0  1.440167 -0.317525 -1.563740\n",
       "2       10.0  1.920784 -0.070213 -1.413416\n",
       "3       10.0  1.457300  0.048634 -1.168634\n",
       "4       10.0  1.022872  0.185396 -0.825020\n",
       "5       10.0  1.107425 -0.011720 -1.844788\n",
       "6       10.0  1.755108 -0.157155 -2.420294\n",
       "7       10.0  2.068708  0.311639 -1.824505\n",
       "8       10.0  1.436603 -0.255693 -1.213851\n",
       "9       10.0  1.270025 -0.358306 -2.644409"
      ]
     },
     "execution_count": 80,
     "metadata": {},
     "output_type": "execute_result"
    }
   ],
   "source": [
    "# Return quantile numbers\n",
    "grouping = pd.qcut(frame.data1, 10, labels=False)\n",
    "\n",
    "grouped = frame.data2.groupby(grouping)\n",
    "grouped.apply(get_stats).unstack()"
   ]
  },
  {
   "cell_type": "markdown",
   "metadata": {},
   "source": [
    "### 9.3.3 グループごとに指定する値でܽ欠損値を埋める"
   ]
  },
  {
   "cell_type": "code",
   "execution_count": 81,
   "metadata": {
    "ExecuteTime": {
     "end_time": "2017-10-24T08:12:38.068042Z",
     "start_time": "2017-10-24T08:12:38.050997Z"
    }
   },
   "outputs": [
    {
     "data": {
      "text/plain": [
       "0         NaN\n",
       "1   -0.258867\n",
       "2         NaN\n",
       "3   -1.260421\n",
       "4         NaN\n",
       "5   -1.070241\n",
       "dtype: float64"
      ]
     },
     "execution_count": 81,
     "metadata": {},
     "output_type": "execute_result"
    }
   ],
   "source": [
    "s = Series(np.random.randn(6))\n",
    "s[::2] = np.nan\n",
    "s"
   ]
  },
  {
   "cell_type": "code",
   "execution_count": 82,
   "metadata": {
    "ExecuteTime": {
     "end_time": "2017-10-24T08:12:38.098123Z",
     "start_time": "2017-10-24T08:12:38.069045Z"
    }
   },
   "outputs": [
    {
     "data": {
      "text/plain": [
       "0   -0.863176\n",
       "1   -0.258867\n",
       "2   -0.863176\n",
       "3   -1.260421\n",
       "4   -0.863176\n",
       "5   -1.070241\n",
       "dtype: float64"
      ]
     },
     "execution_count": 82,
     "metadata": {},
     "output_type": "execute_result"
    }
   ],
   "source": [
    "\"\"\"平均値で埋める\"\"\"\n",
    "s.fillna(s.mean())"
   ]
  },
  {
   "cell_type": "code",
   "execution_count": 83,
   "metadata": {
    "ExecuteTime": {
     "end_time": "2017-10-24T08:12:38.131211Z",
     "start_time": "2017-10-24T08:12:38.100128Z"
    }
   },
   "outputs": [
    {
     "data": {
      "text/plain": [
       "Ohio          0.804223\n",
       "New York     -0.156736\n",
       "Vermont            NaN\n",
       "Florida      -0.887104\n",
       "Oregon       -0.977936\n",
       "Nevada             NaN\n",
       "California    0.483338\n",
       "Idaho              NaN\n",
       "dtype: float64"
      ]
     },
     "execution_count": 83,
     "metadata": {},
     "output_type": "execute_result"
    }
   ],
   "source": [
    "states = ['Ohio', 'New York', 'Vermont', 'Florida',\n",
    "          'Oregon', 'Nevada', 'California', 'Idaho']\n",
    "group_key = ['East'] * 4 + ['West'] * 4 # R c( rep(\"East\",4), rep(\"West,4))\n",
    "data = Series(np.random.randn(8), index=states)\n",
    "data[['Vermont', 'Nevada', 'Idaho']] = np.nan\n",
    "data"
   ]
  },
  {
   "cell_type": "code",
   "execution_count": 84,
   "metadata": {
    "ExecuteTime": {
     "end_time": "2017-10-24T08:12:38.163297Z",
     "start_time": "2017-10-24T08:12:38.132214Z"
    }
   },
   "outputs": [
    {
     "data": {
      "text/plain": [
       "East   -0.079872\n",
       "West   -0.247299\n",
       "dtype: float64"
      ]
     },
     "execution_count": 84,
     "metadata": {},
     "output_type": "execute_result"
    }
   ],
   "source": [
    "data.groupby(group_key).mean()"
   ]
  },
  {
   "cell_type": "code",
   "execution_count": 85,
   "metadata": {
    "ExecuteTime": {
     "end_time": "2017-10-24T08:12:38.196386Z",
     "start_time": "2017-10-24T08:12:38.164300Z"
    }
   },
   "outputs": [
    {
     "data": {
      "text/plain": [
       "Ohio          0.804223\n",
       "New York     -0.156736\n",
       "Vermont      -0.079872\n",
       "Florida      -0.887104\n",
       "Oregon       -0.977936\n",
       "Nevada       -0.247299\n",
       "California    0.483338\n",
       "Idaho        -0.247299\n",
       "dtype: float64"
      ]
     },
     "execution_count": 85,
     "metadata": {},
     "output_type": "execute_result"
    }
   ],
   "source": [
    "\"\"\"欠損値をグループの平均で埋める\"\"\"\n",
    "fill_mean = lambda g: g.fillna(g.mean())\n",
    "data.groupby(group_key).apply(fill_mean)"
   ]
  },
  {
   "cell_type": "code",
   "execution_count": 86,
   "metadata": {
    "ExecuteTime": {
     "end_time": "2017-10-24T08:12:38.230476Z",
     "start_time": "2017-10-24T08:12:38.198391Z"
    }
   },
   "outputs": [
    {
     "data": {
      "text/plain": [
       "Ohio          0.804223\n",
       "New York     -0.156736\n",
       "Vermont       0.500000\n",
       "Florida      -0.887104\n",
       "Oregon       -0.977936\n",
       "Nevada       -1.000000\n",
       "California    0.483338\n",
       "Idaho        -1.000000\n",
       "dtype: float64"
      ]
     },
     "execution_count": 86,
     "metadata": {},
     "output_type": "execute_result"
    }
   ],
   "source": [
    "\"\"\"予め用意した値で埋める\"\"\"\n",
    "fill_values = {'East': 0.5, 'West': -1}\n",
    "fill_func = lambda g: g.fillna(fill_values[g.name])\n",
    "\n",
    "data.groupby(group_key).apply(fill_func)"
   ]
  },
  {
   "cell_type": "markdown",
   "metadata": {},
   "source": [
    "### 9.3.4 ランダムサンプリングと順列"
   ]
  },
  {
   "cell_type": "markdown",
   "metadata": {},
   "source": [
    "- モンテカルロ法とかランダムサンプリングに使える"
   ]
  },
  {
   "cell_type": "code",
   "execution_count": 87,
   "metadata": {
    "ExecuteTime": {
     "end_time": "2017-10-24T08:12:38.262563Z",
     "start_time": "2017-10-24T08:12:38.231479Z"
    },
    "collapsed": true
   },
   "outputs": [],
   "source": [
    "# Hearts, Spades, Clubs, Diamonds\n",
    "suits = ['H', 'S', 'C', 'D']\n",
    "###card_val = (range(1, 11) + [10] * 3) * 4\n",
    "card_val = (list( range(1, 11) )  + [10] * 3) * 4\n",
    "###base_names = ['A'] + range(2, 11) + ['J', 'K', 'Q']\n",
    "base_names = ['A'] + list( range(2, 11) ) + ['J', 'K', 'Q']\n",
    "cards = []\n",
    "for suit in ['H', 'S', 'C', 'D']:\n",
    "    cards.extend(str(num) + suit for num in base_names)\n",
    "\n",
    "deck = Series(card_val, index=cards)"
   ]
  },
  {
   "cell_type": "code",
   "execution_count": 88,
   "metadata": {
    "ExecuteTime": {
     "end_time": "2017-10-24T08:12:38.296654Z",
     "start_time": "2017-10-24T08:12:38.264567Z"
    },
    "scrolled": true
   },
   "outputs": [
    {
     "data": {
      "text/plain": [
       "AH      1\n",
       "2H      2\n",
       "3H      3\n",
       "4H      4\n",
       "5H      5\n",
       "6H      6\n",
       "7H      7\n",
       "8H      8\n",
       "9H      9\n",
       "10H    10\n",
       "JH     10\n",
       "KH     10\n",
       "QH     10\n",
       "dtype: int64"
      ]
     },
     "execution_count": 88,
     "metadata": {},
     "output_type": "execute_result"
    }
   ],
   "source": [
    "\"\"\"カードの組\"\"\"\n",
    "deck[:13]"
   ]
  },
  {
   "cell_type": "code",
   "execution_count": 89,
   "metadata": {
    "ExecuteTime": {
     "end_time": "2017-10-24T08:12:38.322723Z",
     "start_time": "2017-10-24T08:12:38.297657Z"
    },
    "collapsed": true
   },
   "outputs": [],
   "source": [
    "#np.take?  # fancy index と同じ動作"
   ]
  },
  {
   "cell_type": "code",
   "execution_count": 90,
   "metadata": {
    "ExecuteTime": {
     "end_time": "2017-10-24T08:12:38.361828Z",
     "start_time": "2017-10-24T08:12:38.324728Z"
    },
    "scrolled": true
   },
   "outputs": [
    {
     "data": {
      "text/plain": [
       "array([6, 9, 8, 1, 2, 5, 4, 7, 0, 3])"
      ]
     },
     "execution_count": 90,
     "metadata": {},
     "output_type": "execute_result"
    }
   ],
   "source": [
    "\"\"\"順列の一組\"\"\"\n",
    "np.random.permutation(10)"
   ]
  },
  {
   "cell_type": "code",
   "execution_count": 91,
   "metadata": {
    "ExecuteTime": {
     "end_time": "2017-10-24T08:12:38.389903Z",
     "start_time": "2017-10-24T08:12:38.363833Z"
    },
    "scrolled": true
   },
   "outputs": [
    {
     "data": {
      "text/plain": [
       "9C     9\n",
       "7D     7\n",
       "8C     8\n",
       "KD    10\n",
       "QD    10\n",
       "dtype: int64"
      ]
     },
     "execution_count": 91,
     "metadata": {},
     "output_type": "execute_result"
    }
   ],
   "source": [
    "\"\"\"一組のカードからn枚引く\"\"\"\n",
    "def draw(deck, n=5):\n",
    "    return deck.take(np.random.permutation(len(deck))[:n]) # 先頭n枚を返す\n",
    "draw(deck)"
   ]
  },
  {
   "cell_type": "code",
   "execution_count": 92,
   "metadata": {
    "ExecuteTime": {
     "end_time": "2017-10-24T08:12:38.425999Z",
     "start_time": "2017-10-24T08:12:38.390907Z"
    }
   },
   "outputs": [
    {
     "data": {
      "text/plain": [
       "C  QC     10\n",
       "   6C      6\n",
       "D  10D    10\n",
       "   QD     10\n",
       "H  AH      1\n",
       "   7H      7\n",
       "S  QS     10\n",
       "   9S      9\n",
       "dtype: int64"
      ]
     },
     "execution_count": 92,
     "metadata": {},
     "output_type": "execute_result"
    }
   ],
   "source": [
    "\"\"\"n枚のカードそれぞれの絵柄に対して、2枚引く?\"\"\"\n",
    "get_suit = lambda card: card[-1] # last letter is suit 最後の文字がは絵柄\n",
    "#deck.groupby(get_suit).apply(draw, n=2)\n",
    "deck.groupby(get_suit).apply(draw, n=2)"
   ]
  },
  {
   "cell_type": "code",
   "execution_count": 93,
   "metadata": {
    "ExecuteTime": {
     "end_time": "2017-10-24T08:12:38.456081Z",
     "start_time": "2017-10-24T08:12:38.428005Z"
    }
   },
   "outputs": [
    {
     "data": {
      "text/plain": [
       "3C      3\n",
       "JC     10\n",
       "KD     10\n",
       "AD      1\n",
       "QH     10\n",
       "10H    10\n",
       "KS     10\n",
       "5S      5\n",
       "dtype: int64"
      ]
     },
     "execution_count": 93,
     "metadata": {},
     "output_type": "execute_result"
    }
   ],
   "source": [
    "# alternatively\n",
    "deck.groupby(get_suit, group_keys=False).apply(draw, n=2)"
   ]
  },
  {
   "cell_type": "markdown",
   "metadata": {},
   "source": [
    "### 9.3.5 グループの加重平均と相関"
   ]
  },
  {
   "cell_type": "code",
   "execution_count": 94,
   "metadata": {
    "ExecuteTime": {
     "end_time": "2017-10-24T08:12:38.489168Z",
     "start_time": "2017-10-24T08:12:38.457082Z"
    }
   },
   "outputs": [
    {
     "data": {
      "text/html": [
       "<div>\n",
       "<style>\n",
       "    .dataframe thead tr:only-child th {\n",
       "        text-align: right;\n",
       "    }\n",
       "\n",
       "    .dataframe thead th {\n",
       "        text-align: left;\n",
       "    }\n",
       "\n",
       "    .dataframe tbody tr th {\n",
       "        vertical-align: top;\n",
       "    }\n",
       "</style>\n",
       "<table border=\"1\" class=\"dataframe\">\n",
       "  <thead>\n",
       "    <tr style=\"text-align: right;\">\n",
       "      <th></th>\n",
       "      <th>category</th>\n",
       "      <th>data</th>\n",
       "      <th>weights</th>\n",
       "    </tr>\n",
       "  </thead>\n",
       "  <tbody>\n",
       "    <tr>\n",
       "      <th>0</th>\n",
       "      <td>a</td>\n",
       "      <td>0.449880</td>\n",
       "      <td>0.958500</td>\n",
       "    </tr>\n",
       "    <tr>\n",
       "      <th>1</th>\n",
       "      <td>a</td>\n",
       "      <td>0.617487</td>\n",
       "      <td>0.291053</td>\n",
       "    </tr>\n",
       "    <tr>\n",
       "      <th>2</th>\n",
       "      <td>a</td>\n",
       "      <td>0.336680</td>\n",
       "      <td>0.686678</td>\n",
       "    </tr>\n",
       "    <tr>\n",
       "      <th>3</th>\n",
       "      <td>a</td>\n",
       "      <td>-0.062649</td>\n",
       "      <td>0.042228</td>\n",
       "    </tr>\n",
       "    <tr>\n",
       "      <th>4</th>\n",
       "      <td>b</td>\n",
       "      <td>-0.023295</td>\n",
       "      <td>0.062504</td>\n",
       "    </tr>\n",
       "    <tr>\n",
       "      <th>5</th>\n",
       "      <td>b</td>\n",
       "      <td>1.072407</td>\n",
       "      <td>0.814399</td>\n",
       "    </tr>\n",
       "    <tr>\n",
       "      <th>6</th>\n",
       "      <td>b</td>\n",
       "      <td>0.760617</td>\n",
       "      <td>0.436618</td>\n",
       "    </tr>\n",
       "    <tr>\n",
       "      <th>7</th>\n",
       "      <td>b</td>\n",
       "      <td>1.204850</td>\n",
       "      <td>0.392068</td>\n",
       "    </tr>\n",
       "  </tbody>\n",
       "</table>\n",
       "</div>"
      ],
      "text/plain": [
       "  category      data   weights\n",
       "0        a  0.449880  0.958500\n",
       "1        a  0.617487  0.291053\n",
       "2        a  0.336680  0.686678\n",
       "3        a -0.062649  0.042228\n",
       "4        b -0.023295  0.062504\n",
       "5        b  1.072407  0.814399\n",
       "6        b  0.760617  0.436618\n",
       "7        b  1.204850  0.392068"
      ]
     },
     "execution_count": 94,
     "metadata": {},
     "output_type": "execute_result"
    }
   ],
   "source": [
    "df = DataFrame({'category': ['a', 'a', 'a', 'a', 'b', 'b', 'b', 'b'],\n",
    "                'data': np.random.randn(8),\n",
    "                'weights': np.random.rand(8)})\n",
    "df"
   ]
  },
  {
   "cell_type": "code",
   "execution_count": 95,
   "metadata": {
    "ExecuteTime": {
     "end_time": "2017-10-24T08:12:38.523259Z",
     "start_time": "2017-10-24T08:12:38.491174Z"
    }
   },
   "outputs": [
    {
     "data": {
      "text/plain": [
       "category\n",
       "a    0.424309\n",
       "b    0.982882\n",
       "dtype: float64"
      ]
     },
     "execution_count": 95,
     "metadata": {},
     "output_type": "execute_result"
    }
   ],
   "source": [
    "grouped = df.groupby('category')\n",
    "get_wavg = lambda g: np.average(g['data'], weights=g['weights'])\n",
    "grouped.apply(get_wavg)"
   ]
  },
  {
   "cell_type": "code",
   "execution_count": 96,
   "metadata": {
    "ExecuteTime": {
     "end_time": "2017-10-24T08:12:38.567379Z",
     "start_time": "2017-10-24T08:12:38.525267Z"
    }
   },
   "outputs": [
    {
     "name": "stdout",
     "output_type": "stream",
     "text": [
      "<class 'pandas.core.frame.DataFrame'>\n",
      "DatetimeIndex: 2214 entries, 2003-01-02 to 2011-10-14\n",
      "Data columns (total 4 columns):\n",
      "AAPL    2214 non-null float64\n",
      "MSFT    2214 non-null float64\n",
      "XOM     2214 non-null float64\n",
      "SPX     2214 non-null float64\n",
      "dtypes: float64(4)\n",
      "memory usage: 86.5 KB\n"
     ]
    }
   ],
   "source": [
    "\"\"\"Yahoo Finance S&Pインデックス といくつかの株式\"\"\"\n",
    "close_px = pd.read_csv('ch09/stock_px.csv', parse_dates=True, index_col=0)\n",
    "close_px.info()"
   ]
  },
  {
   "cell_type": "code",
   "execution_count": 97,
   "metadata": {
    "ExecuteTime": {
     "end_time": "2017-10-24T08:12:38.593447Z",
     "start_time": "2017-10-24T08:12:38.569382Z"
    }
   },
   "outputs": [
    {
     "data": {
      "text/html": [
       "<div>\n",
       "<style>\n",
       "    .dataframe thead tr:only-child th {\n",
       "        text-align: right;\n",
       "    }\n",
       "\n",
       "    .dataframe thead th {\n",
       "        text-align: left;\n",
       "    }\n",
       "\n",
       "    .dataframe tbody tr th {\n",
       "        vertical-align: top;\n",
       "    }\n",
       "</style>\n",
       "<table border=\"1\" class=\"dataframe\">\n",
       "  <thead>\n",
       "    <tr style=\"text-align: right;\">\n",
       "      <th></th>\n",
       "      <th>AAPL</th>\n",
       "      <th>MSFT</th>\n",
       "      <th>XOM</th>\n",
       "      <th>SPX</th>\n",
       "    </tr>\n",
       "  </thead>\n",
       "  <tbody>\n",
       "    <tr>\n",
       "      <th>2011-10-11</th>\n",
       "      <td>400.29</td>\n",
       "      <td>27.00</td>\n",
       "      <td>76.27</td>\n",
       "      <td>1195.54</td>\n",
       "    </tr>\n",
       "    <tr>\n",
       "      <th>2011-10-12</th>\n",
       "      <td>402.19</td>\n",
       "      <td>26.96</td>\n",
       "      <td>77.16</td>\n",
       "      <td>1207.25</td>\n",
       "    </tr>\n",
       "    <tr>\n",
       "      <th>2011-10-13</th>\n",
       "      <td>408.43</td>\n",
       "      <td>27.18</td>\n",
       "      <td>76.37</td>\n",
       "      <td>1203.66</td>\n",
       "    </tr>\n",
       "    <tr>\n",
       "      <th>2011-10-14</th>\n",
       "      <td>422.00</td>\n",
       "      <td>27.27</td>\n",
       "      <td>78.11</td>\n",
       "      <td>1224.58</td>\n",
       "    </tr>\n",
       "  </tbody>\n",
       "</table>\n",
       "</div>"
      ],
      "text/plain": [
       "              AAPL   MSFT    XOM      SPX\n",
       "2011-10-11  400.29  27.00  76.27  1195.54\n",
       "2011-10-12  402.19  26.96  77.16  1207.25\n",
       "2011-10-13  408.43  27.18  76.37  1203.66\n",
       "2011-10-14  422.00  27.27  78.11  1224.58"
      ]
     },
     "execution_count": 97,
     "metadata": {},
     "output_type": "execute_result"
    }
   ],
   "source": [
    "close_px[-4:]"
   ]
  },
  {
   "cell_type": "code",
   "execution_count": 98,
   "metadata": {
    "ExecuteTime": {
     "end_time": "2017-10-24T08:12:38.653607Z",
     "start_time": "2017-10-24T08:12:38.595454Z"
    }
   },
   "outputs": [
    {
     "data": {
      "text/html": [
       "<div>\n",
       "<style>\n",
       "    .dataframe thead tr:only-child th {\n",
       "        text-align: right;\n",
       "    }\n",
       "\n",
       "    .dataframe thead th {\n",
       "        text-align: left;\n",
       "    }\n",
       "\n",
       "    .dataframe tbody tr th {\n",
       "        vertical-align: top;\n",
       "    }\n",
       "</style>\n",
       "<table border=\"1\" class=\"dataframe\">\n",
       "  <thead>\n",
       "    <tr style=\"text-align: right;\">\n",
       "      <th></th>\n",
       "      <th>AAPL</th>\n",
       "      <th>MSFT</th>\n",
       "      <th>XOM</th>\n",
       "      <th>SPX</th>\n",
       "    </tr>\n",
       "  </thead>\n",
       "  <tbody>\n",
       "    <tr>\n",
       "      <th>2003</th>\n",
       "      <td>0.541124</td>\n",
       "      <td>0.745174</td>\n",
       "      <td>0.661265</td>\n",
       "      <td>1.0</td>\n",
       "    </tr>\n",
       "    <tr>\n",
       "      <th>2004</th>\n",
       "      <td>0.374283</td>\n",
       "      <td>0.588531</td>\n",
       "      <td>0.557742</td>\n",
       "      <td>1.0</td>\n",
       "    </tr>\n",
       "    <tr>\n",
       "      <th>2005</th>\n",
       "      <td>0.467540</td>\n",
       "      <td>0.562374</td>\n",
       "      <td>0.631010</td>\n",
       "      <td>1.0</td>\n",
       "    </tr>\n",
       "    <tr>\n",
       "      <th>2006</th>\n",
       "      <td>0.428267</td>\n",
       "      <td>0.406126</td>\n",
       "      <td>0.518514</td>\n",
       "      <td>1.0</td>\n",
       "    </tr>\n",
       "    <tr>\n",
       "      <th>2007</th>\n",
       "      <td>0.508118</td>\n",
       "      <td>0.658770</td>\n",
       "      <td>0.786264</td>\n",
       "      <td>1.0</td>\n",
       "    </tr>\n",
       "    <tr>\n",
       "      <th>2008</th>\n",
       "      <td>0.681434</td>\n",
       "      <td>0.804626</td>\n",
       "      <td>0.828303</td>\n",
       "      <td>1.0</td>\n",
       "    </tr>\n",
       "    <tr>\n",
       "      <th>2009</th>\n",
       "      <td>0.707103</td>\n",
       "      <td>0.654902</td>\n",
       "      <td>0.797921</td>\n",
       "      <td>1.0</td>\n",
       "    </tr>\n",
       "    <tr>\n",
       "      <th>2010</th>\n",
       "      <td>0.710105</td>\n",
       "      <td>0.730118</td>\n",
       "      <td>0.839057</td>\n",
       "      <td>1.0</td>\n",
       "    </tr>\n",
       "    <tr>\n",
       "      <th>2011</th>\n",
       "      <td>0.691931</td>\n",
       "      <td>0.800996</td>\n",
       "      <td>0.859975</td>\n",
       "      <td>1.0</td>\n",
       "    </tr>\n",
       "  </tbody>\n",
       "</table>\n",
       "</div>"
      ],
      "text/plain": [
       "          AAPL      MSFT       XOM  SPX\n",
       "2003  0.541124  0.745174  0.661265  1.0\n",
       "2004  0.374283  0.588531  0.557742  1.0\n",
       "2005  0.467540  0.562374  0.631010  1.0\n",
       "2006  0.428267  0.406126  0.518514  1.0\n",
       "2007  0.508118  0.658770  0.786264  1.0\n",
       "2008  0.681434  0.804626  0.828303  1.0\n",
       "2009  0.707103  0.654902  0.797921  1.0\n",
       "2010  0.710105  0.730118  0.839057  1.0\n",
       "2011  0.691931  0.800996  0.859975  1.0"
      ]
     },
     "execution_count": 98,
     "metadata": {},
     "output_type": "execute_result"
    }
   ],
   "source": [
    "\"\"\"年次の相関 (vs SPX)\"\"\"\n",
    "rets = close_px.pct_change().dropna()\n",
    "spx_corr = lambda x: x.corrwith(x['SPX'])\n",
    "by_year = rets.groupby(lambda x: x.year)\n",
    "by_year.apply(spx_corr)"
   ]
  },
  {
   "cell_type": "code",
   "execution_count": 99,
   "metadata": {
    "ExecuteTime": {
     "end_time": "2017-10-24T08:12:38.666642Z",
     "start_time": "2017-10-24T08:12:38.654610Z"
    }
   },
   "outputs": [
    {
     "data": {
      "text/plain": [
       "2003    0.480868\n",
       "2004    0.259024\n",
       "2005    0.300093\n",
       "2006    0.161735\n",
       "2007    0.417738\n",
       "2008    0.611901\n",
       "2009    0.432738\n",
       "2010    0.571946\n",
       "2011    0.581987\n",
       "dtype: float64"
      ]
     },
     "execution_count": 99,
     "metadata": {},
     "output_type": "execute_result"
    }
   ],
   "source": [
    "# Annual correlation of Apple with Microsoft\n",
    "by_year.apply(lambda g: g['AAPL'].corr(g['MSFT']))"
   ]
  },
  {
   "cell_type": "markdown",
   "metadata": {},
   "source": [
    "### 9.3.6 グループ~~指向~~ごとの線形回帰\n",
    "<p>Example: Group-wise linear regression</p>"
   ]
  },
  {
   "cell_type": "code",
   "execution_count": 100,
   "metadata": {
    "ExecuteTime": {
     "end_time": "2017-10-24T08:12:41.164357Z",
     "start_time": "2017-10-24T08:12:38.667646Z"
    }
   },
   "outputs": [
    {
     "name": "stderr",
     "output_type": "stream",
     "text": [
      "C:\\Users\\osawa\\AppData\\Local\\Continuum\\Anaconda3\\lib\\site-packages\\statsmodels\\compat\\pandas.py:56: FutureWarning: The pandas.core.datetools module is deprecated and will be removed in a future version. Please use the pandas.tseries module instead.\n",
      "  from pandas.core import datetools\n"
     ]
    }
   ],
   "source": [
    "import statsmodels.api as sm\n",
    "def regress(data, yvar, xvars):\n",
    "    Y = data[yvar]\n",
    "    X = data[xvars]\n",
    "    X['intercept'] = 1.\n",
    "    result = sm.OLS(Y, X).fit() # 最小二乗法による線形回帰\n",
    "    return result.params"
   ]
  },
  {
   "cell_type": "code",
   "execution_count": 101,
   "metadata": {
    "ExecuteTime": {
     "end_time": "2017-10-24T08:12:41.170371Z",
     "start_time": "2017-10-24T08:12:41.166361Z"
    }
   },
   "outputs": [
    {
     "data": {
      "text/plain": [
       "<pandas.core.groupby.DataFrameGroupBy object at 0x0000025190919780>"
      ]
     },
     "execution_count": 101,
     "metadata": {},
     "output_type": "execute_result"
    }
   ],
   "source": [
    "by_year"
   ]
  },
  {
   "cell_type": "code",
   "execution_count": 102,
   "metadata": {
    "ExecuteTime": {
     "end_time": "2017-10-24T08:12:41.233542Z",
     "start_time": "2017-10-24T08:12:41.171374Z"
    }
   },
   "outputs": [
    {
     "data": {
      "text/html": [
       "<div>\n",
       "<style>\n",
       "    .dataframe thead tr:only-child th {\n",
       "        text-align: right;\n",
       "    }\n",
       "\n",
       "    .dataframe thead th {\n",
       "        text-align: left;\n",
       "    }\n",
       "\n",
       "    .dataframe tbody tr th {\n",
       "        vertical-align: top;\n",
       "    }\n",
       "</style>\n",
       "<table border=\"1\" class=\"dataframe\">\n",
       "  <thead>\n",
       "    <tr style=\"text-align: right;\">\n",
       "      <th></th>\n",
       "      <th>AAPL</th>\n",
       "      <th>MSFT</th>\n",
       "      <th>XOM</th>\n",
       "      <th>SPX</th>\n",
       "    </tr>\n",
       "  </thead>\n",
       "  <tbody>\n",
       "    <tr>\n",
       "      <th>2003-01-03</th>\n",
       "      <td>0.006757</td>\n",
       "      <td>0.001421</td>\n",
       "      <td>0.000684</td>\n",
       "      <td>-0.000484</td>\n",
       "    </tr>\n",
       "    <tr>\n",
       "      <th>2003-01-06</th>\n",
       "      <td>0.000000</td>\n",
       "      <td>0.017975</td>\n",
       "      <td>0.024624</td>\n",
       "      <td>0.022474</td>\n",
       "    </tr>\n",
       "    <tr>\n",
       "      <th>2003-01-07</th>\n",
       "      <td>-0.002685</td>\n",
       "      <td>0.019052</td>\n",
       "      <td>-0.033712</td>\n",
       "      <td>-0.006545</td>\n",
       "    </tr>\n",
       "  </tbody>\n",
       "</table>\n",
       "</div>"
      ],
      "text/plain": [
       "                AAPL      MSFT       XOM       SPX\n",
       "2003-01-03  0.006757  0.001421  0.000684 -0.000484\n",
       "2003-01-06  0.000000  0.017975  0.024624  0.022474\n",
       "2003-01-07 -0.002685  0.019052 -0.033712 -0.006545"
      ]
     },
     "execution_count": 102,
     "metadata": {},
     "output_type": "execute_result"
    }
   ],
   "source": [
    "list(by_year)[0][1][:3] # 最初の年の、中身の2番目(DataFrame)、上から3行"
   ]
  },
  {
   "cell_type": "code",
   "execution_count": 103,
   "metadata": {
    "ExecuteTime": {
     "end_time": "2017-10-24T08:12:41.304730Z",
     "start_time": "2017-10-24T08:12:41.235546Z"
    }
   },
   "outputs": [
    {
     "data": {
      "text/html": [
       "<div>\n",
       "<style>\n",
       "    .dataframe thead tr:only-child th {\n",
       "        text-align: right;\n",
       "    }\n",
       "\n",
       "    .dataframe thead th {\n",
       "        text-align: left;\n",
       "    }\n",
       "\n",
       "    .dataframe tbody tr th {\n",
       "        vertical-align: top;\n",
       "    }\n",
       "</style>\n",
       "<table border=\"1\" class=\"dataframe\">\n",
       "  <thead>\n",
       "    <tr style=\"text-align: right;\">\n",
       "      <th></th>\n",
       "      <th>SPX</th>\n",
       "      <th>intercept</th>\n",
       "    </tr>\n",
       "  </thead>\n",
       "  <tbody>\n",
       "    <tr>\n",
       "      <th>2003</th>\n",
       "      <td>1.195406</td>\n",
       "      <td>0.000710</td>\n",
       "    </tr>\n",
       "    <tr>\n",
       "      <th>2004</th>\n",
       "      <td>1.363463</td>\n",
       "      <td>0.004201</td>\n",
       "    </tr>\n",
       "    <tr>\n",
       "      <th>2005</th>\n",
       "      <td>1.766415</td>\n",
       "      <td>0.003246</td>\n",
       "    </tr>\n",
       "    <tr>\n",
       "      <th>2006</th>\n",
       "      <td>1.645496</td>\n",
       "      <td>0.000080</td>\n",
       "    </tr>\n",
       "    <tr>\n",
       "      <th>2007</th>\n",
       "      <td>1.198761</td>\n",
       "      <td>0.003438</td>\n",
       "    </tr>\n",
       "    <tr>\n",
       "      <th>2008</th>\n",
       "      <td>0.968016</td>\n",
       "      <td>-0.001110</td>\n",
       "    </tr>\n",
       "    <tr>\n",
       "      <th>2009</th>\n",
       "      <td>0.879103</td>\n",
       "      <td>0.002954</td>\n",
       "    </tr>\n",
       "    <tr>\n",
       "      <th>2010</th>\n",
       "      <td>1.052608</td>\n",
       "      <td>0.001261</td>\n",
       "    </tr>\n",
       "    <tr>\n",
       "      <th>2011</th>\n",
       "      <td>0.806605</td>\n",
       "      <td>0.001514</td>\n",
       "    </tr>\n",
       "  </tbody>\n",
       "</table>\n",
       "</div>"
      ],
      "text/plain": [
       "           SPX  intercept\n",
       "2003  1.195406   0.000710\n",
       "2004  1.363463   0.004201\n",
       "2005  1.766415   0.003246\n",
       "2006  1.645496   0.000080\n",
       "2007  1.198761   0.003438\n",
       "2008  0.968016  -0.001110\n",
       "2009  0.879103   0.002954\n",
       "2010  1.052608   0.001261\n",
       "2011  0.806605   0.001514"
      ]
     },
     "execution_count": 103,
     "metadata": {},
     "output_type": "execute_result"
    }
   ],
   "source": [
    "\"\"\"AppleとSPXの年ごとの線形回帰\"\"\"\n",
    "by_year.apply(regress, 'AAPL', ['SPX'])"
   ]
  },
  {
   "cell_type": "markdown",
   "metadata": {},
   "source": [
    "- 試してみた"
   ]
  },
  {
   "cell_type": "code",
   "execution_count": 104,
   "metadata": {
    "ExecuteTime": {
     "end_time": "2017-10-24T08:12:41.607541Z",
     "start_time": "2017-10-24T08:12:41.305733Z"
    },
    "scrolled": false
   },
   "outputs": [
    {
     "data": {
      "text/plain": [
       "<matplotlib.axes._subplots.AxesSubplot at 0x25193624c18>"
      ]
     },
     "execution_count": 104,
     "metadata": {},
     "output_type": "execute_result"
    },
    {
     "data": {
      "image/png": "[encoded data removed]",
      "text/plain": [
       "<matplotlib.figure.Figure at 0x25193624198>"
      ]
     },
     "metadata": {},
     "output_type": "display_data"
    }
   ],
   "source": [
    "data = rets.groupby(pd.TimeGrouper(freq=\"A\")).aggregate(np.sum)\n",
    "data.plot()"
   ]
  },
  {
   "cell_type": "code",
   "execution_count": null,
   "metadata": {
    "collapsed": true
   },
   "outputs": [],
   "source": []
  },
  {
   "cell_type": "markdown",
   "metadata": {},
   "source": [
    "## 9.4 ピボットテーブルとクロス集計"
   ]
  },
  {
   "cell_type": "code",
   "execution_count": 105,
   "metadata": {
    "ExecuteTime": {
     "end_time": "2017-10-24T08:12:41.626591Z",
     "start_time": "2017-10-24T08:12:41.608542Z"
    }
   },
   "outputs": [
    {
     "data": {
      "text/html": [
       "<div>\n",
       "<style>\n",
       "    .dataframe thead tr:only-child th {\n",
       "        text-align: right;\n",
       "    }\n",
       "\n",
       "    .dataframe thead th {\n",
       "        text-align: left;\n",
       "    }\n",
       "\n",
       "    .dataframe tbody tr th {\n",
       "        vertical-align: top;\n",
       "    }\n",
       "</style>\n",
       "<table border=\"1\" class=\"dataframe\">\n",
       "  <thead>\n",
       "    <tr style=\"text-align: right;\">\n",
       "      <th></th>\n",
       "      <th></th>\n",
       "      <th>size</th>\n",
       "      <th>tip</th>\n",
       "      <th>tip_pct</th>\n",
       "      <th>total_bill</th>\n",
       "    </tr>\n",
       "    <tr>\n",
       "      <th>sex</th>\n",
       "      <th>smoker</th>\n",
       "      <th></th>\n",
       "      <th></th>\n",
       "      <th></th>\n",
       "      <th></th>\n",
       "    </tr>\n",
       "  </thead>\n",
       "  <tbody>\n",
       "    <tr>\n",
       "      <th rowspan=\"2\" valign=\"top\">Female</th>\n",
       "      <th>No</th>\n",
       "      <td>2.592593</td>\n",
       "      <td>2.773519</td>\n",
       "      <td>0.156921</td>\n",
       "      <td>18.105185</td>\n",
       "    </tr>\n",
       "    <tr>\n",
       "      <th>Yes</th>\n",
       "      <td>2.242424</td>\n",
       "      <td>2.931515</td>\n",
       "      <td>0.182150</td>\n",
       "      <td>17.977879</td>\n",
       "    </tr>\n",
       "    <tr>\n",
       "      <th rowspan=\"2\" valign=\"top\">Male</th>\n",
       "      <th>No</th>\n",
       "      <td>2.711340</td>\n",
       "      <td>3.113402</td>\n",
       "      <td>0.160669</td>\n",
       "      <td>19.791237</td>\n",
       "    </tr>\n",
       "    <tr>\n",
       "      <th>Yes</th>\n",
       "      <td>2.500000</td>\n",
       "      <td>3.051167</td>\n",
       "      <td>0.152771</td>\n",
       "      <td>22.284500</td>\n",
       "    </tr>\n",
       "  </tbody>\n",
       "</table>\n",
       "</div>"
      ],
      "text/plain": [
       "                   size       tip   tip_pct  total_bill\n",
       "sex    smoker                                          \n",
       "Female No      2.592593  2.773519  0.156921   18.105185\n",
       "       Yes     2.242424  2.931515  0.182150   17.977879\n",
       "Male   No      2.711340  3.113402  0.160669   19.791237\n",
       "       Yes     2.500000  3.051167  0.152771   22.284500"
      ]
     },
     "execution_count": 105,
     "metadata": {},
     "output_type": "execute_result"
    }
   ],
   "source": [
    "tips.pivot_table(index=['sex', 'smoker'])"
   ]
  },
  {
   "cell_type": "code",
   "execution_count": 106,
   "metadata": {
    "ExecuteTime": {
     "end_time": "2017-10-24T08:12:41.684746Z",
     "start_time": "2017-10-24T08:12:41.628597Z"
    }
   },
   "outputs": [
    {
     "data": {
      "text/html": [
       "<div>\n",
       "<style>\n",
       "    .dataframe thead tr:only-child th {\n",
       "        text-align: right;\n",
       "    }\n",
       "\n",
       "    .dataframe thead th {\n",
       "        text-align: left;\n",
       "    }\n",
       "\n",
       "    .dataframe tbody tr th {\n",
       "        vertical-align: top;\n",
       "    }\n",
       "</style>\n",
       "<table border=\"1\" class=\"dataframe\">\n",
       "  <thead>\n",
       "    <tr>\n",
       "      <th></th>\n",
       "      <th></th>\n",
       "      <th colspan=\"2\" halign=\"left\">size</th>\n",
       "      <th colspan=\"2\" halign=\"left\">tip_pct</th>\n",
       "    </tr>\n",
       "    <tr>\n",
       "      <th></th>\n",
       "      <th>smoker</th>\n",
       "      <th>No</th>\n",
       "      <th>Yes</th>\n",
       "      <th>No</th>\n",
       "      <th>Yes</th>\n",
       "    </tr>\n",
       "    <tr>\n",
       "      <th>sex</th>\n",
       "      <th>day</th>\n",
       "      <th></th>\n",
       "      <th></th>\n",
       "      <th></th>\n",
       "      <th></th>\n",
       "    </tr>\n",
       "  </thead>\n",
       "  <tbody>\n",
       "    <tr>\n",
       "      <th rowspan=\"4\" valign=\"top\">Female</th>\n",
       "      <th>Fri</th>\n",
       "      <td>2.500000</td>\n",
       "      <td>2.000000</td>\n",
       "      <td>0.165296</td>\n",
       "      <td>0.209129</td>\n",
       "    </tr>\n",
       "    <tr>\n",
       "      <th>Sat</th>\n",
       "      <td>2.307692</td>\n",
       "      <td>2.200000</td>\n",
       "      <td>0.147993</td>\n",
       "      <td>0.163817</td>\n",
       "    </tr>\n",
       "    <tr>\n",
       "      <th>Sun</th>\n",
       "      <td>3.071429</td>\n",
       "      <td>2.500000</td>\n",
       "      <td>0.165710</td>\n",
       "      <td>0.237075</td>\n",
       "    </tr>\n",
       "    <tr>\n",
       "      <th>Thur</th>\n",
       "      <td>2.480000</td>\n",
       "      <td>2.428571</td>\n",
       "      <td>0.155971</td>\n",
       "      <td>0.163073</td>\n",
       "    </tr>\n",
       "    <tr>\n",
       "      <th rowspan=\"4\" valign=\"top\">Male</th>\n",
       "      <th>Fri</th>\n",
       "      <td>2.000000</td>\n",
       "      <td>2.125000</td>\n",
       "      <td>0.138005</td>\n",
       "      <td>0.144730</td>\n",
       "    </tr>\n",
       "    <tr>\n",
       "      <th>Sat</th>\n",
       "      <td>2.656250</td>\n",
       "      <td>2.629630</td>\n",
       "      <td>0.162132</td>\n",
       "      <td>0.139067</td>\n",
       "    </tr>\n",
       "    <tr>\n",
       "      <th>Sun</th>\n",
       "      <td>2.883721</td>\n",
       "      <td>2.600000</td>\n",
       "      <td>0.158291</td>\n",
       "      <td>0.173964</td>\n",
       "    </tr>\n",
       "    <tr>\n",
       "      <th>Thur</th>\n",
       "      <td>2.500000</td>\n",
       "      <td>2.300000</td>\n",
       "      <td>0.165706</td>\n",
       "      <td>0.164417</td>\n",
       "    </tr>\n",
       "  </tbody>\n",
       "</table>\n",
       "</div>"
      ],
      "text/plain": [
       "                 size             tip_pct          \n",
       "smoker             No       Yes        No       Yes\n",
       "sex    day                                         \n",
       "Female Fri   2.500000  2.000000  0.165296  0.209129\n",
       "       Sat   2.307692  2.200000  0.147993  0.163817\n",
       "       Sun   3.071429  2.500000  0.165710  0.237075\n",
       "       Thur  2.480000  2.428571  0.155971  0.163073\n",
       "Male   Fri   2.000000  2.125000  0.138005  0.144730\n",
       "       Sat   2.656250  2.629630  0.162132  0.139067\n",
       "       Sun   2.883721  2.600000  0.158291  0.173964\n",
       "       Thur  2.500000  2.300000  0.165706  0.164417"
      ]
     },
     "execution_count": 106,
     "metadata": {},
     "output_type": "execute_result"
    }
   ],
   "source": [
    "tips.pivot_table(['tip_pct', 'size'], index=['sex', 'day'],\n",
    "                 columns='smoker')"
   ]
  },
  {
   "cell_type": "code",
   "execution_count": 107,
   "metadata": {
    "ExecuteTime": {
     "end_time": "2017-10-24T08:12:41.743906Z",
     "start_time": "2017-10-24T08:12:41.686752Z"
    }
   },
   "outputs": [
    {
     "data": {
      "text/html": [
       "<div>\n",
       "<style>\n",
       "    .dataframe thead tr:only-child th {\n",
       "        text-align: right;\n",
       "    }\n",
       "\n",
       "    .dataframe thead th {\n",
       "        text-align: left;\n",
       "    }\n",
       "\n",
       "    .dataframe tbody tr th {\n",
       "        vertical-align: top;\n",
       "    }\n",
       "</style>\n",
       "<table border=\"1\" class=\"dataframe\">\n",
       "  <thead>\n",
       "    <tr>\n",
       "      <th></th>\n",
       "      <th></th>\n",
       "      <th colspan=\"3\" halign=\"left\">size</th>\n",
       "      <th colspan=\"3\" halign=\"left\">tip_pct</th>\n",
       "    </tr>\n",
       "    <tr>\n",
       "      <th></th>\n",
       "      <th>smoker</th>\n",
       "      <th>No</th>\n",
       "      <th>Yes</th>\n",
       "      <th>All</th>\n",
       "      <th>No</th>\n",
       "      <th>Yes</th>\n",
       "      <th>All</th>\n",
       "    </tr>\n",
       "    <tr>\n",
       "      <th>sex</th>\n",
       "      <th>day</th>\n",
       "      <th></th>\n",
       "      <th></th>\n",
       "      <th></th>\n",
       "      <th></th>\n",
       "      <th></th>\n",
       "      <th></th>\n",
       "    </tr>\n",
       "  </thead>\n",
       "  <tbody>\n",
       "    <tr>\n",
       "      <th rowspan=\"4\" valign=\"top\">Female</th>\n",
       "      <th>Fri</th>\n",
       "      <td>2.500000</td>\n",
       "      <td>2.000000</td>\n",
       "      <td>2.111111</td>\n",
       "      <td>0.165296</td>\n",
       "      <td>0.209129</td>\n",
       "      <td>0.199388</td>\n",
       "    </tr>\n",
       "    <tr>\n",
       "      <th>Sat</th>\n",
       "      <td>2.307692</td>\n",
       "      <td>2.200000</td>\n",
       "      <td>2.250000</td>\n",
       "      <td>0.147993</td>\n",
       "      <td>0.163817</td>\n",
       "      <td>0.156470</td>\n",
       "    </tr>\n",
       "    <tr>\n",
       "      <th>Sun</th>\n",
       "      <td>3.071429</td>\n",
       "      <td>2.500000</td>\n",
       "      <td>2.944444</td>\n",
       "      <td>0.165710</td>\n",
       "      <td>0.237075</td>\n",
       "      <td>0.181569</td>\n",
       "    </tr>\n",
       "    <tr>\n",
       "      <th>Thur</th>\n",
       "      <td>2.480000</td>\n",
       "      <td>2.428571</td>\n",
       "      <td>2.468750</td>\n",
       "      <td>0.155971</td>\n",
       "      <td>0.163073</td>\n",
       "      <td>0.157525</td>\n",
       "    </tr>\n",
       "    <tr>\n",
       "      <th rowspan=\"4\" valign=\"top\">Male</th>\n",
       "      <th>Fri</th>\n",
       "      <td>2.000000</td>\n",
       "      <td>2.125000</td>\n",
       "      <td>2.100000</td>\n",
       "      <td>0.138005</td>\n",
       "      <td>0.144730</td>\n",
       "      <td>0.143385</td>\n",
       "    </tr>\n",
       "    <tr>\n",
       "      <th>Sat</th>\n",
       "      <td>2.656250</td>\n",
       "      <td>2.629630</td>\n",
       "      <td>2.644068</td>\n",
       "      <td>0.162132</td>\n",
       "      <td>0.139067</td>\n",
       "      <td>0.151577</td>\n",
       "    </tr>\n",
       "    <tr>\n",
       "      <th>Sun</th>\n",
       "      <td>2.883721</td>\n",
       "      <td>2.600000</td>\n",
       "      <td>2.810345</td>\n",
       "      <td>0.158291</td>\n",
       "      <td>0.173964</td>\n",
       "      <td>0.162344</td>\n",
       "    </tr>\n",
       "    <tr>\n",
       "      <th>Thur</th>\n",
       "      <td>2.500000</td>\n",
       "      <td>2.300000</td>\n",
       "      <td>2.433333</td>\n",
       "      <td>0.165706</td>\n",
       "      <td>0.164417</td>\n",
       "      <td>0.165276</td>\n",
       "    </tr>\n",
       "    <tr>\n",
       "      <th>All</th>\n",
       "      <th></th>\n",
       "      <td>2.668874</td>\n",
       "      <td>2.408602</td>\n",
       "      <td>2.569672</td>\n",
       "      <td>0.159328</td>\n",
       "      <td>0.163196</td>\n",
       "      <td>0.160803</td>\n",
       "    </tr>\n",
       "  </tbody>\n",
       "</table>\n",
       "</div>"
      ],
      "text/plain": [
       "                 size                       tip_pct                    \n",
       "smoker             No       Yes       All        No       Yes       All\n",
       "sex    day                                                             \n",
       "Female Fri   2.500000  2.000000  2.111111  0.165296  0.209129  0.199388\n",
       "       Sat   2.307692  2.200000  2.250000  0.147993  0.163817  0.156470\n",
       "       Sun   3.071429  2.500000  2.944444  0.165710  0.237075  0.181569\n",
       "       Thur  2.480000  2.428571  2.468750  0.155971  0.163073  0.157525\n",
       "Male   Fri   2.000000  2.125000  2.100000  0.138005  0.144730  0.143385\n",
       "       Sat   2.656250  2.629630  2.644068  0.162132  0.139067  0.151577\n",
       "       Sun   2.883721  2.600000  2.810345  0.158291  0.173964  0.162344\n",
       "       Thur  2.500000  2.300000  2.433333  0.165706  0.164417  0.165276\n",
       "All          2.668874  2.408602  2.569672  0.159328  0.163196  0.160803"
      ]
     },
     "execution_count": 107,
     "metadata": {},
     "output_type": "execute_result"
    }
   ],
   "source": [
    "tips.pivot_table(['tip_pct', 'size'], index=['sex', 'day'],\n",
    "                 columns='smoker', margins=True)"
   ]
  },
  {
   "cell_type": "code",
   "execution_count": 108,
   "metadata": {
    "ExecuteTime": {
     "end_time": "2017-10-24T08:12:41.780001Z",
     "start_time": "2017-10-24T08:12:41.745910Z"
    }
   },
   "outputs": [
    {
     "data": {
      "text/html": [
       "<div>\n",
       "<style>\n",
       "    .dataframe thead tr:only-child th {\n",
       "        text-align: right;\n",
       "    }\n",
       "\n",
       "    .dataframe thead th {\n",
       "        text-align: left;\n",
       "    }\n",
       "\n",
       "    .dataframe tbody tr th {\n",
       "        vertical-align: top;\n",
       "    }\n",
       "</style>\n",
       "<table border=\"1\" class=\"dataframe\">\n",
       "  <thead>\n",
       "    <tr style=\"text-align: right;\">\n",
       "      <th></th>\n",
       "      <th>day</th>\n",
       "      <th>Fri</th>\n",
       "      <th>Sat</th>\n",
       "      <th>Sun</th>\n",
       "      <th>Thur</th>\n",
       "      <th>All</th>\n",
       "    </tr>\n",
       "    <tr>\n",
       "      <th>sex</th>\n",
       "      <th>smoker</th>\n",
       "      <th></th>\n",
       "      <th></th>\n",
       "      <th></th>\n",
       "      <th></th>\n",
       "      <th></th>\n",
       "    </tr>\n",
       "  </thead>\n",
       "  <tbody>\n",
       "    <tr>\n",
       "      <th rowspan=\"2\" valign=\"top\">Female</th>\n",
       "      <th>No</th>\n",
       "      <td>2.0</td>\n",
       "      <td>13.0</td>\n",
       "      <td>14.0</td>\n",
       "      <td>25.0</td>\n",
       "      <td>54.0</td>\n",
       "    </tr>\n",
       "    <tr>\n",
       "      <th>Yes</th>\n",
       "      <td>7.0</td>\n",
       "      <td>15.0</td>\n",
       "      <td>4.0</td>\n",
       "      <td>7.0</td>\n",
       "      <td>33.0</td>\n",
       "    </tr>\n",
       "    <tr>\n",
       "      <th rowspan=\"2\" valign=\"top\">Male</th>\n",
       "      <th>No</th>\n",
       "      <td>2.0</td>\n",
       "      <td>32.0</td>\n",
       "      <td>43.0</td>\n",
       "      <td>20.0</td>\n",
       "      <td>97.0</td>\n",
       "    </tr>\n",
       "    <tr>\n",
       "      <th>Yes</th>\n",
       "      <td>8.0</td>\n",
       "      <td>27.0</td>\n",
       "      <td>15.0</td>\n",
       "      <td>10.0</td>\n",
       "      <td>60.0</td>\n",
       "    </tr>\n",
       "    <tr>\n",
       "      <th>All</th>\n",
       "      <th></th>\n",
       "      <td>19.0</td>\n",
       "      <td>87.0</td>\n",
       "      <td>76.0</td>\n",
       "      <td>62.0</td>\n",
       "      <td>244.0</td>\n",
       "    </tr>\n",
       "  </tbody>\n",
       "</table>\n",
       "</div>"
      ],
      "text/plain": [
       "day             Fri   Sat   Sun  Thur    All\n",
       "sex    smoker                               \n",
       "Female No       2.0  13.0  14.0  25.0   54.0\n",
       "       Yes      7.0  15.0   4.0   7.0   33.0\n",
       "Male   No       2.0  32.0  43.0  20.0   97.0\n",
       "       Yes      8.0  27.0  15.0  10.0   60.0\n",
       "All            19.0  87.0  76.0  62.0  244.0"
      ]
     },
     "execution_count": 108,
     "metadata": {},
     "output_type": "execute_result"
    }
   ],
   "source": [
    "tips.pivot_table('tip_pct', index=['sex', 'smoker'], columns='day',\n",
    "                 aggfunc=len, margins=True)"
   ]
  },
  {
   "cell_type": "code",
   "execution_count": 109,
   "metadata": {
    "ExecuteTime": {
     "end_time": "2017-10-24T08:12:41.804066Z",
     "start_time": "2017-10-24T08:12:41.782006Z"
    }
   },
   "outputs": [
    {
     "data": {
      "text/html": [
       "<div>\n",
       "<style>\n",
       "    .dataframe thead tr:only-child th {\n",
       "        text-align: right;\n",
       "    }\n",
       "\n",
       "    .dataframe thead th {\n",
       "        text-align: left;\n",
       "    }\n",
       "\n",
       "    .dataframe tbody tr th {\n",
       "        vertical-align: top;\n",
       "    }\n",
       "</style>\n",
       "<table border=\"1\" class=\"dataframe\">\n",
       "  <thead>\n",
       "    <tr style=\"text-align: right;\">\n",
       "      <th></th>\n",
       "      <th></th>\n",
       "      <th>day</th>\n",
       "      <th>Fri</th>\n",
       "      <th>Sat</th>\n",
       "      <th>Sun</th>\n",
       "      <th>Thur</th>\n",
       "    </tr>\n",
       "    <tr>\n",
       "      <th>time</th>\n",
       "      <th>sex</th>\n",
       "      <th>smoker</th>\n",
       "      <th></th>\n",
       "      <th></th>\n",
       "      <th></th>\n",
       "      <th></th>\n",
       "    </tr>\n",
       "  </thead>\n",
       "  <tbody>\n",
       "    <tr>\n",
       "      <th rowspan=\"4\" valign=\"top\">Dinner</th>\n",
       "      <th rowspan=\"2\" valign=\"top\">Female</th>\n",
       "      <th>No</th>\n",
       "      <td>2</td>\n",
       "      <td>30</td>\n",
       "      <td>43</td>\n",
       "      <td>2</td>\n",
       "    </tr>\n",
       "    <tr>\n",
       "      <th>Yes</th>\n",
       "      <td>8</td>\n",
       "      <td>33</td>\n",
       "      <td>10</td>\n",
       "      <td>0</td>\n",
       "    </tr>\n",
       "    <tr>\n",
       "      <th rowspan=\"2\" valign=\"top\">Male</th>\n",
       "      <th>No</th>\n",
       "      <td>4</td>\n",
       "      <td>85</td>\n",
       "      <td>124</td>\n",
       "      <td>0</td>\n",
       "    </tr>\n",
       "    <tr>\n",
       "      <th>Yes</th>\n",
       "      <td>12</td>\n",
       "      <td>71</td>\n",
       "      <td>39</td>\n",
       "      <td>0</td>\n",
       "    </tr>\n",
       "    <tr>\n",
       "      <th rowspan=\"4\" valign=\"top\">Lunch</th>\n",
       "      <th rowspan=\"2\" valign=\"top\">Female</th>\n",
       "      <th>No</th>\n",
       "      <td>3</td>\n",
       "      <td>0</td>\n",
       "      <td>0</td>\n",
       "      <td>60</td>\n",
       "    </tr>\n",
       "    <tr>\n",
       "      <th>Yes</th>\n",
       "      <td>6</td>\n",
       "      <td>0</td>\n",
       "      <td>0</td>\n",
       "      <td>17</td>\n",
       "    </tr>\n",
       "    <tr>\n",
       "      <th rowspan=\"2\" valign=\"top\">Male</th>\n",
       "      <th>No</th>\n",
       "      <td>0</td>\n",
       "      <td>0</td>\n",
       "      <td>0</td>\n",
       "      <td>50</td>\n",
       "    </tr>\n",
       "    <tr>\n",
       "      <th>Yes</th>\n",
       "      <td>5</td>\n",
       "      <td>0</td>\n",
       "      <td>0</td>\n",
       "      <td>23</td>\n",
       "    </tr>\n",
       "  </tbody>\n",
       "</table>\n",
       "</div>"
      ],
      "text/plain": [
       "day                   Fri  Sat  Sun  Thur\n",
       "time   sex    smoker                     \n",
       "Dinner Female No        2   30   43     2\n",
       "              Yes       8   33   10     0\n",
       "       Male   No        4   85  124     0\n",
       "              Yes      12   71   39     0\n",
       "Lunch  Female No        3    0    0    60\n",
       "              Yes       6    0    0    17\n",
       "       Male   No        0    0    0    50\n",
       "              Yes       5    0    0    23"
      ]
     },
     "execution_count": 109,
     "metadata": {},
     "output_type": "execute_result"
    }
   ],
   "source": [
    "tips.pivot_table('size', index=['time', 'sex', 'smoker'],\n",
    "                 columns='day', aggfunc='sum', fill_value=0)"
   ]
  },
  {
   "cell_type": "markdown",
   "metadata": {},
   "source": [
    "### 9.4.1 crosstabメソッド：クロス集計"
   ]
  },
  {
   "cell_type": "code",
   "execution_count": 110,
   "metadata": {
    "ExecuteTime": {
     "end_time": "2017-10-24T08:12:41.824119Z",
     "start_time": "2017-10-24T08:12:41.805068Z"
    },
    "collapsed": true
   },
   "outputs": [],
   "source": [
    "#from StringIO import StringIO\n",
    "from io import StringIO\n",
    "data = \"\"\"\\\n",
    "Sample    Gender    Handedness\n",
    "1    Female    Right-handed\n",
    "2    Male    Left-handed\n",
    "3    Female    Right-handed\n",
    "4    Male    Right-handed\n",
    "5    Male    Left-handed\n",
    "6    Male    Right-handed\n",
    "7    Female    Right-handed\n",
    "8    Female    Left-handed\n",
    "9    Male    Right-handed\n",
    "10    Female    Right-handed\"\"\"\n",
    "data = pd.read_table(StringIO(data), sep='\\s+')"
   ]
  },
  {
   "cell_type": "code",
   "execution_count": 111,
   "metadata": {
    "ExecuteTime": {
     "end_time": "2017-10-24T08:12:41.860216Z",
     "start_time": "2017-10-24T08:12:41.826124Z"
    }
   },
   "outputs": [
    {
     "data": {
      "text/html": [
       "<div>\n",
       "<style>\n",
       "    .dataframe thead tr:only-child th {\n",
       "        text-align: right;\n",
       "    }\n",
       "\n",
       "    .dataframe thead th {\n",
       "        text-align: left;\n",
       "    }\n",
       "\n",
       "    .dataframe tbody tr th {\n",
       "        vertical-align: top;\n",
       "    }\n",
       "</style>\n",
       "<table border=\"1\" class=\"dataframe\">\n",
       "  <thead>\n",
       "    <tr style=\"text-align: right;\">\n",
       "      <th></th>\n",
       "      <th>Sample</th>\n",
       "      <th>Gender</th>\n",
       "      <th>Handedness</th>\n",
       "    </tr>\n",
       "  </thead>\n",
       "  <tbody>\n",
       "    <tr>\n",
       "      <th>0</th>\n",
       "      <td>1</td>\n",
       "      <td>Female</td>\n",
       "      <td>Right-handed</td>\n",
       "    </tr>\n",
       "    <tr>\n",
       "      <th>1</th>\n",
       "      <td>2</td>\n",
       "      <td>Male</td>\n",
       "      <td>Left-handed</td>\n",
       "    </tr>\n",
       "    <tr>\n",
       "      <th>2</th>\n",
       "      <td>3</td>\n",
       "      <td>Female</td>\n",
       "      <td>Right-handed</td>\n",
       "    </tr>\n",
       "    <tr>\n",
       "      <th>3</th>\n",
       "      <td>4</td>\n",
       "      <td>Male</td>\n",
       "      <td>Right-handed</td>\n",
       "    </tr>\n",
       "    <tr>\n",
       "      <th>4</th>\n",
       "      <td>5</td>\n",
       "      <td>Male</td>\n",
       "      <td>Left-handed</td>\n",
       "    </tr>\n",
       "    <tr>\n",
       "      <th>5</th>\n",
       "      <td>6</td>\n",
       "      <td>Male</td>\n",
       "      <td>Right-handed</td>\n",
       "    </tr>\n",
       "    <tr>\n",
       "      <th>6</th>\n",
       "      <td>7</td>\n",
       "      <td>Female</td>\n",
       "      <td>Right-handed</td>\n",
       "    </tr>\n",
       "    <tr>\n",
       "      <th>7</th>\n",
       "      <td>8</td>\n",
       "      <td>Female</td>\n",
       "      <td>Left-handed</td>\n",
       "    </tr>\n",
       "    <tr>\n",
       "      <th>8</th>\n",
       "      <td>9</td>\n",
       "      <td>Male</td>\n",
       "      <td>Right-handed</td>\n",
       "    </tr>\n",
       "    <tr>\n",
       "      <th>9</th>\n",
       "      <td>10</td>\n",
       "      <td>Female</td>\n",
       "      <td>Right-handed</td>\n",
       "    </tr>\n",
       "  </tbody>\n",
       "</table>\n",
       "</div>"
      ],
      "text/plain": [
       "   Sample  Gender    Handedness\n",
       "0       1  Female  Right-handed\n",
       "1       2    Male   Left-handed\n",
       "2       3  Female  Right-handed\n",
       "3       4    Male  Right-handed\n",
       "4       5    Male   Left-handed\n",
       "5       6    Male  Right-handed\n",
       "6       7  Female  Right-handed\n",
       "7       8  Female   Left-handed\n",
       "8       9    Male  Right-handed\n",
       "9      10  Female  Right-handed"
      ]
     },
     "execution_count": 111,
     "metadata": {},
     "output_type": "execute_result"
    }
   ],
   "source": [
    "data"
   ]
  },
  {
   "cell_type": "code",
   "execution_count": 112,
   "metadata": {
    "ExecuteTime": {
     "end_time": "2017-10-24T08:12:41.917368Z",
     "start_time": "2017-10-24T08:12:41.862221Z"
    }
   },
   "outputs": [
    {
     "data": {
      "text/html": [
       "<div>\n",
       "<style>\n",
       "    .dataframe thead tr:only-child th {\n",
       "        text-align: right;\n",
       "    }\n",
       "\n",
       "    .dataframe thead th {\n",
       "        text-align: left;\n",
       "    }\n",
       "\n",
       "    .dataframe tbody tr th {\n",
       "        vertical-align: top;\n",
       "    }\n",
       "</style>\n",
       "<table border=\"1\" class=\"dataframe\">\n",
       "  <thead>\n",
       "    <tr style=\"text-align: right;\">\n",
       "      <th>Handedness</th>\n",
       "      <th>Left-handed</th>\n",
       "      <th>Right-handed</th>\n",
       "      <th>All</th>\n",
       "    </tr>\n",
       "    <tr>\n",
       "      <th>Gender</th>\n",
       "      <th></th>\n",
       "      <th></th>\n",
       "      <th></th>\n",
       "    </tr>\n",
       "  </thead>\n",
       "  <tbody>\n",
       "    <tr>\n",
       "      <th>Female</th>\n",
       "      <td>1</td>\n",
       "      <td>4</td>\n",
       "      <td>5</td>\n",
       "    </tr>\n",
       "    <tr>\n",
       "      <th>Male</th>\n",
       "      <td>2</td>\n",
       "      <td>3</td>\n",
       "      <td>5</td>\n",
       "    </tr>\n",
       "    <tr>\n",
       "      <th>All</th>\n",
       "      <td>3</td>\n",
       "      <td>7</td>\n",
       "      <td>10</td>\n",
       "    </tr>\n",
       "  </tbody>\n",
       "</table>\n",
       "</div>"
      ],
      "text/plain": [
       "Handedness  Left-handed  Right-handed  All\n",
       "Gender                                    \n",
       "Female                1             4    5\n",
       "Male                  2             3    5\n",
       "All                   3             7   10"
      ]
     },
     "execution_count": 112,
     "metadata": {},
     "output_type": "execute_result"
    }
   ],
   "source": [
    "pd.crosstab(data.Gender, data.Handedness, margins=True)"
   ]
  },
  {
   "cell_type": "code",
   "execution_count": 113,
   "metadata": {
    "ExecuteTime": {
     "end_time": "2017-10-24T08:12:41.970510Z",
     "start_time": "2017-10-24T08:12:41.918371Z"
    }
   },
   "outputs": [
    {
     "data": {
      "text/html": [
       "<div>\n",
       "<style>\n",
       "    .dataframe thead tr:only-child th {\n",
       "        text-align: right;\n",
       "    }\n",
       "\n",
       "    .dataframe thead th {\n",
       "        text-align: left;\n",
       "    }\n",
       "\n",
       "    .dataframe tbody tr th {\n",
       "        vertical-align: top;\n",
       "    }\n",
       "</style>\n",
       "<table border=\"1\" class=\"dataframe\">\n",
       "  <thead>\n",
       "    <tr style=\"text-align: right;\">\n",
       "      <th></th>\n",
       "      <th>smoker</th>\n",
       "      <th>No</th>\n",
       "      <th>Yes</th>\n",
       "      <th>All</th>\n",
       "    </tr>\n",
       "    <tr>\n",
       "      <th>time</th>\n",
       "      <th>day</th>\n",
       "      <th></th>\n",
       "      <th></th>\n",
       "      <th></th>\n",
       "    </tr>\n",
       "  </thead>\n",
       "  <tbody>\n",
       "    <tr>\n",
       "      <th rowspan=\"4\" valign=\"top\">Dinner</th>\n",
       "      <th>Fri</th>\n",
       "      <td>3</td>\n",
       "      <td>9</td>\n",
       "      <td>12</td>\n",
       "    </tr>\n",
       "    <tr>\n",
       "      <th>Sat</th>\n",
       "      <td>45</td>\n",
       "      <td>42</td>\n",
       "      <td>87</td>\n",
       "    </tr>\n",
       "    <tr>\n",
       "      <th>Sun</th>\n",
       "      <td>57</td>\n",
       "      <td>19</td>\n",
       "      <td>76</td>\n",
       "    </tr>\n",
       "    <tr>\n",
       "      <th>Thur</th>\n",
       "      <td>1</td>\n",
       "      <td>0</td>\n",
       "      <td>1</td>\n",
       "    </tr>\n",
       "    <tr>\n",
       "      <th rowspan=\"2\" valign=\"top\">Lunch</th>\n",
       "      <th>Fri</th>\n",
       "      <td>1</td>\n",
       "      <td>6</td>\n",
       "      <td>7</td>\n",
       "    </tr>\n",
       "    <tr>\n",
       "      <th>Thur</th>\n",
       "      <td>44</td>\n",
       "      <td>17</td>\n",
       "      <td>61</td>\n",
       "    </tr>\n",
       "    <tr>\n",
       "      <th>All</th>\n",
       "      <th></th>\n",
       "      <td>151</td>\n",
       "      <td>93</td>\n",
       "      <td>244</td>\n",
       "    </tr>\n",
       "  </tbody>\n",
       "</table>\n",
       "</div>"
      ],
      "text/plain": [
       "smoker        No  Yes  All\n",
       "time   day                \n",
       "Dinner Fri     3    9   12\n",
       "       Sat    45   42   87\n",
       "       Sun    57   19   76\n",
       "       Thur    1    0    1\n",
       "Lunch  Fri     1    6    7\n",
       "       Thur   44   17   61\n",
       "All          151   93  244"
      ]
     },
     "execution_count": 113,
     "metadata": {},
     "output_type": "execute_result"
    }
   ],
   "source": [
    "pd.crosstab([tips.time, tips.day], tips.smoker, margins=True)"
   ]
  },
  {
   "cell_type": "markdown",
   "metadata": {},
   "source": [
    "## 9.5 例： 2012年の連邦選挙委員会のデータベース"
   ]
  },
  {
   "cell_type": "markdown",
   "metadata": {},
   "source": [
    "- 政治的なキャンペーンへの寄付に関するデータ"
   ]
  },
  {
   "cell_type": "code",
   "execution_count": 114,
   "metadata": {
    "ExecuteTime": {
     "end_time": "2017-10-24T08:12:44.216515Z",
     "start_time": "2017-10-24T08:12:41.972516Z"
    }
   },
   "outputs": [
    {
     "name": "stderr",
     "output_type": "stream",
     "text": [
      "C:\\Users\\osawa\\AppData\\Local\\Continuum\\Anaconda3\\lib\\site-packages\\IPython\\core\\interactiveshell.py:2717: DtypeWarning: Columns (6) have mixed types. Specify dtype option on import or set low_memory=False.\n",
      "  interactivity=interactivity, compiler=compiler, result=result)\n"
     ]
    }
   ],
   "source": [
    "fec = pd.read_csv('ch09/P00000001-ALL.csv')"
   ]
  },
  {
   "cell_type": "code",
   "execution_count": 115,
   "metadata": {
    "ExecuteTime": {
     "end_time": "2017-10-24T08:12:44.222530Z",
     "start_time": "2017-10-24T08:12:44.218519Z"
    }
   },
   "outputs": [
    {
     "data": {
      "text/plain": [
       "(1001731, 16)"
      ]
     },
     "execution_count": 115,
     "metadata": {},
     "output_type": "execute_result"
    }
   ],
   "source": [
    "fec.shape"
   ]
  },
  {
   "cell_type": "code",
   "execution_count": 116,
   "metadata": {
    "ExecuteTime": {
     "end_time": "2017-10-24T08:12:44.971533Z",
     "start_time": "2017-10-24T08:12:44.224536Z"
    }
   },
   "outputs": [
    {
     "name": "stdout",
     "output_type": "stream",
     "text": [
      "<class 'pandas.core.frame.DataFrame'>\n",
      "RangeIndex: 1001731 entries, 0 to 1001730\n",
      "Data columns (total 16 columns):\n",
      "cmte_id              1001731 non-null object\n",
      "cand_id              1001731 non-null object\n",
      "cand_nm              1001731 non-null object\n",
      "contbr_nm            1001731 non-null object\n",
      "contbr_city          1001712 non-null object\n",
      "contbr_st            1001727 non-null object\n",
      "contbr_zip           1001620 non-null object\n",
      "contbr_employer      988002 non-null object\n",
      "contbr_occupation    993301 non-null object\n",
      "contb_receipt_amt    1001731 non-null float64\n",
      "contb_receipt_dt     1001731 non-null object\n",
      "receipt_desc         14166 non-null object\n",
      "memo_cd              92482 non-null object\n",
      "memo_text            97770 non-null object\n",
      "form_tp              1001731 non-null object\n",
      "file_num             1001731 non-null int64\n",
      "dtypes: float64(1), int64(1), object(14)\n",
      "memory usage: 122.3+ MB\n"
     ]
    }
   ],
   "source": [
    "fec.info()"
   ]
  },
  {
   "cell_type": "code",
   "execution_count": 117,
   "metadata": {
    "ExecuteTime": {
     "end_time": "2017-10-24T08:12:44.979554Z",
     "start_time": "2017-10-24T08:12:44.973538Z"
    }
   },
   "outputs": [
    {
     "data": {
      "text/plain": [
       "cmte_id                             C00431445\n",
       "cand_id                             P80003338\n",
       "cand_nm                         Obama, Barack\n",
       "contbr_nm                         ELLMAN, IRA\n",
       "contbr_city                             TEMPE\n",
       "contbr_st                                  AZ\n",
       "contbr_zip                          852816719\n",
       "contbr_employer      ARIZONA STATE UNIVERSITY\n",
       "contbr_occupation                   PROFESSOR\n",
       "contb_receipt_amt                          50\n",
       "contb_receipt_dt                    01-DEC-11\n",
       "receipt_desc                              NaN\n",
       "memo_cd                                   NaN\n",
       "memo_text                                 NaN\n",
       "form_tp                                 SA17A\n",
       "file_num                               772372\n",
       "Name: 123456, dtype: object"
      ]
     },
     "execution_count": 117,
     "metadata": {},
     "output_type": "execute_result"
    }
   ],
   "source": [
    "#fec.ix[123456]\n",
    "fec.iloc[123456]"
   ]
  },
  {
   "cell_type": "code",
   "execution_count": 118,
   "metadata": {
    "ExecuteTime": {
     "end_time": "2017-10-24T08:12:45.056761Z",
     "start_time": "2017-10-24T08:12:44.981559Z"
    }
   },
   "outputs": [
    {
     "data": {
      "text/plain": [
       "array(['Bachmann, Michelle', 'Romney, Mitt', 'Obama, Barack',\n",
       "       \"Roemer, Charles E. 'Buddy' III\", 'Pawlenty, Timothy',\n",
       "       'Johnson, Gary Earl', 'Paul, Ron', 'Santorum, Rick', 'Cain, Herman',\n",
       "       'Gingrich, Newt', 'McCotter, Thaddeus G', 'Huntsman, Jon',\n",
       "       'Perry, Rick'], dtype=object)"
      ]
     },
     "execution_count": 118,
     "metadata": {},
     "output_type": "execute_result"
    }
   ],
   "source": [
    "unique_cands = fec.cand_nm.unique()\n",
    "unique_cands"
   ]
  },
  {
   "cell_type": "code",
   "execution_count": 119,
   "metadata": {
    "ExecuteTime": {
     "end_time": "2017-10-24T08:12:45.062776Z",
     "start_time": "2017-10-24T08:12:45.057763Z"
    }
   },
   "outputs": [
    {
     "data": {
      "text/plain": [
       "'Obama, Barack'"
      ]
     },
     "execution_count": 119,
     "metadata": {},
     "output_type": "execute_result"
    }
   ],
   "source": [
    "unique_cands[2]"
   ]
  },
  {
   "cell_type": "code",
   "execution_count": 120,
   "metadata": {
    "ExecuteTime": {
     "end_time": "2017-10-24T08:12:45.093860Z",
     "start_time": "2017-10-24T08:12:45.064782Z"
    },
    "collapsed": true
   },
   "outputs": [],
   "source": [
    "parties = {'Bachmann, Michelle': 'Republican',\n",
    "           'Cain, Herman': 'Republican',\n",
    "           'Gingrich, Newt': 'Republican',\n",
    "           'Huntsman, Jon': 'Republican',\n",
    "           'Johnson, Gary Earl': 'Republican',\n",
    "           'McCotter, Thaddeus G': 'Republican',\n",
    "           'Obama, Barack': 'Democrat',\n",
    "           'Paul, Ron': 'Republican',\n",
    "           'Pawlenty, Timothy': 'Republican',\n",
    "           'Perry, Rick': 'Republican',\n",
    "           \"Roemer, Charles E. 'Buddy' III\": 'Republican',\n",
    "           'Romney, Mitt': 'Republican',\n",
    "           'Santorum, Rick': 'Republican'}"
   ]
  },
  {
   "cell_type": "code",
   "execution_count": 121,
   "metadata": {
    "ExecuteTime": {
     "end_time": "2017-10-24T08:12:45.126949Z",
     "start_time": "2017-10-24T08:12:45.095865Z"
    }
   },
   "outputs": [
    {
     "data": {
      "text/plain": [
       "123456    Obama, Barack\n",
       "123457    Obama, Barack\n",
       "123458    Obama, Barack\n",
       "123459    Obama, Barack\n",
       "123460    Obama, Barack\n",
       "Name: cand_nm, dtype: object"
      ]
     },
     "execution_count": 121,
     "metadata": {},
     "output_type": "execute_result"
    }
   ],
   "source": [
    "fec.cand_nm[123456:123461]"
   ]
  },
  {
   "cell_type": "code",
   "execution_count": 122,
   "metadata": {
    "ExecuteTime": {
     "end_time": "2017-10-24T08:12:45.158032Z",
     "start_time": "2017-10-24T08:12:45.127961Z"
    }
   },
   "outputs": [
    {
     "data": {
      "text/plain": [
       "123456    Democrat\n",
       "123457    Democrat\n",
       "123458    Democrat\n",
       "123459    Democrat\n",
       "123460    Democrat\n",
       "Name: cand_nm, dtype: object"
      ]
     },
     "execution_count": 122,
     "metadata": {},
     "output_type": "execute_result"
    }
   ],
   "source": [
    "\"\"\"候補者から政党を結びつける\"\"\"\n",
    "fec.cand_nm[123456:123461].map(parties)"
   ]
  },
  {
   "cell_type": "code",
   "execution_count": 123,
   "metadata": {
    "ExecuteTime": {
     "end_time": "2017-10-24T08:12:45.268327Z",
     "start_time": "2017-10-24T08:12:45.160037Z"
    },
    "collapsed": true
   },
   "outputs": [],
   "source": [
    "# Add it as a column\n",
    "fec['party'] = fec.cand_nm.map(parties)"
   ]
  },
  {
   "cell_type": "code",
   "execution_count": 124,
   "metadata": {
    "ExecuteTime": {
     "end_time": "2017-10-24T08:12:45.432765Z",
     "start_time": "2017-10-24T08:12:45.269328Z"
    },
    "scrolled": false
   },
   "outputs": [
    {
     "data": {
      "text/plain": [
       "Democrat      593746\n",
       "Republican    407985\n",
       "Name: party, dtype: int64"
      ]
     },
     "execution_count": 124,
     "metadata": {},
     "output_type": "execute_result"
    }
   ],
   "source": [
    "fec['party'].value_counts()"
   ]
  },
  {
   "cell_type": "markdown",
   "metadata": {},
   "source": [
    "- 寄付には払い戻しも含まれているので、取り除く"
   ]
  },
  {
   "cell_type": "code",
   "execution_count": 125,
   "metadata": {
    "ExecuteTime": {
     "end_time": "2017-10-24T08:12:45.500948Z",
     "start_time": "2017-10-24T08:12:45.434771Z"
    }
   },
   "outputs": [
    {
     "data": {
      "text/plain": [
       "True     991475\n",
       "False     10256\n",
       "Name: contb_receipt_amt, dtype: int64"
      ]
     },
     "execution_count": 125,
     "metadata": {},
     "output_type": "execute_result"
    }
   ],
   "source": [
    "(fec.contb_receipt_amt > 0).value_counts()"
   ]
  },
  {
   "cell_type": "code",
   "execution_count": 126,
   "metadata": {
    "ExecuteTime": {
     "end_time": "2017-10-24T08:12:45.836845Z",
     "start_time": "2017-10-24T08:12:45.501950Z"
    },
    "collapsed": true
   },
   "outputs": [],
   "source": [
    "fec = fec[fec.contb_receipt_amt > 0]"
   ]
  },
  {
   "cell_type": "markdown",
   "metadata": {},
   "source": [
    "- オバマとロムニーだけを含むサブセットも用意する"
   ]
  },
  {
   "cell_type": "code",
   "execution_count": 127,
   "metadata": {
    "ExecuteTime": {
     "end_time": "2017-10-24T08:12:45.982236Z",
     "start_time": "2017-10-24T08:12:45.837848Z"
    },
    "collapsed": true
   },
   "outputs": [],
   "source": [
    "fec_mrbo = fec[fec.cand_nm.isin(['Obama, Barack', 'Romney, Mitt'])]"
   ]
  },
  {
   "cell_type": "markdown",
   "metadata": {},
   "source": [
    "### 9.5.1 職務と勤務先による寄付金の統計"
   ]
  },
  {
   "cell_type": "code",
   "execution_count": 128,
   "metadata": {
    "ExecuteTime": {
     "end_time": "2017-10-24T08:12:46.231903Z",
     "start_time": "2017-10-24T08:12:45.984240Z"
    }
   },
   "outputs": [
    {
     "data": {
      "text/plain": [
       "RETIRED                                   233990\n",
       "INFORMATION REQUESTED                      35107\n",
       "ATTORNEY                                   34286\n",
       "HOMEMAKER                                  29931\n",
       "PHYSICIAN                                  23432\n",
       "INFORMATION REQUESTED PER BEST EFFORTS     21138\n",
       "ENGINEER                                   14334\n",
       "TEACHER                                    13990\n",
       "CONSULTANT                                 13273\n",
       "PROFESSOR                                  12555\n",
       "Name: contbr_occupation, dtype: int64"
      ]
     },
     "execution_count": 128,
     "metadata": {},
     "output_type": "execute_result"
    }
   ],
   "source": [
    "fec.contbr_occupation.value_counts()[:10]"
   ]
  },
  {
   "cell_type": "code",
   "execution_count": 129,
   "metadata": {
    "ExecuteTime": {
     "end_time": "2017-10-24T08:12:46.666061Z",
     "start_time": "2017-10-24T08:12:46.233907Z"
    },
    "collapsed": true
   },
   "outputs": [],
   "source": [
    "\"\"\"職業タイプのリマップ\"\"\"\n",
    "occ_mapping = {\n",
    "   'INFORMATION REQUESTED PER BEST EFFORTS' : 'NOT PROVIDED',\n",
    "   'INFORMATION REQUESTED' : 'NOT PROVIDED',\n",
    "   'INFORMATION REQUESTED (BEST EFFORTS)' : 'NOT PROVIDED',\n",
    "   'C.E.O.': 'CEO'\n",
    "}\n",
    "\n",
    "# If no mapping provided, return x\n",
    "f = lambda x: occ_mapping.get(x, x)\n",
    "fec.contbr_occupation = fec.contbr_occupation.map(f)"
   ]
  },
  {
   "cell_type": "code",
   "execution_count": 130,
   "metadata": {
    "ExecuteTime": {
     "end_time": "2017-10-24T08:12:46.997989Z",
     "start_time": "2017-10-24T08:12:46.667065Z"
    },
    "collapsed": true
   },
   "outputs": [],
   "source": [
    "\"\"\"勤務先のリマップ\"\"\"\n",
    "emp_mapping = {\n",
    "   'INFORMATION REQUESTED PER BEST EFFORTS' : 'NOT PROVIDED',\n",
    "   'INFORMATION REQUESTED' : 'NOT PROVIDED',\n",
    "   'SELF' : 'SELF-EMPLOYED',\n",
    "   'SELF EMPLOYED' : 'SELF-EMPLOYED',\n",
    "}\n",
    "\n",
    "# If no mapping provided, return x\n",
    "f = lambda x: emp_mapping.get(x, x)\n",
    "fec.contbr_employer = fec.contbr_employer.map(f)"
   ]
  },
  {
   "cell_type": "code",
   "execution_count": 131,
   "metadata": {
    "ExecuteTime": {
     "end_time": "2017-10-24T08:12:47.310787Z",
     "start_time": "2017-10-24T08:12:46.999955Z"
    },
    "collapsed": true
   },
   "outputs": [],
   "source": [
    "by_occupation = fec.pivot_table('contb_receipt_amt',\n",
    "                                index='contbr_occupation',\n",
    "                                columns='party', aggfunc='sum')"
   ]
  },
  {
   "cell_type": "code",
   "execution_count": 132,
   "metadata": {
    "ExecuteTime": {
     "end_time": "2017-10-24T08:12:47.324823Z",
     "start_time": "2017-10-24T08:12:47.312791Z"
    }
   },
   "outputs": [
    {
     "data": {
      "text/html": [
       "<div>\n",
       "<style>\n",
       "    .dataframe thead tr:only-child th {\n",
       "        text-align: right;\n",
       "    }\n",
       "\n",
       "    .dataframe thead th {\n",
       "        text-align: left;\n",
       "    }\n",
       "\n",
       "    .dataframe tbody tr th {\n",
       "        vertical-align: top;\n",
       "    }\n",
       "</style>\n",
       "<table border=\"1\" class=\"dataframe\">\n",
       "  <thead>\n",
       "    <tr style=\"text-align: right;\">\n",
       "      <th>party</th>\n",
       "      <th>Democrat</th>\n",
       "      <th>Republican</th>\n",
       "    </tr>\n",
       "    <tr>\n",
       "      <th>contbr_occupation</th>\n",
       "      <th></th>\n",
       "      <th></th>\n",
       "    </tr>\n",
       "  </thead>\n",
       "  <tbody>\n",
       "    <tr>\n",
       "      <th>ATTORNEY</th>\n",
       "      <td>11141982.97</td>\n",
       "      <td>7.477194e+06</td>\n",
       "    </tr>\n",
       "    <tr>\n",
       "      <th>CEO</th>\n",
       "      <td>2074974.79</td>\n",
       "      <td>4.211041e+06</td>\n",
       "    </tr>\n",
       "    <tr>\n",
       "      <th>CONSULTANT</th>\n",
       "      <td>2459912.71</td>\n",
       "      <td>2.544725e+06</td>\n",
       "    </tr>\n",
       "    <tr>\n",
       "      <th>ENGINEER</th>\n",
       "      <td>951525.55</td>\n",
       "      <td>1.818374e+06</td>\n",
       "    </tr>\n",
       "    <tr>\n",
       "      <th>EXECUTIVE</th>\n",
       "      <td>1355161.05</td>\n",
       "      <td>4.138850e+06</td>\n",
       "    </tr>\n",
       "    <tr>\n",
       "      <th>HOMEMAKER</th>\n",
       "      <td>4248875.80</td>\n",
       "      <td>1.363428e+07</td>\n",
       "    </tr>\n",
       "    <tr>\n",
       "      <th>INVESTOR</th>\n",
       "      <td>884133.00</td>\n",
       "      <td>2.431769e+06</td>\n",
       "    </tr>\n",
       "    <tr>\n",
       "      <th>LAWYER</th>\n",
       "      <td>3160478.87</td>\n",
       "      <td>3.912243e+05</td>\n",
       "    </tr>\n",
       "    <tr>\n",
       "      <th>MANAGER</th>\n",
       "      <td>762883.22</td>\n",
       "      <td>1.444532e+06</td>\n",
       "    </tr>\n",
       "    <tr>\n",
       "      <th>NOT PROVIDED</th>\n",
       "      <td>4866973.96</td>\n",
       "      <td>2.056547e+07</td>\n",
       "    </tr>\n",
       "    <tr>\n",
       "      <th>OWNER</th>\n",
       "      <td>1001567.36</td>\n",
       "      <td>2.408287e+06</td>\n",
       "    </tr>\n",
       "    <tr>\n",
       "      <th>PHYSICIAN</th>\n",
       "      <td>3735124.94</td>\n",
       "      <td>3.594320e+06</td>\n",
       "    </tr>\n",
       "    <tr>\n",
       "      <th>PRESIDENT</th>\n",
       "      <td>1878509.95</td>\n",
       "      <td>4.720924e+06</td>\n",
       "    </tr>\n",
       "    <tr>\n",
       "      <th>PROFESSOR</th>\n",
       "      <td>2165071.08</td>\n",
       "      <td>2.967027e+05</td>\n",
       "    </tr>\n",
       "    <tr>\n",
       "      <th>REAL ESTATE</th>\n",
       "      <td>528902.09</td>\n",
       "      <td>1.625902e+06</td>\n",
       "    </tr>\n",
       "    <tr>\n",
       "      <th>RETIRED</th>\n",
       "      <td>25305116.38</td>\n",
       "      <td>2.356124e+07</td>\n",
       "    </tr>\n",
       "    <tr>\n",
       "      <th>SELF-EMPLOYED</th>\n",
       "      <td>672393.40</td>\n",
       "      <td>1.640253e+06</td>\n",
       "    </tr>\n",
       "  </tbody>\n",
       "</table>\n",
       "</div>"
      ],
      "text/plain": [
       "party                 Democrat    Republican\n",
       "contbr_occupation                           \n",
       "ATTORNEY           11141982.97  7.477194e+06\n",
       "CEO                 2074974.79  4.211041e+06\n",
       "CONSULTANT          2459912.71  2.544725e+06\n",
       "ENGINEER             951525.55  1.818374e+06\n",
       "EXECUTIVE           1355161.05  4.138850e+06\n",
       "HOMEMAKER           4248875.80  1.363428e+07\n",
       "INVESTOR             884133.00  2.431769e+06\n",
       "LAWYER              3160478.87  3.912243e+05\n",
       "MANAGER              762883.22  1.444532e+06\n",
       "NOT PROVIDED        4866973.96  2.056547e+07\n",
       "OWNER               1001567.36  2.408287e+06\n",
       "PHYSICIAN           3735124.94  3.594320e+06\n",
       "PRESIDENT           1878509.95  4.720924e+06\n",
       "PROFESSOR           2165071.08  2.967027e+05\n",
       "REAL ESTATE          528902.09  1.625902e+06\n",
       "RETIRED            25305116.38  2.356124e+07\n",
       "SELF-EMPLOYED        672393.40  1.640253e+06"
      ]
     },
     "execution_count": 132,
     "metadata": {},
     "output_type": "execute_result"
    }
   ],
   "source": [
    "over_2mm = by_occupation[by_occupation.sum(1) > 2000000]\n",
    "over_2mm"
   ]
  },
  {
   "cell_type": "code",
   "execution_count": 133,
   "metadata": {
    "ExecuteTime": {
     "end_time": "2017-10-24T08:12:47.602567Z",
     "start_time": "2017-10-24T08:12:47.326829Z"
    }
   },
   "outputs": [
    {
     "data": {
      "text/plain": [
       "<matplotlib.axes._subplots.AxesSubplot at 0x251936d0f98>"
      ]
     },
     "execution_count": 133,
     "metadata": {},
     "output_type": "execute_result"
    },
    {
     "data": {
      "image/png": "[encoded data removed]",
      "text/plain": [
       "<matplotlib.figure.Figure at 0x251908c7438>"
      ]
     },
     "metadata": {},
     "output_type": "display_data"
    }
   ],
   "source": [
    "over_2mm.plot(kind='barh')"
   ]
  },
  {
   "cell_type": "code",
   "execution_count": 134,
   "metadata": {
    "ExecuteTime": {
     "end_time": "2017-10-24T08:12:47.609584Z",
     "start_time": "2017-10-24T08:12:47.604574Z"
    },
    "collapsed": true
   },
   "outputs": [],
   "source": [
    "def get_top_amounts(group, key, n=5):\n",
    "    totals = group.groupby(key)['contb_receipt_amt'].sum()\n",
    "\n",
    "    # Order totals by key in descending order\n",
    "    #return totals.order(ascending=False)[-n:]\n",
    "    return totals.sort_values(ascending=False)[-n:]"
   ]
  },
  {
   "cell_type": "code",
   "execution_count": 135,
   "metadata": {
    "ExecuteTime": {
     "end_time": "2017-10-24T08:12:48.039734Z",
     "start_time": "2017-10-24T08:12:47.611590Z"
    }
   },
   "outputs": [
    {
     "data": {
      "text/plain": [
       "cand_nm        contbr_occupation                     \n",
       "Obama, Barack  COMPUTER ASSISTANT                        3.0\n",
       "               SPRINKLER FITTER FIRE PROTECTION SPECI    3.0\n",
       "               ADMINISTRATION/INSTRUCTOR                 3.0\n",
       "               LEAD UI/UX DEVELOPER                      3.0\n",
       "               POLICY/ LAWYER                            3.0\n",
       "               LAN/WAN ANALYST                           3.0\n",
       "               SR MGR                                    3.0\n",
       "Romney, Mitt   MD - UROLOGIST                            5.0\n",
       "               DISTRICT REPRESENTATIVE                   5.0\n",
       "               INDEPENDENT PROFESSIONAL                  3.0\n",
       "               REMODELER & SEMI RETIRED                  3.0\n",
       "               AFFORDABLE REAL ESTATE DEVELOPER          3.0\n",
       "               IFC CONTRACTING SOLUTIONS                 3.0\n",
       "               3RD GENERATION FAMILY BUSINESS OWNER      3.0\n",
       "Name: contb_receipt_amt, dtype: float64"
      ]
     },
     "execution_count": 135,
     "metadata": {},
     "output_type": "execute_result"
    }
   ],
   "source": [
    "grouped = fec_mrbo.groupby('cand_nm')\n",
    "grouped.apply(get_top_amounts, 'contbr_occupation', n=7)"
   ]
  },
  {
   "cell_type": "code",
   "execution_count": 136,
   "metadata": {
    "ExecuteTime": {
     "end_time": "2017-10-24T08:12:48.523027Z",
     "start_time": "2017-10-24T08:12:48.041740Z"
    }
   },
   "outputs": [
    {
     "data": {
      "text/plain": [
       "cand_nm        contbr_employer                   \n",
       "Obama, Barack  SOLIYA                                3.0\n",
       "               CARR ENTERPRISES                      3.0\n",
       "               PENN STATE DICKINSON SCHOOL OF LAW    3.0\n",
       "               CADUCEUS OCCUPATIONAL MEDICINE        3.0\n",
       "               N.A.                                  3.0\n",
       "               REAL ENERGY CONSULTING SERVICES       3.0\n",
       "               JPDSYSTEMS, LLC                       3.0\n",
       "               CASS REGIONAL MED. CENTER             2.5\n",
       "               ARCON CORP                            2.0\n",
       "               THE VICTORIA GROUP, INC.              2.0\n",
       "Romney, Mitt   EASTHAM CAPITAL                       5.0\n",
       "               GREGORY GALLIVAN                      5.0\n",
       "               DIRECT LENDERS LLC                    5.0\n",
       "               LOUGH INVESTMENT ADVISORY LLC         4.0\n",
       "               WATERWORKS INDUSRTIES                 3.0\n",
       "               WILL MERRIFIELD                       3.0\n",
       "               HONOLD COMMUNICTAIONS                 3.0\n",
       "               INDEPENDENT PROFESSIONAL              3.0\n",
       "               UPTOWN CHEAPSKATE                     3.0\n",
       "               UN                                    3.0\n",
       "Name: contb_receipt_amt, dtype: float64"
      ]
     },
     "execution_count": 136,
     "metadata": {},
     "output_type": "execute_result"
    }
   ],
   "source": [
    "grouped.apply(get_top_amounts, 'contbr_employer', n=10)"
   ]
  },
  {
   "cell_type": "markdown",
   "metadata": {},
   "source": [
    "### 9.5.2 寄付金のビン分割"
   ]
  },
  {
   "cell_type": "code",
   "execution_count": 137,
   "metadata": {
    "ExecuteTime": {
     "end_time": "2017-10-24T08:12:48.570152Z",
     "start_time": "2017-10-24T08:12:48.524030Z"
    }
   },
   "outputs": [
    {
     "data": {
      "text/plain": [
       "411           (10, 100]\n",
       "412         (100, 1000]\n",
       "413         (100, 1000]\n",
       "414           (10, 100]\n",
       "415           (10, 100]\n",
       "416           (10, 100]\n",
       "417         (100, 1000]\n",
       "418           (10, 100]\n",
       "419         (100, 1000]\n",
       "420           (10, 100]\n",
       "421           (10, 100]\n",
       "422         (100, 1000]\n",
       "423         (100, 1000]\n",
       "424         (100, 1000]\n",
       "425         (100, 1000]\n",
       "426         (100, 1000]\n",
       "427       (1000, 10000]\n",
       "428         (100, 1000]\n",
       "429         (100, 1000]\n",
       "430           (10, 100]\n",
       "431       (1000, 10000]\n",
       "432         (100, 1000]\n",
       "433         (100, 1000]\n",
       "434         (100, 1000]\n",
       "435         (100, 1000]\n",
       "436         (100, 1000]\n",
       "437           (10, 100]\n",
       "438         (100, 1000]\n",
       "439         (100, 1000]\n",
       "440           (10, 100]\n",
       "              ...      \n",
       "701356        (10, 100]\n",
       "701357          (1, 10]\n",
       "701358        (10, 100]\n",
       "701359        (10, 100]\n",
       "701360        (10, 100]\n",
       "701361        (10, 100]\n",
       "701362      (100, 1000]\n",
       "701363        (10, 100]\n",
       "701364        (10, 100]\n",
       "701365        (10, 100]\n",
       "701366        (10, 100]\n",
       "701367        (10, 100]\n",
       "701368      (100, 1000]\n",
       "701369        (10, 100]\n",
       "701370        (10, 100]\n",
       "701371        (10, 100]\n",
       "701372        (10, 100]\n",
       "701373        (10, 100]\n",
       "701374        (10, 100]\n",
       "701375        (10, 100]\n",
       "701376    (1000, 10000]\n",
       "701377        (10, 100]\n",
       "701378        (10, 100]\n",
       "701379      (100, 1000]\n",
       "701380    (1000, 10000]\n",
       "701381        (10, 100]\n",
       "701382      (100, 1000]\n",
       "701383          (1, 10]\n",
       "701384        (10, 100]\n",
       "701385      (100, 1000]\n",
       "Name: contb_receipt_amt, Length: 694282, dtype: category\n",
       "Categories (8, interval[int64]): [(0, 1] < (1, 10] < (10, 100] < (100, 1000] < (1000, 10000] < (10000, 100000] < (100000, 1000000] < (1000000, 10000000]]"
      ]
     },
     "execution_count": 137,
     "metadata": {},
     "output_type": "execute_result"
    }
   ],
   "source": [
    "bins = np.array([0, 1, 10, 100, 1000, 10000, 100000, 1000000, 10000000])\n",
    "labels = pd.cut(fec_mrbo.contb_receipt_amt, bins)\n",
    "labels"
   ]
  },
  {
   "cell_type": "code",
   "execution_count": 138,
   "metadata": {
    "ExecuteTime": {
     "end_time": "2017-10-24T08:12:48.660394Z",
     "start_time": "2017-10-24T08:12:48.571155Z"
    }
   },
   "outputs": [
    {
     "data": {
      "text/html": [
       "<div>\n",
       "<style>\n",
       "    .dataframe thead tr:only-child th {\n",
       "        text-align: right;\n",
       "    }\n",
       "\n",
       "    .dataframe thead th {\n",
       "        text-align: left;\n",
       "    }\n",
       "\n",
       "    .dataframe tbody tr th {\n",
       "        vertical-align: top;\n",
       "    }\n",
       "</style>\n",
       "<table border=\"1\" class=\"dataframe\">\n",
       "  <thead>\n",
       "    <tr style=\"text-align: right;\">\n",
       "      <th>cand_nm</th>\n",
       "      <th>Obama, Barack</th>\n",
       "      <th>Romney, Mitt</th>\n",
       "    </tr>\n",
       "    <tr>\n",
       "      <th>contb_receipt_amt</th>\n",
       "      <th></th>\n",
       "      <th></th>\n",
       "    </tr>\n",
       "  </thead>\n",
       "  <tbody>\n",
       "    <tr>\n",
       "      <th>(0, 1]</th>\n",
       "      <td>493.0</td>\n",
       "      <td>77.0</td>\n",
       "    </tr>\n",
       "    <tr>\n",
       "      <th>(1, 10]</th>\n",
       "      <td>40070.0</td>\n",
       "      <td>3681.0</td>\n",
       "    </tr>\n",
       "    <tr>\n",
       "      <th>(10, 100]</th>\n",
       "      <td>372280.0</td>\n",
       "      <td>31853.0</td>\n",
       "    </tr>\n",
       "    <tr>\n",
       "      <th>(100, 1000]</th>\n",
       "      <td>153991.0</td>\n",
       "      <td>43357.0</td>\n",
       "    </tr>\n",
       "    <tr>\n",
       "      <th>(1000, 10000]</th>\n",
       "      <td>22284.0</td>\n",
       "      <td>26186.0</td>\n",
       "    </tr>\n",
       "    <tr>\n",
       "      <th>(10000, 100000]</th>\n",
       "      <td>2.0</td>\n",
       "      <td>1.0</td>\n",
       "    </tr>\n",
       "    <tr>\n",
       "      <th>(100000, 1000000]</th>\n",
       "      <td>3.0</td>\n",
       "      <td>NaN</td>\n",
       "    </tr>\n",
       "    <tr>\n",
       "      <th>(1000000, 10000000]</th>\n",
       "      <td>4.0</td>\n",
       "      <td>NaN</td>\n",
       "    </tr>\n",
       "  </tbody>\n",
       "</table>\n",
       "</div>"
      ],
      "text/plain": [
       "cand_nm              Obama, Barack  Romney, Mitt\n",
       "contb_receipt_amt                               \n",
       "(0, 1]                       493.0          77.0\n",
       "(1, 10]                    40070.0        3681.0\n",
       "(10, 100]                 372280.0       31853.0\n",
       "(100, 1000]               153991.0       43357.0\n",
       "(1000, 10000]              22284.0       26186.0\n",
       "(10000, 100000]                2.0           1.0\n",
       "(100000, 1000000]              3.0           NaN\n",
       "(1000000, 10000000]            4.0           NaN"
      ]
     },
     "execution_count": 138,
     "metadata": {},
     "output_type": "execute_result"
    }
   ],
   "source": [
    "grouped = fec_mrbo.groupby(['cand_nm', labels])\n",
    "grouped.size().unstack(0)"
   ]
  },
  {
   "cell_type": "code",
   "execution_count": 139,
   "metadata": {
    "ExecuteTime": {
     "end_time": "2017-10-24T08:12:48.674432Z",
     "start_time": "2017-10-24T08:12:48.662399Z"
    }
   },
   "outputs": [
    {
     "data": {
      "text/html": [
       "<div>\n",
       "<style>\n",
       "    .dataframe thead tr:only-child th {\n",
       "        text-align: right;\n",
       "    }\n",
       "\n",
       "    .dataframe thead th {\n",
       "        text-align: left;\n",
       "    }\n",
       "\n",
       "    .dataframe tbody tr th {\n",
       "        vertical-align: top;\n",
       "    }\n",
       "</style>\n",
       "<table border=\"1\" class=\"dataframe\">\n",
       "  <thead>\n",
       "    <tr style=\"text-align: right;\">\n",
       "      <th>cand_nm</th>\n",
       "      <th>Obama, Barack</th>\n",
       "      <th>Romney, Mitt</th>\n",
       "    </tr>\n",
       "    <tr>\n",
       "      <th>contb_receipt_amt</th>\n",
       "      <th></th>\n",
       "      <th></th>\n",
       "    </tr>\n",
       "  </thead>\n",
       "  <tbody>\n",
       "    <tr>\n",
       "      <th>(0, 1]</th>\n",
       "      <td>318.24</td>\n",
       "      <td>77.00</td>\n",
       "    </tr>\n",
       "    <tr>\n",
       "      <th>(1, 10]</th>\n",
       "      <td>337267.62</td>\n",
       "      <td>29819.66</td>\n",
       "    </tr>\n",
       "    <tr>\n",
       "      <th>(10, 100]</th>\n",
       "      <td>20288981.41</td>\n",
       "      <td>1987783.76</td>\n",
       "    </tr>\n",
       "    <tr>\n",
       "      <th>(100, 1000]</th>\n",
       "      <td>54798531.46</td>\n",
       "      <td>22363381.69</td>\n",
       "    </tr>\n",
       "    <tr>\n",
       "      <th>(1000, 10000]</th>\n",
       "      <td>51753705.67</td>\n",
       "      <td>63942145.42</td>\n",
       "    </tr>\n",
       "    <tr>\n",
       "      <th>(10000, 100000]</th>\n",
       "      <td>59100.00</td>\n",
       "      <td>12700.00</td>\n",
       "    </tr>\n",
       "    <tr>\n",
       "      <th>(100000, 1000000]</th>\n",
       "      <td>1490683.08</td>\n",
       "      <td>NaN</td>\n",
       "    </tr>\n",
       "    <tr>\n",
       "      <th>(1000000, 10000000]</th>\n",
       "      <td>7148839.76</td>\n",
       "      <td>NaN</td>\n",
       "    </tr>\n",
       "  </tbody>\n",
       "</table>\n",
       "</div>"
      ],
      "text/plain": [
       "cand_nm              Obama, Barack  Romney, Mitt\n",
       "contb_receipt_amt                               \n",
       "(0, 1]                      318.24         77.00\n",
       "(1, 10]                  337267.62      29819.66\n",
       "(10, 100]              20288981.41    1987783.76\n",
       "(100, 1000]            54798531.46   22363381.69\n",
       "(1000, 10000]          51753705.67   63942145.42\n",
       "(10000, 100000]           59100.00      12700.00\n",
       "(100000, 1000000]       1490683.08           NaN\n",
       "(1000000, 10000000]     7148839.76           NaN"
      ]
     },
     "execution_count": 139,
     "metadata": {},
     "output_type": "execute_result"
    }
   ],
   "source": [
    "bucket_sums = grouped.contb_receipt_amt.sum().unstack(0)\n",
    "bucket_sums"
   ]
  },
  {
   "cell_type": "code",
   "execution_count": 140,
   "metadata": {
    "ExecuteTime": {
     "end_time": "2017-10-24T08:12:48.773698Z",
     "start_time": "2017-10-24T08:12:48.675433Z"
    }
   },
   "outputs": [
    {
     "data": {
      "text/html": [
       "<div>\n",
       "<style>\n",
       "    .dataframe thead tr:only-child th {\n",
       "        text-align: right;\n",
       "    }\n",
       "\n",
       "    .dataframe thead th {\n",
       "        text-align: left;\n",
       "    }\n",
       "\n",
       "    .dataframe tbody tr th {\n",
       "        vertical-align: top;\n",
       "    }\n",
       "</style>\n",
       "<table border=\"1\" class=\"dataframe\">\n",
       "  <thead>\n",
       "    <tr style=\"text-align: right;\">\n",
       "      <th>cand_nm</th>\n",
       "      <th>Obama, Barack</th>\n",
       "      <th>Romney, Mitt</th>\n",
       "    </tr>\n",
       "    <tr>\n",
       "      <th>contb_receipt_amt</th>\n",
       "      <th></th>\n",
       "      <th></th>\n",
       "    </tr>\n",
       "  </thead>\n",
       "  <tbody>\n",
       "    <tr>\n",
       "      <th>(0, 1]</th>\n",
       "      <td>0.805182</td>\n",
       "      <td>0.194818</td>\n",
       "    </tr>\n",
       "    <tr>\n",
       "      <th>(1, 10]</th>\n",
       "      <td>0.918767</td>\n",
       "      <td>0.081233</td>\n",
       "    </tr>\n",
       "    <tr>\n",
       "      <th>(10, 100]</th>\n",
       "      <td>0.910769</td>\n",
       "      <td>0.089231</td>\n",
       "    </tr>\n",
       "    <tr>\n",
       "      <th>(100, 1000]</th>\n",
       "      <td>0.710176</td>\n",
       "      <td>0.289824</td>\n",
       "    </tr>\n",
       "    <tr>\n",
       "      <th>(1000, 10000]</th>\n",
       "      <td>0.447326</td>\n",
       "      <td>0.552674</td>\n",
       "    </tr>\n",
       "    <tr>\n",
       "      <th>(10000, 100000]</th>\n",
       "      <td>0.823120</td>\n",
       "      <td>0.176880</td>\n",
       "    </tr>\n",
       "    <tr>\n",
       "      <th>(100000, 1000000]</th>\n",
       "      <td>1.000000</td>\n",
       "      <td>NaN</td>\n",
       "    </tr>\n",
       "    <tr>\n",
       "      <th>(1000000, 10000000]</th>\n",
       "      <td>1.000000</td>\n",
       "      <td>NaN</td>\n",
       "    </tr>\n",
       "  </tbody>\n",
       "</table>\n",
       "</div>"
      ],
      "text/plain": [
       "cand_nm              Obama, Barack  Romney, Mitt\n",
       "contb_receipt_amt                               \n",
       "(0, 1]                    0.805182      0.194818\n",
       "(1, 10]                   0.918767      0.081233\n",
       "(10, 100]                 0.910769      0.089231\n",
       "(100, 1000]               0.710176      0.289824\n",
       "(1000, 10000]             0.447326      0.552674\n",
       "(10000, 100000]           0.823120      0.176880\n",
       "(100000, 1000000]         1.000000           NaN\n",
       "(1000000, 10000000]       1.000000           NaN"
      ]
     },
     "execution_count": 140,
     "metadata": {},
     "output_type": "execute_result"
    }
   ],
   "source": [
    "normed_sums = bucket_sums.div(bucket_sums.sum(axis=1), axis=0)\n",
    "normed_sums"
   ]
  },
  {
   "cell_type": "code",
   "execution_count": 141,
   "metadata": {
    "ExecuteTime": {
     "end_time": "2017-10-24T08:12:48.977242Z",
     "start_time": "2017-10-24T08:12:48.775703Z"
    }
   },
   "outputs": [
    {
     "data": {
      "text/plain": [
       "<matplotlib.axes._subplots.AxesSubplot at 0x25193a238d0>"
      ]
     },
     "execution_count": 141,
     "metadata": {},
     "output_type": "execute_result"
    },
    {
     "data": {
      "image/png": "[encoded data removed]",
      "text/plain": [
       "<matplotlib.figure.Figure at 0x25193a0cb00>"
      ]
     },
     "metadata": {},
     "output_type": "display_data"
    }
   ],
   "source": [
    "normed_sums[:-2].plot(kind='barh', stacked=True)"
   ]
  },
  {
   "cell_type": "markdown",
   "metadata": {},
   "source": [
    "### 9.5.3 州別の寄付金の統計"
   ]
  },
  {
   "cell_type": "code",
   "execution_count": 142,
   "metadata": {
    "ExecuteTime": {
     "end_time": "2017-10-24T08:12:49.107588Z",
     "start_time": "2017-10-24T08:12:48.978243Z"
    }
   },
   "outputs": [
    {
     "data": {
      "text/html": [
       "<div>\n",
       "<style>\n",
       "    .dataframe thead tr:only-child th {\n",
       "        text-align: right;\n",
       "    }\n",
       "\n",
       "    .dataframe thead th {\n",
       "        text-align: left;\n",
       "    }\n",
       "\n",
       "    .dataframe tbody tr th {\n",
       "        vertical-align: top;\n",
       "    }\n",
       "</style>\n",
       "<table border=\"1\" class=\"dataframe\">\n",
       "  <thead>\n",
       "    <tr style=\"text-align: right;\">\n",
       "      <th>cand_nm</th>\n",
       "      <th>Obama, Barack</th>\n",
       "      <th>Romney, Mitt</th>\n",
       "    </tr>\n",
       "    <tr>\n",
       "      <th>contbr_st</th>\n",
       "      <th></th>\n",
       "      <th></th>\n",
       "    </tr>\n",
       "  </thead>\n",
       "  <tbody>\n",
       "    <tr>\n",
       "      <th>AK</th>\n",
       "      <td>281840.15</td>\n",
       "      <td>86204.24</td>\n",
       "    </tr>\n",
       "    <tr>\n",
       "      <th>AL</th>\n",
       "      <td>543123.48</td>\n",
       "      <td>527303.51</td>\n",
       "    </tr>\n",
       "    <tr>\n",
       "      <th>AR</th>\n",
       "      <td>359247.28</td>\n",
       "      <td>105556.00</td>\n",
       "    </tr>\n",
       "    <tr>\n",
       "      <th>AZ</th>\n",
       "      <td>1506476.98</td>\n",
       "      <td>1888436.23</td>\n",
       "    </tr>\n",
       "    <tr>\n",
       "      <th>CA</th>\n",
       "      <td>23824984.24</td>\n",
       "      <td>11237636.60</td>\n",
       "    </tr>\n",
       "    <tr>\n",
       "      <th>CO</th>\n",
       "      <td>2132429.49</td>\n",
       "      <td>1506714.12</td>\n",
       "    </tr>\n",
       "    <tr>\n",
       "      <th>CT</th>\n",
       "      <td>2068291.26</td>\n",
       "      <td>3499475.45</td>\n",
       "    </tr>\n",
       "    <tr>\n",
       "      <th>DC</th>\n",
       "      <td>4373538.80</td>\n",
       "      <td>1025137.50</td>\n",
       "    </tr>\n",
       "    <tr>\n",
       "      <th>DE</th>\n",
       "      <td>336669.14</td>\n",
       "      <td>82712.00</td>\n",
       "    </tr>\n",
       "    <tr>\n",
       "      <th>FL</th>\n",
       "      <td>7318178.58</td>\n",
       "      <td>8338458.81</td>\n",
       "    </tr>\n",
       "  </tbody>\n",
       "</table>\n",
       "</div>"
      ],
      "text/plain": [
       "cand_nm    Obama, Barack  Romney, Mitt\n",
       "contbr_st                             \n",
       "AK             281840.15      86204.24\n",
       "AL             543123.48     527303.51\n",
       "AR             359247.28     105556.00\n",
       "AZ            1506476.98    1888436.23\n",
       "CA           23824984.24   11237636.60\n",
       "CO            2132429.49    1506714.12\n",
       "CT            2068291.26    3499475.45\n",
       "DC            4373538.80    1025137.50\n",
       "DE             336669.14      82712.00\n",
       "FL            7318178.58    8338458.81"
      ]
     },
     "execution_count": 142,
     "metadata": {},
     "output_type": "execute_result"
    }
   ],
   "source": [
    "grouped = fec_mrbo.groupby(['cand_nm', 'contbr_st'])\n",
    "totals = grouped.contb_receipt_amt.sum().unstack(0).fillna(0)\n",
    "totals = totals[totals.sum(1) > 100000]\n",
    "totals[:10]"
   ]
  },
  {
   "cell_type": "code",
   "execution_count": 143,
   "metadata": {
    "ExecuteTime": {
     "end_time": "2017-10-24T08:12:49.117616Z",
     "start_time": "2017-10-24T08:12:49.109594Z"
    }
   },
   "outputs": [
    {
     "data": {
      "text/html": [
       "<div>\n",
       "<style>\n",
       "    .dataframe thead tr:only-child th {\n",
       "        text-align: right;\n",
       "    }\n",
       "\n",
       "    .dataframe thead th {\n",
       "        text-align: left;\n",
       "    }\n",
       "\n",
       "    .dataframe tbody tr th {\n",
       "        vertical-align: top;\n",
       "    }\n",
       "</style>\n",
       "<table border=\"1\" class=\"dataframe\">\n",
       "  <thead>\n",
       "    <tr style=\"text-align: right;\">\n",
       "      <th>cand_nm</th>\n",
       "      <th>Obama, Barack</th>\n",
       "      <th>Romney, Mitt</th>\n",
       "    </tr>\n",
       "    <tr>\n",
       "      <th>contbr_st</th>\n",
       "      <th></th>\n",
       "      <th></th>\n",
       "    </tr>\n",
       "  </thead>\n",
       "  <tbody>\n",
       "    <tr>\n",
       "      <th>AK</th>\n",
       "      <td>0.765778</td>\n",
       "      <td>0.234222</td>\n",
       "    </tr>\n",
       "    <tr>\n",
       "      <th>AL</th>\n",
       "      <td>0.507390</td>\n",
       "      <td>0.492610</td>\n",
       "    </tr>\n",
       "    <tr>\n",
       "      <th>AR</th>\n",
       "      <td>0.772902</td>\n",
       "      <td>0.227098</td>\n",
       "    </tr>\n",
       "    <tr>\n",
       "      <th>AZ</th>\n",
       "      <td>0.443745</td>\n",
       "      <td>0.556255</td>\n",
       "    </tr>\n",
       "    <tr>\n",
       "      <th>CA</th>\n",
       "      <td>0.679498</td>\n",
       "      <td>0.320502</td>\n",
       "    </tr>\n",
       "    <tr>\n",
       "      <th>CO</th>\n",
       "      <td>0.585970</td>\n",
       "      <td>0.414030</td>\n",
       "    </tr>\n",
       "    <tr>\n",
       "      <th>CT</th>\n",
       "      <td>0.371476</td>\n",
       "      <td>0.628524</td>\n",
       "    </tr>\n",
       "    <tr>\n",
       "      <th>DC</th>\n",
       "      <td>0.810113</td>\n",
       "      <td>0.189887</td>\n",
       "    </tr>\n",
       "    <tr>\n",
       "      <th>DE</th>\n",
       "      <td>0.802776</td>\n",
       "      <td>0.197224</td>\n",
       "    </tr>\n",
       "    <tr>\n",
       "      <th>FL</th>\n",
       "      <td>0.467417</td>\n",
       "      <td>0.532583</td>\n",
       "    </tr>\n",
       "  </tbody>\n",
       "</table>\n",
       "</div>"
      ],
      "text/plain": [
       "cand_nm    Obama, Barack  Romney, Mitt\n",
       "contbr_st                             \n",
       "AK              0.765778      0.234222\n",
       "AL              0.507390      0.492610\n",
       "AR              0.772902      0.227098\n",
       "AZ              0.443745      0.556255\n",
       "CA              0.679498      0.320502\n",
       "CO              0.585970      0.414030\n",
       "CT              0.371476      0.628524\n",
       "DC              0.810113      0.189887\n",
       "DE              0.802776      0.197224\n",
       "FL              0.467417      0.532583"
      ]
     },
     "execution_count": 143,
     "metadata": {},
     "output_type": "execute_result"
    }
   ],
   "source": [
    "percent = totals.div(totals.sum(1), axis=0)\n",
    "percent[:10]"
   ]
  },
  {
   "cell_type": "code",
   "execution_count": null,
   "metadata": {
    "collapsed": true
   },
   "outputs": [],
   "source": []
  },
  {
   "cell_type": "code",
   "execution_count": null,
   "metadata": {
    "collapsed": true
   },
   "outputs": [],
   "source": []
  }
 ],
 "metadata": {
  "kernelspec": {
   "display_name": "Python 3",
   "language": "python",
   "name": "python3"
  },
  "language_info": {
   "codemirror_mode": {
    "name": "ipython",
    "version": 3
   },
   "file_extension": ".py",
   "mimetype": "text/x-python",
   "name": "python",
   "nbconvert_exporter": "python",
   "pygments_lexer": "ipython3",
   "version": "3.6.1"
  },
  "toc": {
   "colors": {
    "hover_highlight": "#DAA520",
    "navigate_num": "#000000",
    "navigate_text": "#333333",
    "running_highlight": "#FF0000",
    "selected_highlight": "#FFD700",
    "sidebar_border": "#EEEEEE",
    "wrapper_background": "#FFFFFF"
   },
   "moveMenuLeft": true,
   "nav_menu": {
    "height": "470px",
    "width": "252px"
   },
   "navigate_menu": true,
   "number_sections": true,
   "sideBar": true,
   "threshold": 4,
   "toc_cell": false,
   "toc_position": {
    "height": "522px",
    "left": "0px",
    "right": "770.4px",
    "top": "67px",
    "width": "212px"
   },
   "toc_section_display": "block",
   "toc_window_display": true,
   "widenNotebook": false
  },
  "varInspector": {
   "cols": {
    "lenName": 16,
    "lenType": 16,
    "lenVar": 40
   },
   "kernels_config": {
    "python": {
     "delete_cmd_postfix": "",
     "delete_cmd_prefix": "del ",
     "library": "var_list.py",
     "varRefreshCmd": "print(var_dic_list())"
    },
    "r": {
     "delete_cmd_postfix": ") ",
     "delete_cmd_prefix": "rm(",
     "library": "var_list.r",
     "varRefreshCmd": "cat(var_dic_list()) "
    }
   },
   "types_to_exclude": [
    "module",
    "function",
    "builtin_function_or_method",
    "instance",
    "_Feature"
   ],
   "window_display": false
  }
 },
 "nbformat": 4,
 "nbformat_minor": 1
}
